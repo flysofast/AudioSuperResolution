{
  "nbformat": 4,
  "nbformat_minor": 0,
  "metadata": {
    "colab": {
      "name": "SRCNN_audio.ipynb",
      "version": "0.3.2",
      "provenance": [],
      "collapsed_sections": [
        "ihzW3VlGDy0_"
      ],
      "toc_visible": true
    },
    "kernelspec": {
      "name": "python3",
      "display_name": "Python 3"
    },
    "accelerator": "GPU"
  },
  "cells": [
    {
      "metadata": {
        "id": "OeHavQi-DqeL",
        "colab_type": "text"
      },
      "cell_type": "markdown",
      "source": [
        "# **Dependencies installation and Google Colab project setup**"
      ]
    },
    {
      "metadata": {
        "id": "Yjib4MMdSzkZ",
        "colab_type": "text"
      },
      "cell_type": "markdown",
      "source": [
        " **Install depedencies**"
      ]
    },
    {
      "metadata": {
        "id": "8numw3weCJja",
        "colab_type": "code",
        "outputId": "2ead605d-64a2-4a8c-ec22-98fe998f2179",
        "colab": {
          "base_uri": "https://localhost:8080/",
          "height": 552
        }
      },
      "cell_type": "code",
      "source": [
        "!pip install pydrive\n",
        "!pip install pydub\n",
        "!pip install soundfile\n",
        "\n",
        "from pydrive.auth import GoogleAuth\n",
        "from pydrive.drive import GoogleDrive\n",
        "from google.colab import auth\n",
        "from oauth2client.client import GoogleCredentials"
      ],
      "execution_count": 1,
      "outputs": [
        {
          "output_type": "stream",
          "text": [
            "Collecting pydrive\n",
            "\u001b[?25l  Downloading https://files.pythonhosted.org/packages/52/e0/0e64788e5dd58ce2d6934549676243dc69d982f198524be9b99e9c2a4fd5/PyDrive-1.3.1.tar.gz (987kB)\n",
            "\u001b[K    100% |████████████████████████████████| 993kB 22.3MB/s \n",
            "\u001b[?25hRequirement already satisfied: google-api-python-client>=1.2 in /usr/local/lib/python3.6/dist-packages (from pydrive) (1.6.7)\n",
            "Requirement already satisfied: oauth2client>=4.0.0 in /usr/local/lib/python3.6/dist-packages (from pydrive) (4.1.3)\n",
            "Requirement already satisfied: PyYAML>=3.0 in /usr/local/lib/python3.6/dist-packages (from pydrive) (3.13)\n",
            "Requirement already satisfied: six<2dev,>=1.6.1 in /usr/local/lib/python3.6/dist-packages (from google-api-python-client>=1.2->pydrive) (1.12.0)\n",
            "Requirement already satisfied: uritemplate<4dev,>=3.0.0 in /usr/local/lib/python3.6/dist-packages (from google-api-python-client>=1.2->pydrive) (3.0.0)\n",
            "Requirement already satisfied: httplib2<1dev,>=0.9.2 in /usr/local/lib/python3.6/dist-packages (from google-api-python-client>=1.2->pydrive) (0.11.3)\n",
            "Requirement already satisfied: pyasn1-modules>=0.0.5 in /usr/local/lib/python3.6/dist-packages (from oauth2client>=4.0.0->pydrive) (0.2.4)\n",
            "Requirement already satisfied: rsa>=3.1.4 in /usr/local/lib/python3.6/dist-packages (from oauth2client>=4.0.0->pydrive) (4.0)\n",
            "Requirement already satisfied: pyasn1>=0.1.7 in /usr/local/lib/python3.6/dist-packages (from oauth2client>=4.0.0->pydrive) (0.4.5)\n",
            "Building wheels for collected packages: pydrive\n",
            "  Building wheel for pydrive (setup.py) ... \u001b[?25ldone\n",
            "\u001b[?25h  Stored in directory: /root/.cache/pip/wheels/fa/d2/9a/d3b6b506c2da98289e5d417215ce34b696db856643bad779f4\n",
            "Successfully built pydrive\n",
            "Installing collected packages: pydrive\n",
            "Successfully installed pydrive-1.3.1\n",
            "Collecting pydub\n",
            "  Downloading https://files.pythonhosted.org/packages/79/db/eaf620b73a1eec3c8c6f8f5b0b236a50f9da88ad57802154b7ba7664d0b8/pydub-0.23.1-py2.py3-none-any.whl\n",
            "Installing collected packages: pydub\n",
            "Successfully installed pydub-0.23.1\n",
            "Collecting soundfile\n",
            "  Downloading https://files.pythonhosted.org/packages/68/64/1191352221e2ec90db7492b4bf0c04fd9d2508de67b3f39cbf093cd6bd86/SoundFile-0.10.2-py2.py3-none-any.whl\n",
            "Requirement already satisfied: cffi>=1.0 in /usr/local/lib/python3.6/dist-packages (from soundfile) (1.12.3)\n",
            "Requirement already satisfied: pycparser in /usr/local/lib/python3.6/dist-packages (from cffi>=1.0->soundfile) (2.19)\n",
            "Installing collected packages: soundfile\n",
            "Successfully installed soundfile-0.10.2\n"
          ],
          "name": "stdout"
        }
      ]
    },
    {
      "metadata": {
        "id": "q0DKLODpS91N",
        "colab_type": "text"
      },
      "cell_type": "markdown",
      "source": [
        "**Files setup**"
      ]
    },
    {
      "metadata": {
        "id": "lhasdAwYTJrS",
        "colab_type": "code",
        "colab": {
          "base_uri": "https://localhost:8080/",
          "height": 85
        },
        "outputId": "f0ba7c84-40d8-4762-de4b-5d241b173759"
      },
      "cell_type": "code",
      "source": [
        "# https://drive.google.com/open?id=1e9EZ3ZA6k2Qij3EnmGVrMLSKo9hcCxSp\n",
        "# https://drive.google.com/open?id=1aVE-RIMYgQLykn55nF8XzY82AJPVUiWi\n",
        "# https://drive.google.com/open?id=1DjOTVdqhQWHA6MmYeogileqc8Y0kEZB6\n",
        "# https://drive.google.com/open?id=1_GcDEd4cxxQUKJ4Nqoae63FHtnP5ndbh\n",
        "filenames = ['features.hdf5', '1.wav','mono_1_stereo_LQ.wav','mono_1_stereo_HQ']\n",
        "# https://drive.google.com/open?id=1Ae1WQspnvC2wNz2ywQ0238_E2SlZpaGr\n",
        "ids = ['1rtxU9VHllQSYoC7J9sxCm6KKf7UMsfvO', '1_OmHV0rVNyfbzZgxnYzbgS-ozzJ-OlHo','1UCmJvf67RUsFgYzLljS4a3T6Q0N5EBRi','1aVE-RIMYgQLykn55nF8XzY82AJPVUiWi'] # ids of the corresponding files uploaded to google drive\n",
        "for i in range(len(ids)):\n",
        "  # Authenticate and create the PyDrive client.\n",
        "  auth.authenticate_user()\n",
        "  gauth = GoogleAuth()\n",
        "  gauth.credentials = GoogleCredentials.get_application_default()\n",
        "  drive = GoogleDrive(gauth)\n",
        "#   link = \n",
        "#   fluff, id = link.split('=')\n",
        "  print (ids[i]) # Verify that you have everything after '='\n",
        "  downloaded = drive.CreateFile({'id':ids[i]}) \n",
        "  downloaded.GetContentFile(filenames[i]) \n",
        "  # os.environ['KMP_DUPLICATE_LIB_OK']='True'\n",
        "  features_filename = filenames[0]\n",
        "  input_filename = filenames[2]\n",
        "  groundtruth_filenam = filenames[3]"
      ],
      "execution_count": 10,
      "outputs": [
        {
          "output_type": "stream",
          "text": [
            "1rtxU9VHllQSYoC7J9sxCm6KKf7UMsfvO\n",
            "1_OmHV0rVNyfbzZgxnYzbgS-ozzJ-OlHo\n",
            "1UCmJvf67RUsFgYzLljS4a3T6Q0N5EBRi\n",
            "1aVE-RIMYgQLykn55nF8XzY82AJPVUiWi\n"
          ],
          "name": "stdout"
        }
      ]
    },
    {
      "metadata": {
        "id": "FFXvDmmCDSGn",
        "colab_type": "text"
      },
      "cell_type": "markdown",
      "source": [
        "# **Features extraction and train the model**\n"
      ]
    },
    {
      "metadata": {
        "id": "tSP82RCxKb_j",
        "colab_type": "text"
      },
      "cell_type": "markdown",
      "source": [
        "**Function definitions:**"
      ]
    },
    {
      "metadata": {
        "id": "TFfPpl4OMCWk",
        "colab_type": "code",
        "colab": {}
      },
      "cell_type": "code",
      "source": [
        "#%%\n",
        "import os\n",
        "import soundfile as sf\n",
        "from scipy import signal\n",
        "import numpy as np\n",
        "import matplotlib.pyplot as plt\n",
        "from keras.layers.convolutional import Conv2D, MaxPooling2D\n",
        "from keras.models import Sequential\n",
        "from keras.layers.core import Dense, Activation, Flatten\n",
        "from sklearn.model_selection import train_test_split\n",
        "from keras.optimizers import SGD, Adam\n",
        "from keras.callbacks import ModelCheckpoint,EarlyStopping\n",
        "import h5py\n",
        "from pydub import AudioSegment\n",
        "import os\n",
        "import datetime\n",
        "from scipy.io.wavfile import write\n",
        "\n",
        "#Feature extraction\n",
        "def feature_extraction(x,fs):\n",
        "\n",
        "\tframe_length_s = 0.04 # window length in seconds\n",
        "\tframe_length = int(fs*frame_length_s) # 40ms window length in samples\n",
        "\t# set an overlap ratio of 50 %\n",
        "\thop_length = frame_length//2\n",
        "\n",
        "\t# Compute STFT\n",
        "\t_,_,X = signal.stft(x, noverlap=hop_length, fs=fs,nperseg=frame_length)\n",
        "\tnumber_frequencies, number_time_frames = X.shape\n",
        "\tphaseInfo = np.angle(X)\n",
        "\tX = np.abs(X)\n",
        "\n",
        "\t# Segmentation\n",
        "\tsample_length_s = 0.5 # segment length in seconds\n",
        "\tsample_length = int(sample_length_s/frame_length_s) # ~1s in samples\n",
        "\n",
        "\t# Trim the frames that can't be fitted into the segment size\n",
        "\ttrimmed_X = X[:, :-(number_time_frames%sample_length)]\n",
        "\ttrimmed_phaseInfo = phaseInfo[:, :-(number_time_frames%sample_length)]\n",
        "\n",
        "\t# Segmentation (number of freqs x number of frames x number of segment x 1). The last dimension is 'channel'.\n",
        "\tfeatures = trimmed_X.reshape((number_frequencies,sample_length,-1,1), order='F')\n",
        "\t# Transpose the feature to be in form (number of segment x number of freqs x number of frames x 1)\n",
        "\treturn trimmed_phaseInfo,features.transpose((2,0,1,3))\n",
        "\n",
        "#Converts stereo wav to mono wav\n",
        "def file_process(file_path):\n",
        "\tfolderpath, filename = os.path.split(file_path)\n",
        "\tsound = AudioSegment.from_wav(file_path)\n",
        "\tsound = sound.set_channels(1)\n",
        "\tsound.export(os.path.join(mono_folder,'mono_'+filename), format=\"wav\")\n",
        "\n",
        "\n",
        "\t# #%% --------Spectrogram--------------\n",
        "\t# # The whole file spectrogram------------------\n",
        "\t# to_be_plotted = trimmed_X\n",
        "\t\t# duration = len(x)/float(fs)\n",
        "\t# freq_scale = np.linspace(0, fs / 2, to_be_plotted.shape[0])\n",
        "\t# timeframe_scale = np.linspace(0, duration, to_be_plotted.shape[1])\n",
        "\n",
        "\t# # plot spectrogram (amplitude only)\n",
        "\t# W = np.abs(to_be_plotted)\n",
        "\t# plt.figure()\n",
        "\t# plt.subplot(2,1,1)\n",
        "\t# plt.pcolormesh(timeframe_scale, freq_scale, np.log(W+0.00001))\n",
        "\t# plt.xlabel('Time (s)')\n",
        "\t# plt.ylabel('Frequency (Hz)')\n",
        "\t# plt.title('Entire file Spectrogram (log scale)')\n",
        "\t# plt.tight_layout()\n",
        "\n",
        "\t# # First batch spectrogram--------------\n",
        "\t# freq_scale = np.linspace(0, fs / 2, number_frequencies)\n",
        "\t# timeframe_scale = np.linspace(0, segment_length*frame_length_s, segment_length)\n",
        "\t# # plot spectrogram (amplitude only)\n",
        "\t# W = np.abs(features[50])\n",
        "\t# plt.subplot(2,1,2)\n",
        "\t# plt.pcolormesh(timeframe_scale, freq_scale, np.log(W+0.00001))\n",
        "\t# plt.xlabel('Time (s)')\n",
        "\t# plt.ylabel('Frequency (Hz)')\n",
        "\t# plt.title('First batch spectrogram (log scale)')\n",
        "\t# plt.tight_layout()\n",
        "\t# plt.show()\n",
        "\n",
        "#%%---Convert to mp3------\n",
        "# AudioSegment.from_wav(mono_filepath).export(mp3_filepath, format=\"mp3\")\n",
        "#%%---------Test extract features-----------\n",
        "\n",
        "\n",
        "def save_features(X_train,X_test,y_train,y_test):\n",
        "\n",
        "\twith h5py.File(features_filename, 'w') as f:\n",
        "\t\tf.create_dataset('X_train', data=X_train)\n",
        "\t\tf.create_dataset('X_test', data=X_test)\n",
        "\t\tf.create_dataset('y_train', data=y_train)\n",
        "\t\tf.create_dataset('y_test', data=y_test)\n",
        "\n",
        "#%% -----Read data-----------\n",
        "\n",
        "def read_features():\n",
        "\twith h5py.File(features_filename, 'r') as f:\n",
        "\t\t\tX_train = f.get('X_train').value\n",
        "\t\t\tX_test = f.get('X_test').value\n",
        "\t\t\ty_train = f.get('y_train').value\n",
        "\t\t\ty_test = f.get('y_test').value\n",
        "\treturn X_train, y_train, X_test, y_test\n",
        "\n",
        "\n",
        "#%%---------CNN Model-------\n",
        "\n",
        "def get_model(features_shape):\n",
        "\tinput_shape = (features_shape[1],features_shape[2], 1)# (number of freqs x number of frames in a segment x number of channels)\n",
        "\tmodel = Sequential()\n",
        "\tmodel.add(Conv2D(32, (5, 5),\n",
        "\t\t\tinput_shape=input_shape,\n",
        "\t\t\tactivation = \"relu\",\n",
        "\t\t\tpadding = \"same\"))\n",
        "\t# model.add(MaxPooling2D(pool_size=(4, 4)))\n",
        "\tmodel.add(Conv2D(64, (5, 5),\n",
        "\t\t\tactivation = \"relu\",\n",
        "\t\t\tpadding = \"same\"))\n",
        "\t\t\t\n",
        "\tmodel.add(Conv2D(1, (10, 10),\n",
        "\t\t\tactivation = \"relu\",\n",
        "\t\t\tpadding = \"same\"))\n",
        "\n",
        "\tadam = Adam(lr=0.0003)\n",
        "\tmodel.compile(optimizer=adam, loss='mean_absolute_error', metrics=['mean_absolute_error'])\n",
        "\tmodel.summary()\n",
        "\treturn model\n",
        "\n",
        "def get_model(features_shape):\n",
        "\tinput_shape = (features_shape[1],features_shape[2], 1)# (number of freqs x number of frames in a segment x number of channels)\n",
        "\tmodel = Sequential()\n",
        "\tmodel.add(Conv2D(32, (5, 5),\n",
        "\t\t\tinput_shape=input_shape,\n",
        "\t\t\tactivation = \"relu\",\n",
        "\t\t\tpadding = \"same\"))\n",
        "\t# model.add(MaxPooling2D(pool_size=(4, 4)))\n",
        "\tmodel.add(Conv2D(64, (5, 5),\n",
        "\t\t\tactivation = \"relu\",\n",
        "\t\t\tpadding = \"same\"))\n",
        "\t\t\t\n",
        "\tmodel.add(Conv2D(1, (10, 10),\n",
        "\t\t\tactivation = \"relu\",\n",
        "\t\t\tpadding = \"same\"))\n",
        "\n",
        "\tadam = Adam(lr=0.0003)\n",
        "\tmodel.compile(optimizer=adam, loss='mean_absolute_error', metrics=['mean_absolute_error'])\n",
        "\tmodel.summary()\n",
        "\treturn model\n",
        "\n",
        "\n",
        "def reconstruct(y,fs,model):    \n",
        "\tphaseInfo,feat = feature_extraction(y,fs)\n",
        "\tyhat = model.predict(feat)\n",
        "\t\n",
        "\t#------RECONSTRUCT THE AUDIO--------\n",
        "\t# Restore to the original shape\n",
        "\tyrec = yhat.transpose((1,2,0,3))\n",
        "\tyrec = yrec.reshape((yrec.shape[0],-1), order='F')\n",
        "\n",
        "\t# Save output file\n",
        "\t_, xrec = signal.istft(yrec, fs)\n",
        "\twrite(\"output.wav\",fs,xrec)\n",
        "\tprint('Output without phase info was saved.')\n",
        "\n",
        "\tyrec = yrec * np.exp(1j*phaseInfo)\n",
        "\t# Save output file\n",
        "\t_, xrec = signal.istft(yrec, fs)\n",
        "\twrite(\"output_with_phase.wav\",fs,xrec)\n",
        "\tprint('Output with phase info was saved.')\n"
      ],
      "execution_count": 0,
      "outputs": []
    },
    {
      "metadata": {
        "id": "o6Fo2mtxMw3s",
        "colab_type": "text"
      },
      "cell_type": "markdown",
      "source": [
        "**Extract features**"
      ]
    },
    {
      "metadata": {
        "id": "AiWfJAcnMztd",
        "colab_type": "code",
        "colab": {}
      },
      "cell_type": "code",
      "source": [
        "# Read from file\n",
        " X_train, y_train, X_test, y_test = read_features()\n",
        "\n",
        "# Extract features manually\n",
        "# x1, fs = sf.read(groundtruth_filenam)\n",
        "# _,groundtruth_features = feature_extraction(x1,fs)\n",
        "\n",
        "# x2, fs = sf.read(input_filename)\n",
        "# _ ,input_features = feature_extraction(x2,fs)\n",
        "\n",
        "# X_train,X_test,y_train,y_test = train_test_split(input_features,groundtruth_features,test_size=0.2)\n",
        "# save_features(X_train,X_test,y_train,y_test)\n",
        "\n"
      ],
      "execution_count": 0,
      "outputs": []
    },
    {
      "metadata": {
        "id": "qZzrlDEeKhYk",
        "colab_type": "text"
      },
      "cell_type": "markdown",
      "source": [
        "**Train the model:**"
      ]
    },
    {
      "metadata": {
        "id": "G14LAerXKka_",
        "colab_type": "code",
        "outputId": "027ffc3e-d3d1-4911-c3a8-b84b6553fb06",
        "colab": {
          "base_uri": "https://localhost:8080/",
          "height": 6140
        }
      },
      "cell_type": "code",
      "source": [
        "model = get_model(y_train.shape)\n",
        "\n",
        "model_filename = 'SRCNN_{date:%Y-%m-%d %H:%M:%S}_best.h5'.format( date=datetime.datetime.now())\n",
        "checkpoint = ModelCheckpoint(model_filename, monitor='val_loss', verbose=1, save_best_only=True,\n",
        "                                 save_weights_only=False, mode='min')\n",
        "es = EarlyStopping(monitor='val_loss', mode='min', verbose=1, patience=20)\n",
        "callbacks_list = [checkpoint,es]\n",
        "model.fit(X_train, y_train, batch_size=16, validation_data=(X_test, y_test),\n",
        "                   shuffle=True, epochs=200, callbacks=callbacks_list)\n",
        "model.save('test-{date:%Y-%m-%d %H:%M:%S}.h5'.format( date=datetime.datetime.now() ))\n",
        "\n",
        "#%%"
      ],
      "execution_count": 18,
      "outputs": [
        {
          "output_type": "stream",
          "text": [
            "_________________________________________________________________\n",
            "Layer (type)                 Output Shape              Param #   \n",
            "=================================================================\n",
            "conv2d_16 (Conv2D)           (None, 883, 12, 32)       832       \n",
            "_________________________________________________________________\n",
            "conv2d_17 (Conv2D)           (None, 883, 12, 64)       51264     \n",
            "_________________________________________________________________\n",
            "conv2d_18 (Conv2D)           (None, 883, 12, 1)        6401      \n",
            "=================================================================\n",
            "Total params: 58,497\n",
            "Trainable params: 58,497\n",
            "Non-trainable params: 0\n",
            "_________________________________________________________________\n",
            "Train on 9872 samples, validate on 2468 samples\n",
            "Epoch 1/200\n",
            "9872/9872 [==============================] - 37s 4ms/step - loss: 2.3352e-04 - mean_absolute_error: 2.3352e-04 - val_loss: 8.7628e-05 - val_mean_absolute_error: 8.7628e-05\n",
            "\n",
            "Epoch 00001: val_loss improved from inf to 0.00009, saving model to SRCNN_2019-04-23 18:47:20_best.h5\n",
            "Epoch 2/200\n",
            "9872/9872 [==============================] - 36s 4ms/step - loss: 2.0949e-04 - mean_absolute_error: 2.0949e-04 - val_loss: 6.4760e-05 - val_mean_absolute_error: 6.4760e-05\n",
            "\n",
            "Epoch 00002: val_loss improved from 0.00009 to 0.00006, saving model to SRCNN_2019-04-23 18:47:20_best.h5\n",
            "Epoch 3/200\n",
            "9872/9872 [==============================] - 36s 4ms/step - loss: 1.2201e-04 - mean_absolute_error: 1.2201e-04 - val_loss: 3.3732e-05 - val_mean_absolute_error: 3.3732e-05\n",
            "\n",
            "Epoch 00003: val_loss improved from 0.00006 to 0.00003, saving model to SRCNN_2019-04-23 18:47:20_best.h5\n",
            "Epoch 4/200\n",
            "9872/9872 [==============================] - 36s 4ms/step - loss: 8.3234e-05 - mean_absolute_error: 8.3234e-05 - val_loss: 4.5968e-05 - val_mean_absolute_error: 4.5968e-05\n",
            "\n",
            "Epoch 00004: val_loss did not improve from 0.00003\n",
            "Epoch 5/200\n",
            "9872/9872 [==============================] - 36s 4ms/step - loss: 7.0279e-05 - mean_absolute_error: 7.0279e-05 - val_loss: 1.9339e-05 - val_mean_absolute_error: 1.9339e-05\n",
            "\n",
            "Epoch 00005: val_loss improved from 0.00003 to 0.00002, saving model to SRCNN_2019-04-23 18:47:20_best.h5\n",
            "Epoch 6/200\n",
            "9872/9872 [==============================] - 36s 4ms/step - loss: 5.9182e-05 - mean_absolute_error: 5.9182e-05 - val_loss: 2.1841e-05 - val_mean_absolute_error: 2.1841e-05\n",
            "\n",
            "Epoch 00006: val_loss did not improve from 0.00002\n",
            "Epoch 7/200\n",
            "9872/9872 [==============================] - 36s 4ms/step - loss: 5.3002e-05 - mean_absolute_error: 5.3002e-05 - val_loss: 1.5272e-05 - val_mean_absolute_error: 1.5272e-05\n",
            "\n",
            "Epoch 00007: val_loss improved from 0.00002 to 0.00002, saving model to SRCNN_2019-04-23 18:47:20_best.h5\n",
            "Epoch 8/200\n",
            "9872/9872 [==============================] - 36s 4ms/step - loss: 5.1916e-05 - mean_absolute_error: 5.1916e-05 - val_loss: 2.1838e-05 - val_mean_absolute_error: 2.1838e-05\n",
            "\n",
            "Epoch 00008: val_loss did not improve from 0.00002\n",
            "Epoch 9/200\n",
            "9872/9872 [==============================] - 36s 4ms/step - loss: 4.9382e-05 - mean_absolute_error: 4.9382e-05 - val_loss: 2.4365e-05 - val_mean_absolute_error: 2.4365e-05\n",
            "\n",
            "Epoch 00009: val_loss did not improve from 0.00002\n",
            "Epoch 10/200\n",
            "9872/9872 [==============================] - 36s 4ms/step - loss: 4.9075e-05 - mean_absolute_error: 4.9075e-05 - val_loss: 2.6067e-05 - val_mean_absolute_error: 2.6067e-05\n",
            "\n",
            "Epoch 00010: val_loss did not improve from 0.00002\n",
            "Epoch 11/200\n",
            "9872/9872 [==============================] - 36s 4ms/step - loss: 5.1012e-05 - mean_absolute_error: 5.1012e-05 - val_loss: 1.9533e-05 - val_mean_absolute_error: 1.9533e-05\n",
            "\n",
            "Epoch 00011: val_loss did not improve from 0.00002\n",
            "Epoch 12/200\n",
            "9872/9872 [==============================] - 36s 4ms/step - loss: 4.9438e-05 - mean_absolute_error: 4.9438e-05 - val_loss: 2.2350e-05 - val_mean_absolute_error: 2.2350e-05\n",
            "\n",
            "Epoch 00012: val_loss did not improve from 0.00002\n",
            "Epoch 13/200\n",
            "9872/9872 [==============================] - 36s 4ms/step - loss: 4.8335e-05 - mean_absolute_error: 4.8335e-05 - val_loss: 1.7780e-05 - val_mean_absolute_error: 1.7780e-05\n",
            "\n",
            "Epoch 00013: val_loss did not improve from 0.00002\n",
            "Epoch 14/200\n",
            "9872/9872 [==============================] - 36s 4ms/step - loss: 4.9880e-05 - mean_absolute_error: 4.9880e-05 - val_loss: 1.1760e-05 - val_mean_absolute_error: 1.1760e-05\n",
            "\n",
            "Epoch 00014: val_loss improved from 0.00002 to 0.00001, saving model to SRCNN_2019-04-23 18:47:20_best.h5\n",
            "Epoch 15/200\n",
            "9872/9872 [==============================] - 36s 4ms/step - loss: 4.6526e-05 - mean_absolute_error: 4.6526e-05 - val_loss: 1.2768e-05 - val_mean_absolute_error: 1.2768e-05\n",
            "\n",
            "Epoch 00015: val_loss did not improve from 0.00001\n",
            "Epoch 16/200\n",
            "9872/9872 [==============================] - 36s 4ms/step - loss: 4.8720e-05 - mean_absolute_error: 4.8720e-05 - val_loss: 1.6681e-05 - val_mean_absolute_error: 1.6681e-05\n",
            "\n",
            "Epoch 00016: val_loss did not improve from 0.00001\n",
            "Epoch 17/200\n",
            "9872/9872 [==============================] - 36s 4ms/step - loss: 4.8733e-05 - mean_absolute_error: 4.8733e-05 - val_loss: 1.8606e-05 - val_mean_absolute_error: 1.8606e-05\n",
            "\n",
            "Epoch 00017: val_loss did not improve from 0.00001\n",
            "Epoch 18/200\n",
            "9872/9872 [==============================] - 36s 4ms/step - loss: 4.7244e-05 - mean_absolute_error: 4.7244e-05 - val_loss: 1.1972e-05 - val_mean_absolute_error: 1.1972e-05\n",
            "\n",
            "Epoch 00018: val_loss did not improve from 0.00001\n",
            "Epoch 19/200\n",
            "9872/9872 [==============================] - 36s 4ms/step - loss: 4.2501e-05 - mean_absolute_error: 4.2501e-05 - val_loss: 1.2911e-05 - val_mean_absolute_error: 1.2911e-05\n",
            "\n",
            "Epoch 00019: val_loss did not improve from 0.00001\n",
            "Epoch 20/200\n",
            "9872/9872 [==============================] - 36s 4ms/step - loss: 4.5521e-05 - mean_absolute_error: 4.5521e-05 - val_loss: 1.3096e-05 - val_mean_absolute_error: 1.3096e-05\n",
            "\n",
            "Epoch 00020: val_loss did not improve from 0.00001\n",
            "Epoch 21/200\n",
            "9872/9872 [==============================] - 36s 4ms/step - loss: 4.6344e-05 - mean_absolute_error: 4.6344e-05 - val_loss: 1.2166e-05 - val_mean_absolute_error: 1.2166e-05\n",
            "\n",
            "Epoch 00021: val_loss did not improve from 0.00001\n",
            "Epoch 22/200\n",
            "9872/9872 [==============================] - 36s 4ms/step - loss: 4.2244e-05 - mean_absolute_error: 4.2244e-05 - val_loss: 1.4530e-05 - val_mean_absolute_error: 1.4530e-05\n",
            "\n",
            "Epoch 00022: val_loss did not improve from 0.00001\n",
            "Epoch 23/200\n",
            "9872/9872 [==============================] - 36s 4ms/step - loss: 4.7802e-05 - mean_absolute_error: 4.7802e-05 - val_loss: 1.5659e-05 - val_mean_absolute_error: 1.5659e-05\n",
            "\n",
            "Epoch 00023: val_loss did not improve from 0.00001\n",
            "Epoch 24/200\n",
            "9872/9872 [==============================] - 36s 4ms/step - loss: 4.5229e-05 - mean_absolute_error: 4.5229e-05 - val_loss: 1.5793e-05 - val_mean_absolute_error: 1.5793e-05\n",
            "\n",
            "Epoch 00024: val_loss did not improve from 0.00001\n",
            "Epoch 25/200\n",
            "9872/9872 [==============================] - 36s 4ms/step - loss: 4.5558e-05 - mean_absolute_error: 4.5558e-05 - val_loss: 1.3397e-05 - val_mean_absolute_error: 1.3397e-05\n",
            "\n",
            "Epoch 00025: val_loss did not improve from 0.00001\n",
            "Epoch 26/200\n",
            "9872/9872 [==============================] - 36s 4ms/step - loss: 5.8429e-05 - mean_absolute_error: 5.8429e-05 - val_loss: 2.4702e-05 - val_mean_absolute_error: 2.4702e-05\n",
            "\n",
            "Epoch 00026: val_loss did not improve from 0.00001\n",
            "Epoch 27/200\n",
            "9872/9872 [==============================] - 36s 4ms/step - loss: 4.1277e-05 - mean_absolute_error: 4.1277e-05 - val_loss: 1.0278e-05 - val_mean_absolute_error: 1.0278e-05\n",
            "\n",
            "Epoch 00027: val_loss improved from 0.00001 to 0.00001, saving model to SRCNN_2019-04-23 18:47:20_best.h5\n",
            "Epoch 28/200\n",
            "9872/9872 [==============================] - 36s 4ms/step - loss: 4.4239e-05 - mean_absolute_error: 4.4239e-05 - val_loss: 1.6851e-05 - val_mean_absolute_error: 1.6851e-05\n",
            "\n",
            "Epoch 00028: val_loss did not improve from 0.00001\n",
            "Epoch 29/200\n",
            "9872/9872 [==============================] - 36s 4ms/step - loss: 4.1483e-05 - mean_absolute_error: 4.1483e-05 - val_loss: 1.7297e-05 - val_mean_absolute_error: 1.7297e-05\n",
            "\n",
            "Epoch 00029: val_loss did not improve from 0.00001\n",
            "Epoch 30/200\n",
            "9872/9872 [==============================] - 36s 4ms/step - loss: 4.3173e-05 - mean_absolute_error: 4.3173e-05 - val_loss: 8.9353e-06 - val_mean_absolute_error: 8.9353e-06\n",
            "\n",
            "Epoch 00030: val_loss improved from 0.00001 to 0.00001, saving model to SRCNN_2019-04-23 18:47:20_best.h5\n",
            "Epoch 31/200\n",
            "9872/9872 [==============================] - 36s 4ms/step - loss: 4.0799e-05 - mean_absolute_error: 4.0799e-05 - val_loss: 9.8146e-06 - val_mean_absolute_error: 9.8146e-06\n",
            "\n",
            "Epoch 00031: val_loss did not improve from 0.00001\n",
            "Epoch 32/200\n",
            "9872/9872 [==============================] - 36s 4ms/step - loss: 4.2566e-05 - mean_absolute_error: 4.2566e-05 - val_loss: 1.4039e-05 - val_mean_absolute_error: 1.4039e-05\n",
            "\n",
            "Epoch 00032: val_loss did not improve from 0.00001\n",
            "Epoch 33/200\n",
            "9872/9872 [==============================] - 36s 4ms/step - loss: 4.1924e-05 - mean_absolute_error: 4.1924e-05 - val_loss: 2.2674e-05 - val_mean_absolute_error: 2.2674e-05\n",
            "\n",
            "Epoch 00033: val_loss did not improve from 0.00001\n",
            "Epoch 34/200\n",
            "9872/9872 [==============================] - 36s 4ms/step - loss: 4.1405e-05 - mean_absolute_error: 4.1405e-05 - val_loss: 1.4555e-05 - val_mean_absolute_error: 1.4555e-05\n",
            "\n",
            "Epoch 00034: val_loss did not improve from 0.00001\n",
            "Epoch 35/200\n",
            "9872/9872 [==============================] - 36s 4ms/step - loss: 4.1330e-05 - mean_absolute_error: 4.1330e-05 - val_loss: 1.3515e-05 - val_mean_absolute_error: 1.3515e-05\n",
            "\n",
            "Epoch 00035: val_loss did not improve from 0.00001\n",
            "Epoch 36/200\n",
            "9872/9872 [==============================] - 36s 4ms/step - loss: 4.4106e-05 - mean_absolute_error: 4.4106e-05 - val_loss: 1.9832e-05 - val_mean_absolute_error: 1.9832e-05\n",
            "\n",
            "Epoch 00036: val_loss did not improve from 0.00001\n",
            "Epoch 37/200\n",
            "9872/9872 [==============================] - 36s 4ms/step - loss: 4.1549e-05 - mean_absolute_error: 4.1549e-05 - val_loss: 1.3091e-05 - val_mean_absolute_error: 1.3091e-05\n",
            "\n",
            "Epoch 00037: val_loss did not improve from 0.00001\n",
            "Epoch 38/200\n",
            "9872/9872 [==============================] - 36s 4ms/step - loss: 4.1555e-05 - mean_absolute_error: 4.1555e-05 - val_loss: 1.0238e-05 - val_mean_absolute_error: 1.0238e-05\n",
            "\n",
            "Epoch 00038: val_loss did not improve from 0.00001\n",
            "Epoch 39/200\n",
            "9872/9872 [==============================] - 36s 4ms/step - loss: 4.2093e-05 - mean_absolute_error: 4.2093e-05 - val_loss: 2.6334e-05 - val_mean_absolute_error: 2.6334e-05\n",
            "\n",
            "Epoch 00039: val_loss did not improve from 0.00001\n",
            "Epoch 40/200\n",
            "9872/9872 [==============================] - 36s 4ms/step - loss: 4.2105e-05 - mean_absolute_error: 4.2105e-05 - val_loss: 1.5505e-05 - val_mean_absolute_error: 1.5505e-05\n",
            "\n",
            "Epoch 00040: val_loss did not improve from 0.00001\n",
            "Epoch 41/200\n",
            "9872/9872 [==============================] - 36s 4ms/step - loss: 4.5613e-05 - mean_absolute_error: 4.5613e-05 - val_loss: 8.8805e-06 - val_mean_absolute_error: 8.8805e-06\n",
            "\n",
            "Epoch 00041: val_loss improved from 0.00001 to 0.00001, saving model to SRCNN_2019-04-23 18:47:20_best.h5\n",
            "Epoch 42/200\n",
            "9872/9872 [==============================] - 36s 4ms/step - loss: 4.1156e-05 - mean_absolute_error: 4.1156e-05 - val_loss: 1.1615e-05 - val_mean_absolute_error: 1.1615e-05\n",
            "\n",
            "Epoch 00042: val_loss did not improve from 0.00001\n",
            "Epoch 43/200\n",
            "9872/9872 [==============================] - 36s 4ms/step - loss: 4.1942e-05 - mean_absolute_error: 4.1942e-05 - val_loss: 2.0683e-05 - val_mean_absolute_error: 2.0683e-05\n",
            "\n",
            "Epoch 00043: val_loss did not improve from 0.00001\n",
            "Epoch 44/200\n",
            "9872/9872 [==============================] - 36s 4ms/step - loss: 5.6646e-05 - mean_absolute_error: 5.6646e-05 - val_loss: 2.3099e-05 - val_mean_absolute_error: 2.3099e-05\n",
            "\n",
            "Epoch 00044: val_loss did not improve from 0.00001\n",
            "Epoch 45/200\n",
            "9872/9872 [==============================] - 36s 4ms/step - loss: 4.3855e-05 - mean_absolute_error: 4.3855e-05 - val_loss: 7.5347e-06 - val_mean_absolute_error: 7.5347e-06\n",
            "\n",
            "Epoch 00045: val_loss improved from 0.00001 to 0.00001, saving model to SRCNN_2019-04-23 18:47:20_best.h5\n",
            "Epoch 46/200\n",
            "9872/9872 [==============================] - 36s 4ms/step - loss: 4.1534e-05 - mean_absolute_error: 4.1534e-05 - val_loss: 7.5396e-06 - val_mean_absolute_error: 7.5396e-06\n",
            "\n",
            "Epoch 00046: val_loss did not improve from 0.00001\n",
            "Epoch 47/200\n",
            "9872/9872 [==============================] - 36s 4ms/step - loss: 4.0881e-05 - mean_absolute_error: 4.0881e-05 - val_loss: 1.1015e-05 - val_mean_absolute_error: 1.1015e-05\n",
            "\n",
            "Epoch 00047: val_loss did not improve from 0.00001\n",
            "Epoch 48/200\n",
            "9872/9872 [==============================] - 36s 4ms/step - loss: 3.9368e-05 - mean_absolute_error: 3.9368e-05 - val_loss: 1.2962e-05 - val_mean_absolute_error: 1.2962e-05\n",
            "\n",
            "Epoch 00048: val_loss did not improve from 0.00001\n",
            "Epoch 49/200\n",
            "9872/9872 [==============================] - 36s 4ms/step - loss: 3.9701e-05 - mean_absolute_error: 3.9701e-05 - val_loss: 7.7831e-06 - val_mean_absolute_error: 7.7831e-06\n",
            "\n",
            "Epoch 00049: val_loss did not improve from 0.00001\n",
            "Epoch 50/200\n",
            "9872/9872 [==============================] - 36s 4ms/step - loss: 4.0661e-05 - mean_absolute_error: 4.0661e-05 - val_loss: 1.0860e-05 - val_mean_absolute_error: 1.0860e-05\n",
            "\n",
            "Epoch 00050: val_loss did not improve from 0.00001\n",
            "Epoch 51/200\n",
            "9872/9872 [==============================] - 36s 4ms/step - loss: 4.0556e-05 - mean_absolute_error: 4.0556e-05 - val_loss: 6.5864e-06 - val_mean_absolute_error: 6.5864e-06\n",
            "\n",
            "Epoch 00051: val_loss improved from 0.00001 to 0.00001, saving model to SRCNN_2019-04-23 18:47:20_best.h5\n",
            "Epoch 52/200\n",
            "9872/9872 [==============================] - 36s 4ms/step - loss: 4.2670e-05 - mean_absolute_error: 4.2670e-05 - val_loss: 8.8574e-06 - val_mean_absolute_error: 8.8574e-06\n",
            "\n",
            "Epoch 00052: val_loss did not improve from 0.00001\n",
            "Epoch 53/200\n",
            "9872/9872 [==============================] - 36s 4ms/step - loss: 3.8916e-05 - mean_absolute_error: 3.8916e-05 - val_loss: 1.1789e-05 - val_mean_absolute_error: 1.1789e-05\n",
            "\n",
            "Epoch 00053: val_loss did not improve from 0.00001\n",
            "Epoch 54/200\n",
            "9872/9872 [==============================] - 36s 4ms/step - loss: 3.9444e-05 - mean_absolute_error: 3.9444e-05 - val_loss: 1.7764e-05 - val_mean_absolute_error: 1.7764e-05\n",
            "\n",
            "Epoch 00054: val_loss did not improve from 0.00001\n",
            "Epoch 55/200\n",
            "9872/9872 [==============================] - 36s 4ms/step - loss: 3.9080e-05 - mean_absolute_error: 3.9080e-05 - val_loss: 9.3805e-06 - val_mean_absolute_error: 9.3805e-06\n",
            "\n",
            "Epoch 00055: val_loss did not improve from 0.00001\n",
            "Epoch 56/200\n",
            "9872/9872 [==============================] - 36s 4ms/step - loss: 3.9969e-05 - mean_absolute_error: 3.9969e-05 - val_loss: 1.0451e-05 - val_mean_absolute_error: 1.0451e-05\n",
            "\n",
            "Epoch 00056: val_loss did not improve from 0.00001\n",
            "Epoch 57/200\n",
            "9872/9872 [==============================] - 36s 4ms/step - loss: 3.9080e-05 - mean_absolute_error: 3.9080e-05 - val_loss: 1.5810e-05 - val_mean_absolute_error: 1.5810e-05\n",
            "\n",
            "Epoch 00057: val_loss did not improve from 0.00001\n",
            "Epoch 58/200\n",
            "9872/9872 [==============================] - 36s 4ms/step - loss: 3.8812e-05 - mean_absolute_error: 3.8812e-05 - val_loss: 9.9830e-06 - val_mean_absolute_error: 9.9830e-06\n",
            "\n",
            "Epoch 00058: val_loss did not improve from 0.00001\n",
            "Epoch 59/200\n",
            "9872/9872 [==============================] - 36s 4ms/step - loss: 4.3463e-05 - mean_absolute_error: 4.3463e-05 - val_loss: 2.1563e-05 - val_mean_absolute_error: 2.1563e-05\n",
            "\n",
            "Epoch 00059: val_loss did not improve from 0.00001\n",
            "Epoch 60/200\n",
            "9872/9872 [==============================] - 36s 4ms/step - loss: 3.8508e-05 - mean_absolute_error: 3.8508e-05 - val_loss: 1.2423e-05 - val_mean_absolute_error: 1.2423e-05\n",
            "\n",
            "Epoch 00060: val_loss did not improve from 0.00001\n",
            "Epoch 61/200\n",
            "9872/9872 [==============================] - 36s 4ms/step - loss: 4.0094e-05 - mean_absolute_error: 4.0094e-05 - val_loss: 1.4739e-05 - val_mean_absolute_error: 1.4739e-05\n",
            "\n",
            "Epoch 00061: val_loss did not improve from 0.00001\n",
            "Epoch 62/200\n",
            "9872/9872 [==============================] - 36s 4ms/step - loss: 3.9539e-05 - mean_absolute_error: 3.9539e-05 - val_loss: 7.1216e-06 - val_mean_absolute_error: 7.1216e-06\n",
            "\n",
            "Epoch 00062: val_loss did not improve from 0.00001\n",
            "Epoch 63/200\n",
            "9872/9872 [==============================] - 36s 4ms/step - loss: 3.8805e-05 - mean_absolute_error: 3.8805e-05 - val_loss: 8.7290e-06 - val_mean_absolute_error: 8.7290e-06\n",
            "\n",
            "Epoch 00063: val_loss did not improve from 0.00001\n",
            "Epoch 64/200\n",
            "9872/9872 [==============================] - 36s 4ms/step - loss: 3.8751e-05 - mean_absolute_error: 3.8751e-05 - val_loss: 1.0951e-05 - val_mean_absolute_error: 1.0951e-05\n",
            "\n",
            "Epoch 00064: val_loss did not improve from 0.00001\n",
            "Epoch 65/200\n",
            "9872/9872 [==============================] - 36s 4ms/step - loss: 3.9035e-05 - mean_absolute_error: 3.9035e-05 - val_loss: 1.4411e-05 - val_mean_absolute_error: 1.4411e-05\n",
            "\n",
            "Epoch 00065: val_loss did not improve from 0.00001\n",
            "Epoch 66/200\n",
            "9872/9872 [==============================] - 36s 4ms/step - loss: 3.8797e-05 - mean_absolute_error: 3.8797e-05 - val_loss: 1.0705e-05 - val_mean_absolute_error: 1.0705e-05\n",
            "\n",
            "Epoch 00066: val_loss did not improve from 0.00001\n",
            "Epoch 67/200\n",
            "9872/9872 [==============================] - 36s 4ms/step - loss: 4.2139e-05 - mean_absolute_error: 4.2139e-05 - val_loss: 7.2642e-06 - val_mean_absolute_error: 7.2642e-06\n",
            "\n",
            "Epoch 00067: val_loss did not improve from 0.00001\n",
            "Epoch 68/200\n",
            "9872/9872 [==============================] - 36s 4ms/step - loss: 3.9396e-05 - mean_absolute_error: 3.9396e-05 - val_loss: 1.2223e-05 - val_mean_absolute_error: 1.2223e-05\n",
            "\n",
            "Epoch 00068: val_loss did not improve from 0.00001\n",
            "Epoch 69/200\n",
            "9872/9872 [==============================] - 36s 4ms/step - loss: 3.8640e-05 - mean_absolute_error: 3.8640e-05 - val_loss: 8.3093e-06 - val_mean_absolute_error: 8.3093e-06\n",
            "\n",
            "Epoch 00069: val_loss did not improve from 0.00001\n",
            "Epoch 70/200\n",
            "9872/9872 [==============================] - 36s 4ms/step - loss: 4.0375e-05 - mean_absolute_error: 4.0375e-05 - val_loss: 9.4962e-06 - val_mean_absolute_error: 9.4962e-06\n",
            "\n",
            "Epoch 00070: val_loss did not improve from 0.00001\n",
            "Epoch 71/200\n",
            "9872/9872 [==============================] - 36s 4ms/step - loss: 4.1489e-05 - mean_absolute_error: 4.1489e-05 - val_loss: 1.4540e-05 - val_mean_absolute_error: 1.4540e-05\n",
            "\n",
            "Epoch 00071: val_loss did not improve from 0.00001\n",
            "Epoch 72/200\n",
            "9872/9872 [==============================] - 36s 4ms/step - loss: 3.8799e-05 - mean_absolute_error: 3.8799e-05 - val_loss: 1.3646e-05 - val_mean_absolute_error: 1.3646e-05\n",
            "\n",
            "Epoch 00072: val_loss did not improve from 0.00001\n",
            "Epoch 73/200\n",
            "9872/9872 [==============================] - 36s 4ms/step - loss: 4.1365e-05 - mean_absolute_error: 4.1365e-05 - val_loss: 9.8414e-06 - val_mean_absolute_error: 9.8414e-06\n",
            "\n",
            "Epoch 00073: val_loss did not improve from 0.00001\n",
            "Epoch 74/200\n",
            "9872/9872 [==============================] - 36s 4ms/step - loss: 3.8199e-05 - mean_absolute_error: 3.8199e-05 - val_loss: 7.3543e-06 - val_mean_absolute_error: 7.3543e-06\n",
            "\n",
            "Epoch 00074: val_loss did not improve from 0.00001\n",
            "Epoch 75/200\n",
            "9872/9872 [==============================] - 36s 4ms/step - loss: 3.7287e-05 - mean_absolute_error: 3.7287e-05 - val_loss: 8.1101e-06 - val_mean_absolute_error: 8.1101e-06\n",
            "\n",
            "Epoch 00075: val_loss did not improve from 0.00001\n",
            "Epoch 76/200\n",
            "9872/9872 [==============================] - 36s 4ms/step - loss: 3.7699e-05 - mean_absolute_error: 3.7699e-05 - val_loss: 7.7155e-06 - val_mean_absolute_error: 7.7155e-06\n",
            "\n",
            "Epoch 00076: val_loss did not improve from 0.00001\n",
            "Epoch 77/200\n",
            "9872/9872 [==============================] - 36s 4ms/step - loss: 3.9470e-05 - mean_absolute_error: 3.9470e-05 - val_loss: 1.4086e-05 - val_mean_absolute_error: 1.4086e-05\n",
            "\n",
            "Epoch 00077: val_loss did not improve from 0.00001\n",
            "Epoch 78/200\n",
            "9872/9872 [==============================] - 36s 4ms/step - loss: 3.9091e-05 - mean_absolute_error: 3.9091e-05 - val_loss: 6.9453e-06 - val_mean_absolute_error: 6.9453e-06\n",
            "\n",
            "Epoch 00078: val_loss did not improve from 0.00001\n",
            "Epoch 79/200\n",
            "9872/9872 [==============================] - 36s 4ms/step - loss: 3.7327e-05 - mean_absolute_error: 3.7327e-05 - val_loss: 7.2042e-06 - val_mean_absolute_error: 7.2042e-06\n",
            "\n",
            "Epoch 00079: val_loss did not improve from 0.00001\n",
            "Epoch 80/200\n",
            "9872/9872 [==============================] - 36s 4ms/step - loss: 3.8942e-05 - mean_absolute_error: 3.8942e-05 - val_loss: 1.0365e-05 - val_mean_absolute_error: 1.0365e-05\n",
            "\n",
            "Epoch 00080: val_loss did not improve from 0.00001\n",
            "Epoch 81/200\n",
            "9872/9872 [==============================] - 36s 4ms/step - loss: 3.9608e-05 - mean_absolute_error: 3.9608e-05 - val_loss: 9.6196e-06 - val_mean_absolute_error: 9.6196e-06\n",
            "\n",
            "Epoch 00081: val_loss did not improve from 0.00001\n",
            "Epoch 82/200\n",
            "9872/9872 [==============================] - 36s 4ms/step - loss: 3.9577e-05 - mean_absolute_error: 3.9577e-05 - val_loss: 9.8729e-06 - val_mean_absolute_error: 9.8729e-06\n",
            "\n",
            "Epoch 00082: val_loss did not improve from 0.00001\n",
            "Epoch 83/200\n",
            "9872/9872 [==============================] - 36s 4ms/step - loss: 3.9382e-05 - mean_absolute_error: 3.9382e-05 - val_loss: 9.0224e-06 - val_mean_absolute_error: 9.0224e-06\n",
            "\n",
            "Epoch 00083: val_loss did not improve from 0.00001\n",
            "Epoch 84/200\n",
            "9872/9872 [==============================] - 36s 4ms/step - loss: 3.7870e-05 - mean_absolute_error: 3.7870e-05 - val_loss: 1.4003e-05 - val_mean_absolute_error: 1.4003e-05\n",
            "\n",
            "Epoch 00084: val_loss did not improve from 0.00001\n",
            "Epoch 85/200\n",
            "9872/9872 [==============================] - 36s 4ms/step - loss: 4.1287e-05 - mean_absolute_error: 4.1287e-05 - val_loss: 7.6978e-06 - val_mean_absolute_error: 7.6978e-06\n",
            "\n",
            "Epoch 00085: val_loss did not improve from 0.00001\n",
            "Epoch 86/200\n",
            "9872/9872 [==============================] - 36s 4ms/step - loss: 3.7640e-05 - mean_absolute_error: 3.7640e-05 - val_loss: 1.2689e-05 - val_mean_absolute_error: 1.2689e-05\n",
            "\n",
            "Epoch 00086: val_loss did not improve from 0.00001\n",
            "Epoch 00086: early stopping\n"
          ],
          "name": "stdout"
        }
      ]
    },
    {
      "metadata": {
        "id": "rfOfh497F7ob",
        "colab_type": "code",
        "outputId": "3ae43196-b398-4431-ae01-d17a29dedffb",
        "colab": {
          "base_uri": "https://localhost:8080/",
          "height": 34
        }
      },
      "cell_type": "code",
      "source": [
        "\n",
        "X_train.shape"
      ],
      "execution_count": 6,
      "outputs": [
        {
          "output_type": "execute_result",
          "data": {
            "text/plain": [
              "(585, 883, 12, 1)"
            ]
          },
          "metadata": {
            "tags": []
          },
          "execution_count": 6
        }
      ]
    },
    {
      "metadata": {
        "id": "MopSXT7jDeUN",
        "colab_type": "text"
      },
      "cell_type": "markdown",
      "source": [
        "# **Generate the output file**\n",
        "\n",
        "---\n",
        "\n"
      ]
    },
    {
      "metadata": {
        "id": "5Vk_C8CdMiW3",
        "colab_type": "code",
        "outputId": "f43caa95-d198-4538-9f03-015c1244b09a",
        "colab": {
          "base_uri": "https://localhost:8080/",
          "height": 51
        }
      },
      "cell_type": "code",
      "source": [
        "\n",
        "#%% ----- PREDICT---------\n",
        "\n",
        "# model = load_model('mae_model.h5')\n",
        "\n",
        "y, fs = sf.read(input_filename)\n",
        "reconstruct(y,fs,model)\n"
      ],
      "execution_count": 19,
      "outputs": [
        {
          "output_type": "stream",
          "text": [
            "Output without phase info was saved.\n",
            "Output with phase info was saved.\n"
          ],
          "name": "stdout"
        }
      ]
    },
    {
      "metadata": {
        "id": "bU1DgePhj1hK",
        "colab_type": "code",
        "colab": {
          "base_uri": "https://localhost:8080/",
          "height": 34
        },
        "outputId": "c172d4a8-e3e8-412e-c800-5b4eae087f9b"
      },
      "cell_type": "code",
      "source": [
        "yhat.shape"
      ],
      "execution_count": 35,
      "outputs": [
        {
          "output_type": "execute_result",
          "data": {
            "text/plain": [
              "(744, 1025, 16, 1)"
            ]
          },
          "metadata": {
            "tags": []
          },
          "execution_count": 35
        }
      ]
    },
    {
      "metadata": {
        "id": "ihzW3VlGDy0_",
        "colab_type": "text"
      },
      "cell_type": "markdown",
      "source": [
        "# **Play ground: Maxtrix transformation testing**"
      ]
    },
    {
      "metadata": {
        "id": "9fAeLhtzMjxv",
        "colab_type": "code",
        "colab": {
          "base_uri": "https://localhost:8080/",
          "height": 232
        },
        "outputId": "c3173aee-41d4-4936-c5f3-90aa4c9172fb"
      },
      "cell_type": "code",
      "source": [
        "\n",
        "a1 = np.arange(128).reshape((4,-1))\n",
        "a = a1\n",
        "number_frequencies, number_time_frames = a.shape\n",
        "a = a[:, :-(number_time_frames%3)]\n",
        "\n",
        "\n",
        "b= a.reshape((number_frequencies,3,-1,1), order='F')\n",
        "\t\n",
        "z = b.transpose((2,0,1,3))"
      ],
      "execution_count": 3,
      "outputs": [
        {
          "output_type": "error",
          "ename": "NameError",
          "evalue": "ignored",
          "traceback": [
            "\u001b[0;31m---------------------------------------------------------------------------\u001b[0m",
            "\u001b[0;31mNameError\u001b[0m                                 Traceback (most recent call last)",
            "\u001b[0;32m<ipython-input-3-9d0f60cd704c>\u001b[0m in \u001b[0;36m<module>\u001b[0;34m()\u001b[0m\n\u001b[1;32m      1\u001b[0m \u001b[0;34m\u001b[0m\u001b[0m\n\u001b[0;32m----> 2\u001b[0;31m \u001b[0ma1\u001b[0m \u001b[0;34m=\u001b[0m \u001b[0mnp\u001b[0m\u001b[0;34m.\u001b[0m\u001b[0marange\u001b[0m\u001b[0;34m(\u001b[0m\u001b[0;36m128\u001b[0m\u001b[0;34m)\u001b[0m\u001b[0;34m.\u001b[0m\u001b[0mreshape\u001b[0m\u001b[0;34m(\u001b[0m\u001b[0;34m(\u001b[0m\u001b[0;36m4\u001b[0m\u001b[0;34m,\u001b[0m\u001b[0;34m-\u001b[0m\u001b[0;36m1\u001b[0m\u001b[0;34m)\u001b[0m\u001b[0;34m)\u001b[0m\u001b[0;34m\u001b[0m\u001b[0;34m\u001b[0m\u001b[0m\n\u001b[0m\u001b[1;32m      3\u001b[0m \u001b[0ma\u001b[0m \u001b[0;34m=\u001b[0m \u001b[0ma1\u001b[0m\u001b[0;34m\u001b[0m\u001b[0;34m\u001b[0m\u001b[0m\n\u001b[1;32m      4\u001b[0m \u001b[0mnumber_frequencies\u001b[0m\u001b[0;34m,\u001b[0m \u001b[0mnumber_time_frames\u001b[0m \u001b[0;34m=\u001b[0m \u001b[0ma\u001b[0m\u001b[0;34m.\u001b[0m\u001b[0mshape\u001b[0m\u001b[0;34m\u001b[0m\u001b[0;34m\u001b[0m\u001b[0m\n\u001b[1;32m      5\u001b[0m \u001b[0ma\u001b[0m \u001b[0;34m=\u001b[0m \u001b[0ma\u001b[0m\u001b[0;34m[\u001b[0m\u001b[0;34m:\u001b[0m\u001b[0;34m,\u001b[0m \u001b[0;34m:\u001b[0m\u001b[0;34m-\u001b[0m\u001b[0;34m(\u001b[0m\u001b[0mnumber_time_frames\u001b[0m\u001b[0;34m%\u001b[0m\u001b[0;36m3\u001b[0m\u001b[0;34m)\u001b[0m\u001b[0;34m]\u001b[0m\u001b[0;34m\u001b[0m\u001b[0;34m\u001b[0m\u001b[0m\n",
            "\u001b[0;31mNameError\u001b[0m: name 'np' is not defined"
          ]
        }
      ]
    },
    {
      "metadata": {
        "id": "CR792v_gVDS0",
        "colab_type": "code",
        "colab": {}
      },
      "cell_type": "code",
      "source": [
        "d = z.transpose((1,2,0,3))\n",
        "d = d.reshape((d.shape[0],-1),order='F')"
      ],
      "execution_count": 0,
      "outputs": []
    },
    {
      "metadata": {
        "id": "-TzizE5aVHvD",
        "colab_type": "code",
        "outputId": "3f0b99b1-d887-4b30-a555-e86ae2460e8b",
        "colab": {
          "base_uri": "https://localhost:8080/",
          "height": 34
        }
      },
      "cell_type": "code",
      "source": [
        "phaseInfo.shape"
      ],
      "execution_count": 0,
      "outputs": [
        {
          "output_type": "execute_result",
          "data": {
            "text/plain": [
              "(883, 13826)"
            ]
          },
          "metadata": {
            "tags": []
          },
          "execution_count": 16
        }
      ]
    },
    {
      "metadata": {
        "id": "HuvNuWKxkmzd",
        "colab_type": "code",
        "outputId": "bf334384-27c6-4924-c39a-6bbc0c2a6946",
        "colab": {
          "base_uri": "https://localhost:8080/",
          "height": 85
        }
      },
      "cell_type": "code",
      "source": [
        "d[0,:,:,0]"
      ],
      "execution_count": 0,
      "outputs": [
        {
          "output_type": "execute_result",
          "data": {
            "text/plain": [
              "array([[  0,   3,   6,   9,  12,  15,  18,  21,  24,  27],\n",
              "       [ 32,  35,  38,  41,  44,  47,  50,  53,  56,  59],\n",
              "       [ 64,  67,  70,  73,  76,  79,  82,  85,  88,  91],\n",
              "       [ 96,  99, 102, 105, 108, 111, 114, 117, 120, 123]])"
            ]
          },
          "metadata": {
            "tags": []
          },
          "execution_count": 72
        }
      ]
    },
    {
      "metadata": {
        "id": "NsOvNGUhlvlQ",
        "colab_type": "code",
        "outputId": "fb141c24-c26e-44b6-b98b-514495022dbc",
        "colab": {
          "base_uri": "https://localhost:8080/",
          "height": 263
        }
      },
      "cell_type": "code",
      "source": [
        "!apt-get install -y -qq software-properties-common python-software-properties module-init-tools\n",
        "!add-apt-repository -y ppa:alessandro-strada/ppa 2>&1 > /dev/null\n",
        "!apt-get update -qq 2>&1 > /dev/null\n",
        "!apt-get -y install -qq google-drive-ocamlfuse fuse\n",
        "from google.colab import auth\n",
        "auth.authenticate_user()\n",
        "from oauth2client.client import GoogleCredentials\n",
        "creds = GoogleCredentials.get_application_default()\n",
        "import getpass\n",
        "!google-drive-ocamlfuse -headless -id={creds.client_id} -secret={creds.client_secret} < /dev/null 2>&1 | grep URL\n",
        "vcode = getpass.getpass()\n",
        "!echo {vcode} | google-drive-ocamlfuse -headless -id={creds.client_id} -secret={creds.client_secret}"
      ],
      "execution_count": 0,
      "outputs": [
        {
          "output_type": "stream",
          "text": [
            "E: Package 'python-software-properties' has no installation candidate\n",
            "Selecting previously unselected package google-drive-ocamlfuse.\n",
            "(Reading database ... 131304 files and directories currently installed.)\n",
            "Preparing to unpack .../google-drive-ocamlfuse_0.7.3-0ubuntu3~ubuntu18.04.1_amd64.deb ...\n",
            "Unpacking google-drive-ocamlfuse (0.7.3-0ubuntu3~ubuntu18.04.1) ...\n",
            "Setting up google-drive-ocamlfuse (0.7.3-0ubuntu3~ubuntu18.04.1) ...\n",
            "Processing triggers for man-db (2.8.3-2ubuntu0.1) ...\n",
            "Please, open the following URL in a web browser: https://accounts.google.com/o/oauth2/auth?client_id=32555940559.apps.googleusercontent.com&redirect_uri=urn%3Aietf%3Awg%3Aoauth%3A2.0%3Aoob&scope=https%3A%2F%2Fwww.googleapis.com%2Fauth%2Fdrive&response_type=code&access_type=offline&approval_prompt=force\n",
            "··········\n",
            "Please, open the following URL in a web browser: https://accounts.google.com/o/oauth2/auth?client_id=32555940559.apps.googleusercontent.com&redirect_uri=urn%3Aietf%3Awg%3Aoauth%3A2.0%3Aoob&scope=https%3A%2F%2Fwww.googleapis.com%2Fauth%2Fdrive&response_type=code&access_type=offline&approval_prompt=force\n",
            "Please enter the verification code: Access token retrieved correctly.\n"
          ],
          "name": "stdout"
        }
      ]
    },
    {
      "metadata": {
        "id": "Db915sy0HPGM",
        "colab_type": "code",
        "colab": {}
      },
      "cell_type": "code",
      "source": [
        "!mkdir -p drive\n",
        "!google-drive-ocamlfuse drive"
      ],
      "execution_count": 0,
      "outputs": []
    },
    {
      "metadata": {
        "id": "2IkZp5QRHdnu",
        "colab_type": "code",
        "outputId": "b8ab82f4-f87b-4438-cc75-f53d3d808d45",
        "colab": {
          "base_uri": "https://localhost:8080/",
          "height": 726
        }
      },
      "cell_type": "code",
      "source": [
        "!ls '/content/drive/Colab Notebooks/mono_1_stereo_HQ.wav'\n",
        "\n",
        "x1, fs = sf.read('/content/drive/Colab Notebooks/mono_1_stereo_HQ.wav')"
      ],
      "execution_count": 7,
      "outputs": [
        {
          "output_type": "stream",
          "text": [
            "'/content/drive/Colab Notebooks/mono_1_stereo_HQ.wav'\n"
          ],
          "name": "stdout"
        },
        {
          "output_type": "error",
          "ename": "KeyboardInterrupt",
          "evalue": "ignored",
          "traceback": [
            "\u001b[0;31m---------------------------------------------------------------------------\u001b[0m",
            "\u001b[0;31mKeyboardInterrupt\u001b[0m                         Traceback (most recent call last)",
            "\u001b[0;32m<ipython-input-7-84d39b73b5e1>\u001b[0m in \u001b[0;36m<module>\u001b[0;34m()\u001b[0m\n\u001b[1;32m      1\u001b[0m \u001b[0mget_ipython\u001b[0m\u001b[0;34m(\u001b[0m\u001b[0;34m)\u001b[0m\u001b[0;34m.\u001b[0m\u001b[0msystem\u001b[0m\u001b[0;34m(\u001b[0m\u001b[0;34m\"ls '/content/drive/Colab Notebooks/mono_1_stereo_HQ.wav'\"\u001b[0m\u001b[0;34m)\u001b[0m\u001b[0;34m\u001b[0m\u001b[0;34m\u001b[0m\u001b[0m\n\u001b[1;32m      2\u001b[0m \u001b[0;34m\u001b[0m\u001b[0m\n\u001b[0;32m----> 3\u001b[0;31m \u001b[0mx1\u001b[0m\u001b[0;34m,\u001b[0m \u001b[0mfs\u001b[0m \u001b[0;34m=\u001b[0m \u001b[0msf\u001b[0m\u001b[0;34m.\u001b[0m\u001b[0mread\u001b[0m\u001b[0;34m(\u001b[0m\u001b[0;34m'/content/drive/Colab Notebooks/mono_1_stereo_HQ.wav'\u001b[0m\u001b[0;34m)\u001b[0m\u001b[0;34m\u001b[0m\u001b[0;34m\u001b[0m\u001b[0m\n\u001b[0m",
            "\u001b[0;32m/usr/local/lib/python3.6/dist-packages/soundfile.py\u001b[0m in \u001b[0;36mread\u001b[0;34m(file, frames, start, stop, dtype, always_2d, fill_value, out, samplerate, channels, format, subtype, endian, closefd)\u001b[0m\n\u001b[1;32m    257\u001b[0m                    subtype, endian, format, closefd) as f:\n\u001b[1;32m    258\u001b[0m         \u001b[0mframes\u001b[0m \u001b[0;34m=\u001b[0m \u001b[0mf\u001b[0m\u001b[0;34m.\u001b[0m\u001b[0m_prepare_read\u001b[0m\u001b[0;34m(\u001b[0m\u001b[0mstart\u001b[0m\u001b[0;34m,\u001b[0m \u001b[0mstop\u001b[0m\u001b[0;34m,\u001b[0m \u001b[0mframes\u001b[0m\u001b[0;34m)\u001b[0m\u001b[0;34m\u001b[0m\u001b[0;34m\u001b[0m\u001b[0m\n\u001b[0;32m--> 259\u001b[0;31m         \u001b[0mdata\u001b[0m \u001b[0;34m=\u001b[0m \u001b[0mf\u001b[0m\u001b[0;34m.\u001b[0m\u001b[0mread\u001b[0m\u001b[0;34m(\u001b[0m\u001b[0mframes\u001b[0m\u001b[0;34m,\u001b[0m \u001b[0mdtype\u001b[0m\u001b[0;34m,\u001b[0m \u001b[0malways_2d\u001b[0m\u001b[0;34m,\u001b[0m \u001b[0mfill_value\u001b[0m\u001b[0;34m,\u001b[0m \u001b[0mout\u001b[0m\u001b[0;34m)\u001b[0m\u001b[0;34m\u001b[0m\u001b[0;34m\u001b[0m\u001b[0m\n\u001b[0m\u001b[1;32m    260\u001b[0m     \u001b[0;32mreturn\u001b[0m \u001b[0mdata\u001b[0m\u001b[0;34m,\u001b[0m \u001b[0mf\u001b[0m\u001b[0;34m.\u001b[0m\u001b[0msamplerate\u001b[0m\u001b[0;34m\u001b[0m\u001b[0;34m\u001b[0m\u001b[0m\n\u001b[1;32m    261\u001b[0m \u001b[0;34m\u001b[0m\u001b[0m\n",
            "\u001b[0;32m/usr/local/lib/python3.6/dist-packages/soundfile.py\u001b[0m in \u001b[0;36mread\u001b[0;34m(self, frames, dtype, always_2d, fill_value, out)\u001b[0m\n\u001b[1;32m    863\u001b[0m             \u001b[0;32mif\u001b[0m \u001b[0mframes\u001b[0m \u001b[0;34m<\u001b[0m \u001b[0;36m0\u001b[0m \u001b[0;32mor\u001b[0m \u001b[0mframes\u001b[0m \u001b[0;34m>\u001b[0m \u001b[0mlen\u001b[0m\u001b[0;34m(\u001b[0m\u001b[0mout\u001b[0m\u001b[0;34m)\u001b[0m\u001b[0;34m:\u001b[0m\u001b[0;34m\u001b[0m\u001b[0;34m\u001b[0m\u001b[0m\n\u001b[1;32m    864\u001b[0m                 \u001b[0mframes\u001b[0m \u001b[0;34m=\u001b[0m \u001b[0mlen\u001b[0m\u001b[0;34m(\u001b[0m\u001b[0mout\u001b[0m\u001b[0;34m)\u001b[0m\u001b[0;34m\u001b[0m\u001b[0;34m\u001b[0m\u001b[0m\n\u001b[0;32m--> 865\u001b[0;31m         \u001b[0mframes\u001b[0m \u001b[0;34m=\u001b[0m \u001b[0mself\u001b[0m\u001b[0;34m.\u001b[0m\u001b[0m_array_io\u001b[0m\u001b[0;34m(\u001b[0m\u001b[0;34m'read'\u001b[0m\u001b[0;34m,\u001b[0m \u001b[0mout\u001b[0m\u001b[0;34m,\u001b[0m \u001b[0mframes\u001b[0m\u001b[0;34m)\u001b[0m\u001b[0;34m\u001b[0m\u001b[0;34m\u001b[0m\u001b[0m\n\u001b[0m\u001b[1;32m    866\u001b[0m         \u001b[0;32mif\u001b[0m \u001b[0mlen\u001b[0m\u001b[0;34m(\u001b[0m\u001b[0mout\u001b[0m\u001b[0;34m)\u001b[0m \u001b[0;34m>\u001b[0m \u001b[0mframes\u001b[0m\u001b[0;34m:\u001b[0m\u001b[0;34m\u001b[0m\u001b[0;34m\u001b[0m\u001b[0m\n\u001b[1;32m    867\u001b[0m             \u001b[0;32mif\u001b[0m \u001b[0mfill_value\u001b[0m \u001b[0;32mis\u001b[0m \u001b[0;32mNone\u001b[0m\u001b[0;34m:\u001b[0m\u001b[0;34m\u001b[0m\u001b[0;34m\u001b[0m\u001b[0m\n",
            "\u001b[0;32m/usr/local/lib/python3.6/dist-packages/soundfile.py\u001b[0m in \u001b[0;36m_array_io\u001b[0;34m(self, action, array, frames)\u001b[0m\n\u001b[1;32m   1308\u001b[0m         \u001b[0;32massert\u001b[0m \u001b[0marray\u001b[0m\u001b[0;34m.\u001b[0m\u001b[0mdtype\u001b[0m\u001b[0;34m.\u001b[0m\u001b[0mitemsize\u001b[0m \u001b[0;34m==\u001b[0m \u001b[0m_ffi\u001b[0m\u001b[0;34m.\u001b[0m\u001b[0msizeof\u001b[0m\u001b[0;34m(\u001b[0m\u001b[0mctype\u001b[0m\u001b[0;34m)\u001b[0m\u001b[0;34m\u001b[0m\u001b[0;34m\u001b[0m\u001b[0m\n\u001b[1;32m   1309\u001b[0m         \u001b[0mcdata\u001b[0m \u001b[0;34m=\u001b[0m \u001b[0m_ffi\u001b[0m\u001b[0;34m.\u001b[0m\u001b[0mcast\u001b[0m\u001b[0;34m(\u001b[0m\u001b[0mctype\u001b[0m \u001b[0;34m+\u001b[0m \u001b[0;34m'*'\u001b[0m\u001b[0;34m,\u001b[0m \u001b[0marray\u001b[0m\u001b[0;34m.\u001b[0m\u001b[0m__array_interface__\u001b[0m\u001b[0;34m[\u001b[0m\u001b[0;34m'data'\u001b[0m\u001b[0;34m]\u001b[0m\u001b[0;34m[\u001b[0m\u001b[0;36m0\u001b[0m\u001b[0;34m]\u001b[0m\u001b[0;34m)\u001b[0m\u001b[0;34m\u001b[0m\u001b[0;34m\u001b[0m\u001b[0m\n\u001b[0;32m-> 1310\u001b[0;31m         \u001b[0;32mreturn\u001b[0m \u001b[0mself\u001b[0m\u001b[0;34m.\u001b[0m\u001b[0m_cdata_io\u001b[0m\u001b[0;34m(\u001b[0m\u001b[0maction\u001b[0m\u001b[0;34m,\u001b[0m \u001b[0mcdata\u001b[0m\u001b[0;34m,\u001b[0m \u001b[0mctype\u001b[0m\u001b[0;34m,\u001b[0m \u001b[0mframes\u001b[0m\u001b[0;34m)\u001b[0m\u001b[0;34m\u001b[0m\u001b[0;34m\u001b[0m\u001b[0m\n\u001b[0m\u001b[1;32m   1311\u001b[0m \u001b[0;34m\u001b[0m\u001b[0m\n\u001b[1;32m   1312\u001b[0m     \u001b[0;32mdef\u001b[0m \u001b[0m_cdata_io\u001b[0m\u001b[0;34m(\u001b[0m\u001b[0mself\u001b[0m\u001b[0;34m,\u001b[0m \u001b[0maction\u001b[0m\u001b[0;34m,\u001b[0m \u001b[0mdata\u001b[0m\u001b[0;34m,\u001b[0m \u001b[0mctype\u001b[0m\u001b[0;34m,\u001b[0m \u001b[0mframes\u001b[0m\u001b[0;34m)\u001b[0m\u001b[0;34m:\u001b[0m\u001b[0;34m\u001b[0m\u001b[0;34m\u001b[0m\u001b[0m\n",
            "\u001b[0;32m/usr/local/lib/python3.6/dist-packages/soundfile.py\u001b[0m in \u001b[0;36m_cdata_io\u001b[0;34m(self, action, data, ctype, frames)\u001b[0m\n\u001b[1;32m   1317\u001b[0m             \u001b[0mcurr\u001b[0m \u001b[0;34m=\u001b[0m \u001b[0mself\u001b[0m\u001b[0;34m.\u001b[0m\u001b[0mtell\u001b[0m\u001b[0;34m(\u001b[0m\u001b[0;34m)\u001b[0m\u001b[0;34m\u001b[0m\u001b[0;34m\u001b[0m\u001b[0m\n\u001b[1;32m   1318\u001b[0m         \u001b[0mfunc\u001b[0m \u001b[0;34m=\u001b[0m \u001b[0mgetattr\u001b[0m\u001b[0;34m(\u001b[0m\u001b[0m_snd\u001b[0m\u001b[0;34m,\u001b[0m \u001b[0;34m'sf_'\u001b[0m \u001b[0;34m+\u001b[0m \u001b[0maction\u001b[0m \u001b[0;34m+\u001b[0m \u001b[0;34m'f_'\u001b[0m \u001b[0;34m+\u001b[0m \u001b[0mctype\u001b[0m\u001b[0;34m)\u001b[0m\u001b[0;34m\u001b[0m\u001b[0;34m\u001b[0m\u001b[0m\n\u001b[0;32m-> 1319\u001b[0;31m         \u001b[0mframes\u001b[0m \u001b[0;34m=\u001b[0m \u001b[0mfunc\u001b[0m\u001b[0;34m(\u001b[0m\u001b[0mself\u001b[0m\u001b[0;34m.\u001b[0m\u001b[0m_file\u001b[0m\u001b[0;34m,\u001b[0m \u001b[0mdata\u001b[0m\u001b[0;34m,\u001b[0m \u001b[0mframes\u001b[0m\u001b[0;34m)\u001b[0m\u001b[0;34m\u001b[0m\u001b[0;34m\u001b[0m\u001b[0m\n\u001b[0m\u001b[1;32m   1320\u001b[0m         \u001b[0m_error_check\u001b[0m\u001b[0;34m(\u001b[0m\u001b[0mself\u001b[0m\u001b[0;34m.\u001b[0m\u001b[0m_errorcode\u001b[0m\u001b[0;34m)\u001b[0m\u001b[0;34m\u001b[0m\u001b[0;34m\u001b[0m\u001b[0m\n\u001b[1;32m   1321\u001b[0m         \u001b[0;32mif\u001b[0m \u001b[0mself\u001b[0m\u001b[0;34m.\u001b[0m\u001b[0mseekable\u001b[0m\u001b[0;34m(\u001b[0m\u001b[0;34m)\u001b[0m\u001b[0;34m:\u001b[0m\u001b[0;34m\u001b[0m\u001b[0;34m\u001b[0m\u001b[0m\n",
            "\u001b[0;31mKeyboardInterrupt\u001b[0m: "
          ]
        }
      ]
    },
    {
      "metadata": {
        "id": "AaCc226VHoXn",
        "colab_type": "code",
        "colab": {
          "base_uri": "https://localhost:8080/",
          "height": 34
        },
        "outputId": "2a98ad13-eb27-4e30-bf4d-41774f8020fe"
      },
      "cell_type": "code",
      "source": [
        "frame_length_s = 0.04\n",
        "fs = 44100\n",
        "int(2**np.ceil(np.log2(fs*frame_length_s)))\n",
        "int(fs*frame_length_s)"
      ],
      "execution_count": 52,
      "outputs": [
        {
          "output_type": "execute_result",
          "data": {
            "text/plain": [
              "1764"
            ]
          },
          "metadata": {
            "tags": []
          },
          "execution_count": 52
        }
      ]
    },
    {
      "metadata": {
        "id": "OEDDZWUiK8eE",
        "colab_type": "code",
        "colab": {}
      },
      "cell_type": "code",
      "source": [
        ""
      ],
      "execution_count": 0,
      "outputs": []
    }
  ]
}