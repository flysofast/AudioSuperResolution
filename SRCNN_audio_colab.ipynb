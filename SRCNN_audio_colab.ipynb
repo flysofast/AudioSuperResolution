{
  "nbformat": 4,
  "nbformat_minor": 0,
  "metadata": {
    "colab": {
      "name": "SRCNN_audio.ipynb",
      "version": "0.3.2",
      "provenance": [],
      "collapsed_sections": [
        "ihzW3VlGDy0_"
      ],
      "toc_visible": true
    },
    "kernelspec": {
      "name": "python3",
      "display_name": "Python 3"
    },
    "accelerator": "GPU"
  },
  "cells": [
    {
      "metadata": {
        "id": "OeHavQi-DqeL",
        "colab_type": "text"
      },
      "cell_type": "markdown",
      "source": [
        "# **Dependencies installation and Google Colab project setup**"
      ]
    },
    {
      "metadata": {
        "id": "Yjib4MMdSzkZ",
        "colab_type": "text"
      },
      "cell_type": "markdown",
      "source": [
        " **Install depedencies**"
      ]
    },
    {
      "metadata": {
        "id": "8numw3weCJja",
        "colab_type": "code",
        "outputId": "8cbf4b8b-5718-4d08-a2ae-b7c778683816",
        "colab": {
          "base_uri": "https://localhost:8080/",
          "height": 742
        }
      },
      "cell_type": "code",
      "source": [
        "!pip install pydrive\n",
        "!pip install pydub\n",
        "!pip install soundfile\n",
        "\n",
        "from pydrive.auth import GoogleAuth\n",
        "from pydrive.drive import GoogleDrive\n",
        "from google.colab import auth\n",
        "from oauth2client.client import GoogleCredentials"
      ],
      "execution_count": 1,
      "outputs": [
        {
          "output_type": "stream",
          "text": [
            "Collecting pydrive\n",
            "\u001b[?25l  Downloading https://files.pythonhosted.org/packages/52/e0/0e64788e5dd58ce2d6934549676243dc69d982f198524be9b99e9c2a4fd5/PyDrive-1.3.1.tar.gz (987kB)\n",
            "\u001b[K    100% |████████████████████████████████| 993kB 22.4MB/s \n",
            "\u001b[?25hRequirement already satisfied: google-api-python-client>=1.2 in /usr/local/lib/python3.6/dist-packages (from pydrive) (1.6.7)\n",
            "Requirement already satisfied: oauth2client>=4.0.0 in /usr/local/lib/python3.6/dist-packages (from pydrive) (4.1.3)\n",
            "Requirement already satisfied: PyYAML>=3.0 in /usr/local/lib/python3.6/dist-packages (from pydrive) (3.13)\n",
            "Requirement already satisfied: httplib2<1dev,>=0.9.2 in /usr/local/lib/python3.6/dist-packages (from google-api-python-client>=1.2->pydrive) (0.11.3)\n",
            "Requirement already satisfied: uritemplate<4dev,>=3.0.0 in /usr/local/lib/python3.6/dist-packages (from google-api-python-client>=1.2->pydrive) (3.0.0)\n",
            "Requirement already satisfied: six<2dev,>=1.6.1 in /usr/local/lib/python3.6/dist-packages (from google-api-python-client>=1.2->pydrive) (1.12.0)\n",
            "Requirement already satisfied: pyasn1-modules>=0.0.5 in /usr/local/lib/python3.6/dist-packages (from oauth2client>=4.0.0->pydrive) (0.2.5)\n",
            "Requirement already satisfied: pyasn1>=0.1.7 in /usr/local/lib/python3.6/dist-packages (from oauth2client>=4.0.0->pydrive) (0.4.5)\n",
            "Requirement already satisfied: rsa>=3.1.4 in /usr/local/lib/python3.6/dist-packages (from oauth2client>=4.0.0->pydrive) (4.0)\n",
            "Building wheels for collected packages: pydrive\n",
            "  Building wheel for pydrive (setup.py) ... \u001b[?25ldone\n",
            "\u001b[?25h  Stored in directory: /root/.cache/pip/wheels/fa/d2/9a/d3b6b506c2da98289e5d417215ce34b696db856643bad779f4\n",
            "Successfully built pydrive\n",
            "Installing collected packages: pydrive\n",
            "Successfully installed pydrive-1.3.1\n",
            "Collecting pydub\n",
            "  Downloading https://files.pythonhosted.org/packages/79/db/eaf620b73a1eec3c8c6f8f5b0b236a50f9da88ad57802154b7ba7664d0b8/pydub-0.23.1-py2.py3-none-any.whl\n",
            "Installing collected packages: pydub\n",
            "Successfully installed pydub-0.23.1\n",
            "Collecting soundfile\n",
            "  Downloading https://files.pythonhosted.org/packages/68/64/1191352221e2ec90db7492b4bf0c04fd9d2508de67b3f39cbf093cd6bd86/SoundFile-0.10.2-py2.py3-none-any.whl\n",
            "Requirement already satisfied: cffi>=1.0 in /usr/local/lib/python3.6/dist-packages (from soundfile) (1.12.3)\n",
            "Requirement already satisfied: pycparser in /usr/local/lib/python3.6/dist-packages (from cffi>=1.0->soundfile) (2.19)\n",
            "Installing collected packages: soundfile\n",
            "Successfully installed soundfile-0.10.2\n"
          ],
          "name": "stdout"
        }
      ]
    },
    {
      "metadata": {
        "id": "q0DKLODpS91N",
        "colab_type": "text"
      },
      "cell_type": "markdown",
      "source": [
        "**Files setup**"
      ]
    },
    {
      "metadata": {
        "id": "jNxua5xnnD2a",
        "colab_type": "code",
        "colab": {}
      },
      "cell_type": "code",
      "source": [
        ""
      ],
      "execution_count": 0,
      "outputs": []
    },
    {
      "metadata": {
        "id": "lhasdAwYTJrS",
        "colab_type": "code",
        "outputId": "0563221f-e1c9-496b-dfbb-cb612874fad8",
        "colab": {
          "base_uri": "https://localhost:8080/",
          "height": 136
        }
      },
      "cell_type": "code",
      "source": [
        "# https://drive.google.com/open?id=1e9EZ3ZA6k2Qij3EnmGVrMLSKo9hcCxSp\n",
        "# https://drive.google.com/open?id=1aVE-RIMYgQLykn55nF8XzY82AJPVUiWi\n",
        "# https://drive.google.com/open?id=1DjOTVdqhQWHA6MmYeogileqc8Y0kEZB6\n",
        "# https://drive.google.com/open?id=1_GcDEd4cxxQUKJ4Nqoae63FHtnP5ndbh\n",
        "# 1rtxU9VHllQSYoC7J9sxCm6KKf7UMsfvO // features 2GB\n",
        "# 1PXV4iK6Lmh0ZDAgZMwIaFUTK3l68vP4D // feature 5 GB\n",
        "filenames = ['features.hdf5', '1.wav','mono_1_stereo_LQ.wav','mono_1_stereo_HQ']\n",
        "# https://drive.google.com/open?id=1Ae1WQspnvC2wNz2ywQ0238_E2SlZpaGr\n",
        "ids = ['1rtxU9VHllQSYoC7J9sxCm6KKf7UMsfvO', '1_OmHV0rVNyfbzZgxnYzbgS-ozzJ-OlHo','1UCmJvf67RUsFgYzLljS4a3T6Q0N5EBRi','1aVE-RIMYgQLykn55nF8XzY82AJPVUiWi'] # ids of the corresponding files uploaded to google drive\n",
        "for i in range(len(ids)):\n",
        "  # Authenticate and create the PyDrive client.\n",
        "  auth.authenticate_user()\n",
        "  gauth = GoogleAuth()\n",
        "  gauth.credentials = GoogleCredentials.get_application_default()\n",
        "  drive = GoogleDrive(gauth)\n",
        "#   link = \n",
        "#   fluff, id = link.split('=')\n",
        "  print (ids[i]) # Verify that you have everything after '='\n",
        "  downloaded = drive.CreateFile({'id':ids[i]}) \n",
        "  downloaded.GetContentFile(filenames[i]) \n",
        "  # os.environ['KMP_DUPLICATE_LIB_OK']='True'\n",
        "  features_filename = filenames[0]\n",
        "  input_filename = filenames[2]\n",
        "  groundtruth_filenam = filenames[3]"
      ],
      "execution_count": 2,
      "outputs": [
        {
          "output_type": "stream",
          "text": [
            "1rtxU9VHllQSYoC7J9sxCm6KKf7UMsfvO\n",
            "1_OmHV0rVNyfbzZgxnYzbgS-ozzJ-OlHo\n",
            "1UCmJvf67RUsFgYzLljS4a3T6Q0N5EBRi\n",
            "1aVE-RIMYgQLykn55nF8XzY82AJPVUiWi\n"
          ],
          "name": "stdout"
        }
      ]
    },
    {
      "metadata": {
        "id": "FFXvDmmCDSGn",
        "colab_type": "text"
      },
      "cell_type": "markdown",
      "source": [
        "# **Features extraction and train the model**\n"
      ]
    },
    {
      "metadata": {
        "id": "tSP82RCxKb_j",
        "colab_type": "text"
      },
      "cell_type": "markdown",
      "source": [
        "**Function definitions:**"
      ]
    },
    {
      "metadata": {
        "id": "TFfPpl4OMCWk",
        "colab_type": "code",
        "colab": {}
      },
      "cell_type": "code",
      "source": [
        "#%%\n",
        "import os\n",
        "import soundfile as sf\n",
        "from scipy import signal\n",
        "import numpy as np\n",
        "import matplotlib.pyplot as plt\n",
        "from keras.layers.convolutional import Conv2D, MaxPooling2D\n",
        "from keras.models import Sequential, load_model\n",
        "from keras.layers.core import Dense, Activation, Flatten\n",
        "from sklearn.model_selection import train_test_split\n",
        "from keras.optimizers import SGD, Adam\n",
        "from keras.callbacks import ModelCheckpoint,EarlyStopping\n",
        "import h5py\n",
        "from librosa.output import write_wav\n",
        "from pydub import AudioSegment\n",
        "import os\n",
        "import datetime\n",
        "from scipy.io.wavfile import write\n",
        "\n",
        "#Feature extraction\n",
        "def feature_extraction(x,fs):\n",
        "\n",
        "\tframe_length_s = 0.04 # window length in seconds\n",
        "\tframe_length = int(fs*frame_length_s) # 40ms window length in samples\n",
        "\t# set an overlap ratio of 50 %\n",
        "\thop_length = frame_length//2\n",
        "\n",
        "\t# Compute STFT\n",
        "\t_,_,X = signal.stft(x, noverlap=hop_length, fs=fs,nperseg=frame_length)\n",
        "\tnumber_frequencies, number_time_frames = X.shape\n",
        "\tphaseInfo = np.angle(X)\n",
        "\tX = np.abs(X)\n",
        "\n",
        "\t# Segmentation\n",
        "\tsample_length_s = 0.5 # segment length in seconds\n",
        "\tsample_length = int(sample_length_s/frame_length_s) # ~1s in samples\n",
        "\n",
        "\t# Trim the frames that can't be fitted into the segment size\n",
        "\ttrimmed_X = X[:, :-(number_time_frames%sample_length)]\n",
        "\ttrimmed_phaseInfo = phaseInfo[:, :-(number_time_frames%sample_length)]\n",
        "\n",
        "\t# Segmentation (number of freqs x number of frames x number of segment x 1). The last dimension is 'channel'.\n",
        "\tfeatures = trimmed_X.reshape((number_frequencies,sample_length,-1,1), order='F')\n",
        "\t# Transpose the feature to be in form (number of segment x number of freqs x number of frames x 1)\n",
        "\treturn trimmed_phaseInfo,features.transpose((2,0,1,3))\n",
        "\n",
        "#Converts stereo wav to mono wav\n",
        "def file_process(file_path):\n",
        "\tfolderpath, filename = os.path.split(file_path)\n",
        "\tsound = AudioSegment.from_wav(file_path)\n",
        "\tsound = sound.set_channels(1)\n",
        "\tsound.export(os.path.join(mono_folder,'mono_'+filename), format=\"wav\")\n",
        "\n",
        "\n",
        "\t# #%% --------Spectrogram--------------\n",
        "\t# # The whole file spectrogram------------------\n",
        "\t# to_be_plotted = trimmed_X\n",
        "\t\t# duration = len(x)/float(fs)\n",
        "\t# freq_scale = np.linspace(0, fs / 2, to_be_plotted.shape[0])\n",
        "\t# timeframe_scale = np.linspace(0, duration, to_be_plotted.shape[1])\n",
        "\n",
        "\t# # plot spectrogram (amplitude only)\n",
        "\t# W = np.abs(to_be_plotted)\n",
        "\t# plt.figure()\n",
        "\t# plt.subplot(2,1,1)\n",
        "\t# plt.pcolormesh(timeframe_scale, freq_scale, np.log(W+0.00001))\n",
        "\t# plt.xlabel('Time (s)')\n",
        "\t# plt.ylabel('Frequency (Hz)')\n",
        "\t# plt.title('Entire file Spectrogram (log scale)')\n",
        "\t# plt.tight_layout()\n",
        "\n",
        "\t# # First batch spectrogram--------------\n",
        "\t# freq_scale = np.linspace(0, fs / 2, number_frequencies)\n",
        "\t# timeframe_scale = np.linspace(0, segment_length*frame_length_s, segment_length)\n",
        "\t# # plot spectrogram (amplitude only)\n",
        "\t# W = np.abs(features[50])\n",
        "\t# plt.subplot(2,1,2)\n",
        "\t# plt.pcolormesh(timeframe_scale, freq_scale, np.log(W+0.00001))\n",
        "\t# plt.xlabel('Time (s)')\n",
        "\t# plt.ylabel('Frequency (Hz)')\n",
        "\t# plt.title('First batch spectrogram (log scale)')\n",
        "\t# plt.tight_layout()\n",
        "\t# plt.show()\n",
        "\n",
        "#%%---Convert to mp3------\n",
        "# AudioSegment.from_wav(mono_filepath).export(mp3_filepath, format=\"mp3\")\n",
        "#%%---------Test extract features-----------\n",
        "\n",
        "\n",
        "def save_features(X_train,X_test,y_train,y_test):\n",
        "\n",
        "\twith h5py.File(features_filename, 'w') as f:\n",
        "\t\tf.create_dataset('X_train', data=X_train)\n",
        "\t\tf.create_dataset('X_test', data=X_test)\n",
        "\t\tf.create_dataset('y_train', data=y_train)\n",
        "\t\tf.create_dataset('y_test', data=y_test)\n",
        "\n",
        "#%% -----Read data-----------\n",
        "\n",
        "def read_features():\n",
        "\twith h5py.File(features_filename, 'r') as f:\n",
        "\t\t\tX_train = f.get('X_train').value\n",
        "\t\t\tX_test = f.get('X_test').value\n",
        "\t\t\ty_train = f.get('y_train').value\n",
        "\t\t\ty_test = f.get('y_test').value\n",
        "\treturn X_train, y_train, X_test, y_test\n",
        "\n",
        "\n",
        "#%%---------CNN Model-------\n",
        "\n",
        "def get_model(features_shape):\n",
        "\tinput_shape = (features_shape[1],features_shape[2], 1)# (number of freqs x number of frames in a segment x number of channels)\n",
        "\tmodel = Sequential()\n",
        "\tmodel.add(Conv2D(32, (5, 5),\n",
        "\t\t\tinput_shape=input_shape,\n",
        "\t\t\tactivation = \"relu\",\n",
        "\t\t\tpadding = \"same\"))\n",
        "\t# model.add(MaxPooling2D(pool_size=(4, 4)))\n",
        "\tmodel.add(Conv2D(64, (5, 5),\n",
        "\t\t\tactivation = \"relu\",\n",
        "\t\t\tpadding = \"same\"))\n",
        "\t\t\t\n",
        "\tmodel.add(Conv2D(1, (10, 10),\n",
        "\t\t\tactivation = \"relu\",\n",
        "\t\t\tpadding = \"same\"))\n",
        "\n",
        "\tadam = Adam(lr=0.0003)\n",
        "\tmodel.compile(optimizer=adam, loss='mean_absolute_error', metrics=['mean_absolute_error'])\n",
        "\tmodel.summary()\n",
        "\treturn model\n",
        "\n",
        "def get_model(features_shape):\n",
        "\tinput_shape = (features_shape[1],features_shape[2], 1)# (number of freqs x number of frames in a segment x number of channels)\n",
        "\tmodel = Sequential()\n",
        "\tmodel.add(Conv2D(32, (5, 5),\n",
        "\t\t\tinput_shape=input_shape,\n",
        "\t\t\tactivation = \"relu\",\n",
        "\t\t\tpadding = \"same\"))\n",
        "\t# model.add(MaxPooling2D(pool_size=(4, 4)))\n",
        "\tmodel.add(Conv2D(64, (5, 5),\n",
        "\t\t\tactivation = \"relu\",\n",
        "\t\t\tpadding = \"same\"))\n",
        "\t\t\t\n",
        "\tmodel.add(Conv2D(1, (10, 10),\n",
        "\t\t\tactivation = \"relu\",\n",
        "\t\t\tpadding = \"same\"))\n",
        "\n",
        "\tadam = Adam(lr=0.0003)\n",
        "\tmodel.compile(optimizer=adam, loss='mean_absolute_error', metrics=['mean_absolute_error'])\n",
        "\tmodel.summary()\n",
        "\treturn model\n",
        "\n",
        "\n",
        "def reconstruct(y,fs,model):    \n",
        "\tphaseInfo,feat = feature_extraction(y,fs)\n",
        "\tyhat = model.predict(feat)\n",
        "\t\n",
        "\t#------RECONSTRUCT THE AUDIO--------\n",
        "\t# Restore to the original shape\n",
        "\tyrec = yhat.transpose((1,2,0,3))\n",
        "\tyrec = yrec.reshape((yrec.shape[0],-1), order='F')\n",
        "\n",
        "\t# Save output file\n",
        "\t_, xrec = signal.istft(yrec, fs)\n",
        "\twrite(\"output.wav\",fs,xrec)\n",
        "\tprint('Output without phase info was saved.')\n",
        "\n",
        "\tyrec = yrec * np.exp(1j*phaseInfo)\n",
        "\t# Save output file\n",
        "\t_, xrec = signal.istft(yrec, fs)\n",
        "\n",
        "\tsf.write(\"output_with_phase.wav\",xrec,fs, 'PCM_16')\n",
        "\tprint('Output with phase info was saved.')\n"
      ],
      "execution_count": 0,
      "outputs": []
    },
    {
      "metadata": {
        "id": "o6Fo2mtxMw3s",
        "colab_type": "text"
      },
      "cell_type": "markdown",
      "source": [
        "**Extract features**"
      ]
    },
    {
      "metadata": {
        "id": "AiWfJAcnMztd",
        "colab_type": "code",
        "colab": {}
      },
      "cell_type": "code",
      "source": [
        "# Read from file\n",
        " X_train, y_train, X_test, y_test = read_features()\n",
        "\n",
        "# Extract features manually\n",
        "# x1, fs = sf.read(groundtruth_filenam)\n",
        "# _,groundtruth_features = feature_extraction(x1,fs)\n",
        "\n",
        "# x2, fs = sf.read(input_filename)\n",
        "# _ ,input_features = feature_extraction(x2,fs)\n",
        "\n",
        "# X_train,X_test,y_train,y_test = train_test_split(input_features,groundtruth_features,test_size=0.2)\n",
        "# save_features(X_train,X_test,y_train,y_test)\n",
        "\n"
      ],
      "execution_count": 0,
      "outputs": []
    },
    {
      "metadata": {
        "id": "qZzrlDEeKhYk",
        "colab_type": "text"
      },
      "cell_type": "markdown",
      "source": [
        "**Train the model:**"
      ]
    },
    {
      "metadata": {
        "id": "G14LAerXKka_",
        "colab_type": "code",
        "outputId": "72cb1a6f-0ebc-48e3-cdb8-8b7181b2a761",
        "colab": {
          "base_uri": "https://localhost:8080/",
          "height": 3318
        }
      },
      "cell_type": "code",
      "source": [
        "model = get_model(y_train.shape)\n",
        "\n",
        "model_filename = 'SRCNN_{date:%Y-%m-%d %H:%M:%S}_best.h5'.format( date=datetime.datetime.now())\n",
        "checkpoint = ModelCheckpoint(model_filename, monitor='val_loss', verbose=1, save_best_only=True,\n",
        "                                 save_weights_only=False, mode='min')\n",
        "es = EarlyStopping(monitor='val_loss', mode='min', verbose=1, patience=20)\n",
        "callbacks_list = [checkpoint,es]\n",
        "model.fit(X_train, y_train, batch_size=16, validation_data=(X_test, y_test),\n",
        "                   shuffle=True, epochs=200, callbacks=callbacks_list)\n",
        "model.save('test-{date:%Y-%m-%d %H:%M:%S}.h5'.format( date=datetime.datetime.now() ))\n",
        "\n",
        "#%%"
      ],
      "execution_count": 5,
      "outputs": [
        {
          "output_type": "stream",
          "text": [
            "WARNING:tensorflow:From /usr/local/lib/python3.6/dist-packages/tensorflow/python/framework/op_def_library.py:263: colocate_with (from tensorflow.python.framework.ops) is deprecated and will be removed in a future version.\n",
            "Instructions for updating:\n",
            "Colocations handled automatically by placer.\n",
            "_________________________________________________________________\n",
            "Layer (type)                 Output Shape              Param #   \n",
            "=================================================================\n",
            "conv2d_1 (Conv2D)            (None, 883, 12, 32)       832       \n",
            "_________________________________________________________________\n",
            "conv2d_2 (Conv2D)            (None, 883, 12, 64)       51264     \n",
            "_________________________________________________________________\n",
            "conv2d_3 (Conv2D)            (None, 883, 12, 1)        6401      \n",
            "=================================================================\n",
            "Total params: 58,497\n",
            "Trainable params: 58,497\n",
            "Non-trainable params: 0\n",
            "_________________________________________________________________\n",
            "WARNING:tensorflow:From /usr/local/lib/python3.6/dist-packages/tensorflow/python/ops/math_ops.py:3066: to_int32 (from tensorflow.python.ops.math_ops) is deprecated and will be removed in a future version.\n",
            "Instructions for updating:\n",
            "Use tf.cast instead.\n",
            "Train on 9872 samples, validate on 2468 samples\n",
            "Epoch 1/200\n",
            "9872/9872 [==============================] - 40s 4ms/step - loss: 2.6459e-04 - mean_absolute_error: 2.6459e-04 - val_loss: 1.1665e-04 - val_mean_absolute_error: 1.1665e-04\n",
            "\n",
            "Epoch 00001: val_loss improved from inf to 0.00012, saving model to SRCNN_2019-05-01 15:36:34_best.h5\n",
            "Epoch 2/200\n",
            "9872/9872 [==============================] - 37s 4ms/step - loss: 2.2643e-04 - mean_absolute_error: 2.2643e-04 - val_loss: 8.6433e-05 - val_mean_absolute_error: 8.6433e-05\n",
            "\n",
            "Epoch 00002: val_loss improved from 0.00012 to 0.00009, saving model to SRCNN_2019-05-01 15:36:34_best.h5\n",
            "Epoch 3/200\n",
            "9872/9872 [==============================] - 36s 4ms/step - loss: 2.4134e-04 - mean_absolute_error: 2.4134e-04 - val_loss: 6.6874e-05 - val_mean_absolute_error: 6.6874e-05\n",
            "\n",
            "Epoch 00003: val_loss improved from 0.00009 to 0.00007, saving model to SRCNN_2019-05-01 15:36:34_best.h5\n",
            "Epoch 4/200\n",
            "9872/9872 [==============================] - 37s 4ms/step - loss: 2.0863e-04 - mean_absolute_error: 2.0863e-04 - val_loss: 7.8727e-05 - val_mean_absolute_error: 7.8727e-05\n",
            "\n",
            "Epoch 00004: val_loss did not improve from 0.00007\n",
            "Epoch 5/200\n",
            "9872/9872 [==============================] - 36s 4ms/step - loss: 1.4790e-04 - mean_absolute_error: 1.4790e-04 - val_loss: 1.2120e-04 - val_mean_absolute_error: 1.2120e-04\n",
            "\n",
            "Epoch 00005: val_loss did not improve from 0.00007\n",
            "Epoch 6/200\n",
            "9872/9872 [==============================] - 37s 4ms/step - loss: 1.5266e-04 - mean_absolute_error: 1.5266e-04 - val_loss: 1.0317e-04 - val_mean_absolute_error: 1.0317e-04\n",
            "\n",
            "Epoch 00006: val_loss did not improve from 0.00007\n",
            "Epoch 7/200\n",
            "9872/9872 [==============================] - 36s 4ms/step - loss: 1.1797e-04 - mean_absolute_error: 1.1797e-04 - val_loss: 6.8757e-05 - val_mean_absolute_error: 6.8757e-05\n",
            "\n",
            "Epoch 00007: val_loss did not improve from 0.00007\n",
            "Epoch 8/200\n",
            "9872/9872 [==============================] - 37s 4ms/step - loss: 7.9988e-05 - mean_absolute_error: 7.9988e-05 - val_loss: 2.5090e-05 - val_mean_absolute_error: 2.5090e-05\n",
            "\n",
            "Epoch 00008: val_loss improved from 0.00007 to 0.00003, saving model to SRCNN_2019-05-01 15:36:34_best.h5\n",
            "Epoch 9/200\n",
            "9872/9872 [==============================] - 36s 4ms/step - loss: 5.8865e-05 - mean_absolute_error: 5.8865e-05 - val_loss: 1.5693e-05 - val_mean_absolute_error: 1.5693e-05\n",
            "\n",
            "Epoch 00009: val_loss improved from 0.00003 to 0.00002, saving model to SRCNN_2019-05-01 15:36:34_best.h5\n",
            "Epoch 10/200\n",
            "9872/9872 [==============================] - 37s 4ms/step - loss: 5.2156e-05 - mean_absolute_error: 5.2156e-05 - val_loss: 1.6364e-05 - val_mean_absolute_error: 1.6364e-05\n",
            "\n",
            "Epoch 00010: val_loss did not improve from 0.00002\n",
            "Epoch 11/200\n",
            "9872/9872 [==============================] - 36s 4ms/step - loss: 4.8452e-05 - mean_absolute_error: 4.8452e-05 - val_loss: 3.0493e-05 - val_mean_absolute_error: 3.0493e-05\n",
            "\n",
            "Epoch 00011: val_loss did not improve from 0.00002\n",
            "Epoch 12/200\n",
            "9872/9872 [==============================] - 37s 4ms/step - loss: 4.7217e-05 - mean_absolute_error: 4.7217e-05 - val_loss: 1.0859e-05 - val_mean_absolute_error: 1.0859e-05\n",
            "\n",
            "Epoch 00012: val_loss improved from 0.00002 to 0.00001, saving model to SRCNN_2019-05-01 15:36:34_best.h5\n",
            "Epoch 13/200\n",
            "9872/9872 [==============================] - 36s 4ms/step - loss: 4.5741e-05 - mean_absolute_error: 4.5741e-05 - val_loss: 1.4947e-05 - val_mean_absolute_error: 1.4947e-05\n",
            "\n",
            "Epoch 00013: val_loss did not improve from 0.00001\n",
            "Epoch 14/200\n",
            "9872/9872 [==============================] - 36s 4ms/step - loss: 4.3158e-05 - mean_absolute_error: 4.3158e-05 - val_loss: 1.1995e-05 - val_mean_absolute_error: 1.1995e-05\n",
            "\n",
            "Epoch 00014: val_loss did not improve from 0.00001\n",
            "Epoch 15/200\n",
            "9872/9872 [==============================] - 37s 4ms/step - loss: 4.4395e-05 - mean_absolute_error: 4.4395e-05 - val_loss: 1.1808e-05 - val_mean_absolute_error: 1.1808e-05\n",
            "\n",
            "Epoch 00015: val_loss did not improve from 0.00001\n",
            "Epoch 16/200\n",
            "9872/9872 [==============================] - 36s 4ms/step - loss: 4.6676e-05 - mean_absolute_error: 4.6676e-05 - val_loss: 2.0750e-05 - val_mean_absolute_error: 2.0750e-05\n",
            "\n",
            "Epoch 00016: val_loss did not improve from 0.00001\n",
            "Epoch 17/200\n",
            "9872/9872 [==============================] - 37s 4ms/step - loss: 4.4084e-05 - mean_absolute_error: 4.4084e-05 - val_loss: 1.0351e-05 - val_mean_absolute_error: 1.0351e-05\n",
            "\n",
            "Epoch 00017: val_loss improved from 0.00001 to 0.00001, saving model to SRCNN_2019-05-01 15:36:34_best.h5\n",
            "Epoch 18/200\n",
            "9872/9872 [==============================] - 36s 4ms/step - loss: 4.1701e-05 - mean_absolute_error: 4.1701e-05 - val_loss: 2.6496e-05 - val_mean_absolute_error: 2.6496e-05\n",
            "\n",
            "Epoch 00018: val_loss did not improve from 0.00001\n",
            "Epoch 19/200\n",
            "9872/9872 [==============================] - 37s 4ms/step - loss: 4.1936e-05 - mean_absolute_error: 4.1936e-05 - val_loss: 1.4721e-05 - val_mean_absolute_error: 1.4721e-05\n",
            "\n",
            "Epoch 00019: val_loss did not improve from 0.00001\n",
            "Epoch 20/200\n",
            "9872/9872 [==============================] - 36s 4ms/step - loss: 4.3704e-05 - mean_absolute_error: 4.3704e-05 - val_loss: 2.2157e-05 - val_mean_absolute_error: 2.2157e-05\n",
            "\n",
            "Epoch 00020: val_loss did not improve from 0.00001\n",
            "Epoch 21/200\n",
            "9872/9872 [==============================] - 37s 4ms/step - loss: 4.7307e-05 - mean_absolute_error: 4.7307e-05 - val_loss: 1.6930e-05 - val_mean_absolute_error: 1.6930e-05\n",
            "\n",
            "Epoch 00021: val_loss did not improve from 0.00001\n",
            "Epoch 22/200\n",
            "9872/9872 [==============================] - 36s 4ms/step - loss: 4.2162e-05 - mean_absolute_error: 4.2162e-05 - val_loss: 1.1624e-05 - val_mean_absolute_error: 1.1624e-05\n",
            "\n",
            "Epoch 00022: val_loss did not improve from 0.00001\n",
            "Epoch 23/200\n",
            "9872/9872 [==============================] - 37s 4ms/step - loss: 4.2715e-05 - mean_absolute_error: 4.2715e-05 - val_loss: 8.6662e-06 - val_mean_absolute_error: 8.6662e-06\n",
            "\n",
            "Epoch 00023: val_loss improved from 0.00001 to 0.00001, saving model to SRCNN_2019-05-01 15:36:34_best.h5\n",
            "Epoch 24/200\n",
            "9872/9872 [==============================] - 36s 4ms/step - loss: 4.0290e-05 - mean_absolute_error: 4.0290e-05 - val_loss: 1.1366e-05 - val_mean_absolute_error: 1.1366e-05\n",
            "\n",
            "Epoch 00024: val_loss did not improve from 0.00001\n",
            "Epoch 25/200\n",
            "9872/9872 [==============================] - 37s 4ms/step - loss: 4.0348e-05 - mean_absolute_error: 4.0348e-05 - val_loss: 1.0325e-05 - val_mean_absolute_error: 1.0325e-05\n",
            "\n",
            "Epoch 00025: val_loss did not improve from 0.00001\n",
            "Epoch 26/200\n",
            "9872/9872 [==============================] - 36s 4ms/step - loss: 4.1194e-05 - mean_absolute_error: 4.1194e-05 - val_loss: 9.6195e-06 - val_mean_absolute_error: 9.6195e-06\n",
            "\n",
            "Epoch 00026: val_loss did not improve from 0.00001\n",
            "Epoch 27/200\n",
            "9872/9872 [==============================] - 37s 4ms/step - loss: 4.0947e-05 - mean_absolute_error: 4.0947e-05 - val_loss: 9.7167e-06 - val_mean_absolute_error: 9.7167e-06\n",
            "\n",
            "Epoch 00027: val_loss did not improve from 0.00001\n",
            "Epoch 28/200\n",
            "9872/9872 [==============================] - 36s 4ms/step - loss: 4.4123e-05 - mean_absolute_error: 4.4123e-05 - val_loss: 1.7444e-05 - val_mean_absolute_error: 1.7444e-05\n",
            "\n",
            "Epoch 00028: val_loss did not improve from 0.00001\n",
            "Epoch 29/200\n",
            "9872/9872 [==============================] - 36s 4ms/step - loss: 5.1140e-05 - mean_absolute_error: 5.1140e-05 - val_loss: 1.6738e-05 - val_mean_absolute_error: 1.6738e-05\n",
            "\n",
            "Epoch 00029: val_loss did not improve from 0.00001\n",
            "Epoch 30/200\n",
            "9872/9872 [==============================] - 37s 4ms/step - loss: 4.9343e-05 - mean_absolute_error: 4.9343e-05 - val_loss: 1.3741e-05 - val_mean_absolute_error: 1.3741e-05\n",
            "\n",
            "Epoch 00030: val_loss did not improve from 0.00001\n",
            "Epoch 31/200\n",
            "9872/9872 [==============================] - 36s 4ms/step - loss: 4.5563e-05 - mean_absolute_error: 4.5563e-05 - val_loss: 2.7874e-05 - val_mean_absolute_error: 2.7874e-05\n",
            "\n",
            "Epoch 00031: val_loss did not improve from 0.00001\n",
            "Epoch 32/200\n",
            "9872/9872 [==============================] - 37s 4ms/step - loss: 4.7589e-05 - mean_absolute_error: 4.7589e-05 - val_loss: 1.8009e-05 - val_mean_absolute_error: 1.8009e-05\n",
            "\n",
            "Epoch 00032: val_loss did not improve from 0.00001\n",
            "Epoch 33/200\n",
            "9872/9872 [==============================] - 36s 4ms/step - loss: 4.5158e-05 - mean_absolute_error: 4.5158e-05 - val_loss: 1.4890e-05 - val_mean_absolute_error: 1.4890e-05\n",
            "\n",
            "Epoch 00033: val_loss did not improve from 0.00001\n",
            "Epoch 34/200\n",
            "9872/9872 [==============================] - 36s 4ms/step - loss: 4.7485e-05 - mean_absolute_error: 4.7485e-05 - val_loss: 1.2411e-05 - val_mean_absolute_error: 1.2411e-05\n",
            "\n",
            "Epoch 00034: val_loss did not improve from 0.00001\n",
            "Epoch 35/200\n",
            "9872/9872 [==============================] - 36s 4ms/step - loss: 4.6408e-05 - mean_absolute_error: 4.6408e-05 - val_loss: 1.5950e-05 - val_mean_absolute_error: 1.5950e-05\n",
            "\n",
            "Epoch 00035: val_loss did not improve from 0.00001\n",
            "Epoch 36/200\n",
            "9872/9872 [==============================] - 36s 4ms/step - loss: 4.7907e-05 - mean_absolute_error: 4.7907e-05 - val_loss: 1.5074e-05 - val_mean_absolute_error: 1.5074e-05\n",
            "\n",
            "Epoch 00036: val_loss did not improve from 0.00001\n",
            "Epoch 37/200\n",
            "9872/9872 [==============================] - 37s 4ms/step - loss: 4.5156e-05 - mean_absolute_error: 4.5156e-05 - val_loss: 1.9236e-05 - val_mean_absolute_error: 1.9236e-05\n",
            "\n",
            "Epoch 00037: val_loss did not improve from 0.00001\n",
            "Epoch 38/200\n",
            "9872/9872 [==============================] - 37s 4ms/step - loss: 4.7233e-05 - mean_absolute_error: 4.7233e-05 - val_loss: 1.6092e-05 - val_mean_absolute_error: 1.6092e-05\n",
            "\n",
            "Epoch 00038: val_loss did not improve from 0.00001\n",
            "Epoch 39/200\n",
            "9872/9872 [==============================] - 37s 4ms/step - loss: 4.5855e-05 - mean_absolute_error: 4.5855e-05 - val_loss: 2.3386e-05 - val_mean_absolute_error: 2.3386e-05\n",
            "\n",
            "Epoch 00039: val_loss did not improve from 0.00001\n",
            "Epoch 40/200\n",
            "9872/9872 [==============================] - 37s 4ms/step - loss: 5.3325e-05 - mean_absolute_error: 5.3325e-05 - val_loss: 1.4012e-05 - val_mean_absolute_error: 1.4012e-05\n",
            "\n",
            "Epoch 00040: val_loss did not improve from 0.00001\n",
            "Epoch 41/200\n",
            "9872/9872 [==============================] - 37s 4ms/step - loss: 4.6210e-05 - mean_absolute_error: 4.6210e-05 - val_loss: 1.5067e-05 - val_mean_absolute_error: 1.5067e-05\n",
            "\n",
            "Epoch 00041: val_loss did not improve from 0.00001\n",
            "Epoch 42/200\n",
            "9872/9872 [==============================] - 36s 4ms/step - loss: 4.6314e-05 - mean_absolute_error: 4.6314e-05 - val_loss: 9.1603e-06 - val_mean_absolute_error: 9.1603e-06\n",
            "\n",
            "Epoch 00042: val_loss did not improve from 0.00001\n",
            "Epoch 43/200\n",
            "9872/9872 [==============================] - 37s 4ms/step - loss: 4.9833e-05 - mean_absolute_error: 4.9833e-05 - val_loss: 1.8809e-05 - val_mean_absolute_error: 1.8809e-05\n",
            "\n",
            "Epoch 00043: val_loss did not improve from 0.00001\n",
            "Epoch 00043: early stopping\n"
          ],
          "name": "stdout"
        }
      ]
    },
    {
      "metadata": {
        "id": "rfOfh497F7ob",
        "colab_type": "code",
        "outputId": "c5b0c804-5e8a-4189-e24d-cd4b1914630c",
        "colab": {
          "base_uri": "https://localhost:8080/",
          "height": 34
        }
      },
      "cell_type": "code",
      "source": [
        "\n",
        "X_train.shape"
      ],
      "execution_count": 0,
      "outputs": [
        {
          "output_type": "execute_result",
          "data": {
            "text/plain": [
              "(24324, 883, 12, 1)"
            ]
          },
          "metadata": {
            "tags": []
          },
          "execution_count": 6
        }
      ]
    },
    {
      "metadata": {
        "id": "MopSXT7jDeUN",
        "colab_type": "text"
      },
      "cell_type": "markdown",
      "source": [
        "# **Generate the output file**\n",
        "\n",
        "---\n",
        "\n"
      ]
    },
    {
      "metadata": {
        "id": "5Vk_C8CdMiW3",
        "colab_type": "code",
        "outputId": "8fad813c-5cce-4c80-e70d-92e8509faf66",
        "colab": {
          "base_uri": "https://localhost:8080/",
          "height": 51
        }
      },
      "cell_type": "code",
      "source": [
        "\n",
        "#%% ----- PREDICT---------\n",
        "\n",
        "# model = load_model('SRCNN_2019-04-23 18_47_20_best.h5')\n",
        "\n",
        "y, fs = sf.read('1.wav')\n",
        "reconstruct(y,fs,model)\n"
      ],
      "execution_count": 11,
      "outputs": [
        {
          "output_type": "stream",
          "text": [
            "Output without phase info was saved.\n",
            "Output with phase info was saved.\n"
          ],
          "name": "stdout"
        }
      ]
    },
    {
      "metadata": {
        "id": "bU1DgePhj1hK",
        "colab_type": "code",
        "colab": {
          "base_uri": "https://localhost:8080/",
          "height": 51
        },
        "outputId": "bb8d28c7-421f-401b-ab79-43a71897bff4"
      },
      "cell_type": "code",
      "source": [
        "y, fs = sf.read('output_with_phase.wav')\n",
        "y"
      ],
      "execution_count": 13,
      "outputs": [
        {
          "output_type": "execute_result",
          "data": {
            "text/plain": [
              "array([-6.10351562e-05, -6.10351562e-05, -6.10351562e-05, ...,\n",
              "       -3.05175781e-05, -3.05175781e-05, -3.05175781e-05])"
            ]
          },
          "metadata": {
            "tags": []
          },
          "execution_count": 13
        }
      ]
    },
    {
      "metadata": {
        "id": "ihzW3VlGDy0_",
        "colab_type": "text"
      },
      "cell_type": "markdown",
      "source": [
        "# **Play ground: Maxtrix transformation testing**"
      ]
    },
    {
      "metadata": {
        "id": "9fAeLhtzMjxv",
        "colab_type": "code",
        "outputId": "c3173aee-41d4-4936-c5f3-90aa4c9172fb",
        "colab": {
          "base_uri": "https://localhost:8080/",
          "height": 232
        }
      },
      "cell_type": "code",
      "source": [
        "\n",
        "a1 = np.arange(128).reshape((4,-1))\n",
        "a = a1\n",
        "number_frequencies, number_time_frames = a.shape\n",
        "a = a[:, :-(number_time_frames%3)]\n",
        "\n",
        "\n",
        "b= a.reshape((number_frequencies,3,-1,1), order='F')\n",
        "\t\n",
        "z = b.transpose((2,0,1,3))"
      ],
      "execution_count": 0,
      "outputs": [
        {
          "output_type": "error",
          "ename": "NameError",
          "evalue": "ignored",
          "traceback": [
            "\u001b[0;31m---------------------------------------------------------------------------\u001b[0m",
            "\u001b[0;31mNameError\u001b[0m                                 Traceback (most recent call last)",
            "\u001b[0;32m<ipython-input-3-9d0f60cd704c>\u001b[0m in \u001b[0;36m<module>\u001b[0;34m()\u001b[0m\n\u001b[1;32m      1\u001b[0m \u001b[0;34m\u001b[0m\u001b[0m\n\u001b[0;32m----> 2\u001b[0;31m \u001b[0ma1\u001b[0m \u001b[0;34m=\u001b[0m \u001b[0mnp\u001b[0m\u001b[0;34m.\u001b[0m\u001b[0marange\u001b[0m\u001b[0;34m(\u001b[0m\u001b[0;36m128\u001b[0m\u001b[0;34m)\u001b[0m\u001b[0;34m.\u001b[0m\u001b[0mreshape\u001b[0m\u001b[0;34m(\u001b[0m\u001b[0;34m(\u001b[0m\u001b[0;36m4\u001b[0m\u001b[0;34m,\u001b[0m\u001b[0;34m-\u001b[0m\u001b[0;36m1\u001b[0m\u001b[0;34m)\u001b[0m\u001b[0;34m)\u001b[0m\u001b[0;34m\u001b[0m\u001b[0;34m\u001b[0m\u001b[0m\n\u001b[0m\u001b[1;32m      3\u001b[0m \u001b[0ma\u001b[0m \u001b[0;34m=\u001b[0m \u001b[0ma1\u001b[0m\u001b[0;34m\u001b[0m\u001b[0;34m\u001b[0m\u001b[0m\n\u001b[1;32m      4\u001b[0m \u001b[0mnumber_frequencies\u001b[0m\u001b[0;34m,\u001b[0m \u001b[0mnumber_time_frames\u001b[0m \u001b[0;34m=\u001b[0m \u001b[0ma\u001b[0m\u001b[0;34m.\u001b[0m\u001b[0mshape\u001b[0m\u001b[0;34m\u001b[0m\u001b[0;34m\u001b[0m\u001b[0m\n\u001b[1;32m      5\u001b[0m \u001b[0ma\u001b[0m \u001b[0;34m=\u001b[0m \u001b[0ma\u001b[0m\u001b[0;34m[\u001b[0m\u001b[0;34m:\u001b[0m\u001b[0;34m,\u001b[0m \u001b[0;34m:\u001b[0m\u001b[0;34m-\u001b[0m\u001b[0;34m(\u001b[0m\u001b[0mnumber_time_frames\u001b[0m\u001b[0;34m%\u001b[0m\u001b[0;36m3\u001b[0m\u001b[0;34m)\u001b[0m\u001b[0;34m]\u001b[0m\u001b[0;34m\u001b[0m\u001b[0;34m\u001b[0m\u001b[0m\n",
            "\u001b[0;31mNameError\u001b[0m: name 'np' is not defined"
          ]
        }
      ]
    },
    {
      "metadata": {
        "id": "CR792v_gVDS0",
        "colab_type": "code",
        "colab": {}
      },
      "cell_type": "code",
      "source": [
        "d = z.transpose((1,2,0,3))\n",
        "d = d.reshape((d.shape[0],-1),order='F')"
      ],
      "execution_count": 0,
      "outputs": []
    },
    {
      "metadata": {
        "id": "-TzizE5aVHvD",
        "colab_type": "code",
        "outputId": "3f0b99b1-d887-4b30-a555-e86ae2460e8b",
        "colab": {
          "base_uri": "https://localhost:8080/",
          "height": 34
        }
      },
      "cell_type": "code",
      "source": [
        "phaseInfo.shape"
      ],
      "execution_count": 0,
      "outputs": [
        {
          "output_type": "execute_result",
          "data": {
            "text/plain": [
              "(883, 13826)"
            ]
          },
          "metadata": {
            "tags": []
          },
          "execution_count": 16
        }
      ]
    },
    {
      "metadata": {
        "id": "HuvNuWKxkmzd",
        "colab_type": "code",
        "outputId": "bf334384-27c6-4924-c39a-6bbc0c2a6946",
        "colab": {
          "base_uri": "https://localhost:8080/",
          "height": 85
        }
      },
      "cell_type": "code",
      "source": [
        "d[0,:,:,0]"
      ],
      "execution_count": 0,
      "outputs": [
        {
          "output_type": "execute_result",
          "data": {
            "text/plain": [
              "array([[  0,   3,   6,   9,  12,  15,  18,  21,  24,  27],\n",
              "       [ 32,  35,  38,  41,  44,  47,  50,  53,  56,  59],\n",
              "       [ 64,  67,  70,  73,  76,  79,  82,  85,  88,  91],\n",
              "       [ 96,  99, 102, 105, 108, 111, 114, 117, 120, 123]])"
            ]
          },
          "metadata": {
            "tags": []
          },
          "execution_count": 72
        }
      ]
    },
    {
      "metadata": {
        "id": "NsOvNGUhlvlQ",
        "colab_type": "code",
        "outputId": "fb141c24-c26e-44b6-b98b-514495022dbc",
        "colab": {
          "base_uri": "https://localhost:8080/",
          "height": 263
        }
      },
      "cell_type": "code",
      "source": [
        "!apt-get install -y -qq software-properties-common python-software-properties module-init-tools\n",
        "!add-apt-repository -y ppa:alessandro-strada/ppa 2>&1 > /dev/null\n",
        "!apt-get update -qq 2>&1 > /dev/null\n",
        "!apt-get -y install -qq google-drive-ocamlfuse fuse\n",
        "from google.colab import auth\n",
        "auth.authenticate_user()\n",
        "from oauth2client.client import GoogleCredentials\n",
        "creds = GoogleCredentials.get_application_default()\n",
        "import getpass\n",
        "!google-drive-ocamlfuse -headless -id={creds.client_id} -secret={creds.client_secret} < /dev/null 2>&1 | grep URL\n",
        "vcode = getpass.getpass()\n",
        "!echo {vcode} | google-drive-ocamlfuse -headless -id={creds.client_id} -secret={creds.client_secret}"
      ],
      "execution_count": 0,
      "outputs": [
        {
          "output_type": "stream",
          "text": [
            "E: Package 'python-software-properties' has no installation candidate\n",
            "Selecting previously unselected package google-drive-ocamlfuse.\n",
            "(Reading database ... 131304 files and directories currently installed.)\n",
            "Preparing to unpack .../google-drive-ocamlfuse_0.7.3-0ubuntu3~ubuntu18.04.1_amd64.deb ...\n",
            "Unpacking google-drive-ocamlfuse (0.7.3-0ubuntu3~ubuntu18.04.1) ...\n",
            "Setting up google-drive-ocamlfuse (0.7.3-0ubuntu3~ubuntu18.04.1) ...\n",
            "Processing triggers for man-db (2.8.3-2ubuntu0.1) ...\n",
            "Please, open the following URL in a web browser: https://accounts.google.com/o/oauth2/auth?client_id=32555940559.apps.googleusercontent.com&redirect_uri=urn%3Aietf%3Awg%3Aoauth%3A2.0%3Aoob&scope=https%3A%2F%2Fwww.googleapis.com%2Fauth%2Fdrive&response_type=code&access_type=offline&approval_prompt=force\n",
            "··········\n",
            "Please, open the following URL in a web browser: https://accounts.google.com/o/oauth2/auth?client_id=32555940559.apps.googleusercontent.com&redirect_uri=urn%3Aietf%3Awg%3Aoauth%3A2.0%3Aoob&scope=https%3A%2F%2Fwww.googleapis.com%2Fauth%2Fdrive&response_type=code&access_type=offline&approval_prompt=force\n",
            "Please enter the verification code: Access token retrieved correctly.\n"
          ],
          "name": "stdout"
        }
      ]
    },
    {
      "metadata": {
        "id": "Db915sy0HPGM",
        "colab_type": "code",
        "colab": {}
      },
      "cell_type": "code",
      "source": [
        "!mkdir -p drive\n",
        "!google-drive-ocamlfuse drive"
      ],
      "execution_count": 0,
      "outputs": []
    },
    {
      "metadata": {
        "id": "2IkZp5QRHdnu",
        "colab_type": "code",
        "outputId": "b8ab82f4-f87b-4438-cc75-f53d3d808d45",
        "colab": {
          "base_uri": "https://localhost:8080/",
          "height": 726
        }
      },
      "cell_type": "code",
      "source": [
        "!ls '/content/drive/Colab Notebooks/mono_1_stereo_HQ.wav'\n",
        "\n",
        "x1, fs = sf.read('/content/drive/Colab Notebooks/mono_1_stereo_HQ.wav')"
      ],
      "execution_count": 0,
      "outputs": [
        {
          "output_type": "stream",
          "text": [
            "'/content/drive/Colab Notebooks/mono_1_stereo_HQ.wav'\n"
          ],
          "name": "stdout"
        },
        {
          "output_type": "error",
          "ename": "KeyboardInterrupt",
          "evalue": "ignored",
          "traceback": [
            "\u001b[0;31m---------------------------------------------------------------------------\u001b[0m",
            "\u001b[0;31mKeyboardInterrupt\u001b[0m                         Traceback (most recent call last)",
            "\u001b[0;32m<ipython-input-7-84d39b73b5e1>\u001b[0m in \u001b[0;36m<module>\u001b[0;34m()\u001b[0m\n\u001b[1;32m      1\u001b[0m \u001b[0mget_ipython\u001b[0m\u001b[0;34m(\u001b[0m\u001b[0;34m)\u001b[0m\u001b[0;34m.\u001b[0m\u001b[0msystem\u001b[0m\u001b[0;34m(\u001b[0m\u001b[0;34m\"ls '/content/drive/Colab Notebooks/mono_1_stereo_HQ.wav'\"\u001b[0m\u001b[0;34m)\u001b[0m\u001b[0;34m\u001b[0m\u001b[0;34m\u001b[0m\u001b[0m\n\u001b[1;32m      2\u001b[0m \u001b[0;34m\u001b[0m\u001b[0m\n\u001b[0;32m----> 3\u001b[0;31m \u001b[0mx1\u001b[0m\u001b[0;34m,\u001b[0m \u001b[0mfs\u001b[0m \u001b[0;34m=\u001b[0m \u001b[0msf\u001b[0m\u001b[0;34m.\u001b[0m\u001b[0mread\u001b[0m\u001b[0;34m(\u001b[0m\u001b[0;34m'/content/drive/Colab Notebooks/mono_1_stereo_HQ.wav'\u001b[0m\u001b[0;34m)\u001b[0m\u001b[0;34m\u001b[0m\u001b[0;34m\u001b[0m\u001b[0m\n\u001b[0m",
            "\u001b[0;32m/usr/local/lib/python3.6/dist-packages/soundfile.py\u001b[0m in \u001b[0;36mread\u001b[0;34m(file, frames, start, stop, dtype, always_2d, fill_value, out, samplerate, channels, format, subtype, endian, closefd)\u001b[0m\n\u001b[1;32m    257\u001b[0m                    subtype, endian, format, closefd) as f:\n\u001b[1;32m    258\u001b[0m         \u001b[0mframes\u001b[0m \u001b[0;34m=\u001b[0m \u001b[0mf\u001b[0m\u001b[0;34m.\u001b[0m\u001b[0m_prepare_read\u001b[0m\u001b[0;34m(\u001b[0m\u001b[0mstart\u001b[0m\u001b[0;34m,\u001b[0m \u001b[0mstop\u001b[0m\u001b[0;34m,\u001b[0m \u001b[0mframes\u001b[0m\u001b[0;34m)\u001b[0m\u001b[0;34m\u001b[0m\u001b[0;34m\u001b[0m\u001b[0m\n\u001b[0;32m--> 259\u001b[0;31m         \u001b[0mdata\u001b[0m \u001b[0;34m=\u001b[0m \u001b[0mf\u001b[0m\u001b[0;34m.\u001b[0m\u001b[0mread\u001b[0m\u001b[0;34m(\u001b[0m\u001b[0mframes\u001b[0m\u001b[0;34m,\u001b[0m \u001b[0mdtype\u001b[0m\u001b[0;34m,\u001b[0m \u001b[0malways_2d\u001b[0m\u001b[0;34m,\u001b[0m \u001b[0mfill_value\u001b[0m\u001b[0;34m,\u001b[0m \u001b[0mout\u001b[0m\u001b[0;34m)\u001b[0m\u001b[0;34m\u001b[0m\u001b[0;34m\u001b[0m\u001b[0m\n\u001b[0m\u001b[1;32m    260\u001b[0m     \u001b[0;32mreturn\u001b[0m \u001b[0mdata\u001b[0m\u001b[0;34m,\u001b[0m \u001b[0mf\u001b[0m\u001b[0;34m.\u001b[0m\u001b[0msamplerate\u001b[0m\u001b[0;34m\u001b[0m\u001b[0;34m\u001b[0m\u001b[0m\n\u001b[1;32m    261\u001b[0m \u001b[0;34m\u001b[0m\u001b[0m\n",
            "\u001b[0;32m/usr/local/lib/python3.6/dist-packages/soundfile.py\u001b[0m in \u001b[0;36mread\u001b[0;34m(self, frames, dtype, always_2d, fill_value, out)\u001b[0m\n\u001b[1;32m    863\u001b[0m             \u001b[0;32mif\u001b[0m \u001b[0mframes\u001b[0m \u001b[0;34m<\u001b[0m \u001b[0;36m0\u001b[0m \u001b[0;32mor\u001b[0m \u001b[0mframes\u001b[0m \u001b[0;34m>\u001b[0m \u001b[0mlen\u001b[0m\u001b[0;34m(\u001b[0m\u001b[0mout\u001b[0m\u001b[0;34m)\u001b[0m\u001b[0;34m:\u001b[0m\u001b[0;34m\u001b[0m\u001b[0;34m\u001b[0m\u001b[0m\n\u001b[1;32m    864\u001b[0m                 \u001b[0mframes\u001b[0m \u001b[0;34m=\u001b[0m \u001b[0mlen\u001b[0m\u001b[0;34m(\u001b[0m\u001b[0mout\u001b[0m\u001b[0;34m)\u001b[0m\u001b[0;34m\u001b[0m\u001b[0;34m\u001b[0m\u001b[0m\n\u001b[0;32m--> 865\u001b[0;31m         \u001b[0mframes\u001b[0m \u001b[0;34m=\u001b[0m \u001b[0mself\u001b[0m\u001b[0;34m.\u001b[0m\u001b[0m_array_io\u001b[0m\u001b[0;34m(\u001b[0m\u001b[0;34m'read'\u001b[0m\u001b[0;34m,\u001b[0m \u001b[0mout\u001b[0m\u001b[0;34m,\u001b[0m \u001b[0mframes\u001b[0m\u001b[0;34m)\u001b[0m\u001b[0;34m\u001b[0m\u001b[0;34m\u001b[0m\u001b[0m\n\u001b[0m\u001b[1;32m    866\u001b[0m         \u001b[0;32mif\u001b[0m \u001b[0mlen\u001b[0m\u001b[0;34m(\u001b[0m\u001b[0mout\u001b[0m\u001b[0;34m)\u001b[0m \u001b[0;34m>\u001b[0m \u001b[0mframes\u001b[0m\u001b[0;34m:\u001b[0m\u001b[0;34m\u001b[0m\u001b[0;34m\u001b[0m\u001b[0m\n\u001b[1;32m    867\u001b[0m             \u001b[0;32mif\u001b[0m \u001b[0mfill_value\u001b[0m \u001b[0;32mis\u001b[0m \u001b[0;32mNone\u001b[0m\u001b[0;34m:\u001b[0m\u001b[0;34m\u001b[0m\u001b[0;34m\u001b[0m\u001b[0m\n",
            "\u001b[0;32m/usr/local/lib/python3.6/dist-packages/soundfile.py\u001b[0m in \u001b[0;36m_array_io\u001b[0;34m(self, action, array, frames)\u001b[0m\n\u001b[1;32m   1308\u001b[0m         \u001b[0;32massert\u001b[0m \u001b[0marray\u001b[0m\u001b[0;34m.\u001b[0m\u001b[0mdtype\u001b[0m\u001b[0;34m.\u001b[0m\u001b[0mitemsize\u001b[0m \u001b[0;34m==\u001b[0m \u001b[0m_ffi\u001b[0m\u001b[0;34m.\u001b[0m\u001b[0msizeof\u001b[0m\u001b[0;34m(\u001b[0m\u001b[0mctype\u001b[0m\u001b[0;34m)\u001b[0m\u001b[0;34m\u001b[0m\u001b[0;34m\u001b[0m\u001b[0m\n\u001b[1;32m   1309\u001b[0m         \u001b[0mcdata\u001b[0m \u001b[0;34m=\u001b[0m \u001b[0m_ffi\u001b[0m\u001b[0;34m.\u001b[0m\u001b[0mcast\u001b[0m\u001b[0;34m(\u001b[0m\u001b[0mctype\u001b[0m \u001b[0;34m+\u001b[0m \u001b[0;34m'*'\u001b[0m\u001b[0;34m,\u001b[0m \u001b[0marray\u001b[0m\u001b[0;34m.\u001b[0m\u001b[0m__array_interface__\u001b[0m\u001b[0;34m[\u001b[0m\u001b[0;34m'data'\u001b[0m\u001b[0;34m]\u001b[0m\u001b[0;34m[\u001b[0m\u001b[0;36m0\u001b[0m\u001b[0;34m]\u001b[0m\u001b[0;34m)\u001b[0m\u001b[0;34m\u001b[0m\u001b[0;34m\u001b[0m\u001b[0m\n\u001b[0;32m-> 1310\u001b[0;31m         \u001b[0;32mreturn\u001b[0m \u001b[0mself\u001b[0m\u001b[0;34m.\u001b[0m\u001b[0m_cdata_io\u001b[0m\u001b[0;34m(\u001b[0m\u001b[0maction\u001b[0m\u001b[0;34m,\u001b[0m \u001b[0mcdata\u001b[0m\u001b[0;34m,\u001b[0m \u001b[0mctype\u001b[0m\u001b[0;34m,\u001b[0m \u001b[0mframes\u001b[0m\u001b[0;34m)\u001b[0m\u001b[0;34m\u001b[0m\u001b[0;34m\u001b[0m\u001b[0m\n\u001b[0m\u001b[1;32m   1311\u001b[0m \u001b[0;34m\u001b[0m\u001b[0m\n\u001b[1;32m   1312\u001b[0m     \u001b[0;32mdef\u001b[0m \u001b[0m_cdata_io\u001b[0m\u001b[0;34m(\u001b[0m\u001b[0mself\u001b[0m\u001b[0;34m,\u001b[0m \u001b[0maction\u001b[0m\u001b[0;34m,\u001b[0m \u001b[0mdata\u001b[0m\u001b[0;34m,\u001b[0m \u001b[0mctype\u001b[0m\u001b[0;34m,\u001b[0m \u001b[0mframes\u001b[0m\u001b[0;34m)\u001b[0m\u001b[0;34m:\u001b[0m\u001b[0;34m\u001b[0m\u001b[0;34m\u001b[0m\u001b[0m\n",
            "\u001b[0;32m/usr/local/lib/python3.6/dist-packages/soundfile.py\u001b[0m in \u001b[0;36m_cdata_io\u001b[0;34m(self, action, data, ctype, frames)\u001b[0m\n\u001b[1;32m   1317\u001b[0m             \u001b[0mcurr\u001b[0m \u001b[0;34m=\u001b[0m \u001b[0mself\u001b[0m\u001b[0;34m.\u001b[0m\u001b[0mtell\u001b[0m\u001b[0;34m(\u001b[0m\u001b[0;34m)\u001b[0m\u001b[0;34m\u001b[0m\u001b[0;34m\u001b[0m\u001b[0m\n\u001b[1;32m   1318\u001b[0m         \u001b[0mfunc\u001b[0m \u001b[0;34m=\u001b[0m \u001b[0mgetattr\u001b[0m\u001b[0;34m(\u001b[0m\u001b[0m_snd\u001b[0m\u001b[0;34m,\u001b[0m \u001b[0;34m'sf_'\u001b[0m \u001b[0;34m+\u001b[0m \u001b[0maction\u001b[0m \u001b[0;34m+\u001b[0m \u001b[0;34m'f_'\u001b[0m \u001b[0;34m+\u001b[0m \u001b[0mctype\u001b[0m\u001b[0;34m)\u001b[0m\u001b[0;34m\u001b[0m\u001b[0;34m\u001b[0m\u001b[0m\n\u001b[0;32m-> 1319\u001b[0;31m         \u001b[0mframes\u001b[0m \u001b[0;34m=\u001b[0m \u001b[0mfunc\u001b[0m\u001b[0;34m(\u001b[0m\u001b[0mself\u001b[0m\u001b[0;34m.\u001b[0m\u001b[0m_file\u001b[0m\u001b[0;34m,\u001b[0m \u001b[0mdata\u001b[0m\u001b[0;34m,\u001b[0m \u001b[0mframes\u001b[0m\u001b[0;34m)\u001b[0m\u001b[0;34m\u001b[0m\u001b[0;34m\u001b[0m\u001b[0m\n\u001b[0m\u001b[1;32m   1320\u001b[0m         \u001b[0m_error_check\u001b[0m\u001b[0;34m(\u001b[0m\u001b[0mself\u001b[0m\u001b[0;34m.\u001b[0m\u001b[0m_errorcode\u001b[0m\u001b[0;34m)\u001b[0m\u001b[0;34m\u001b[0m\u001b[0;34m\u001b[0m\u001b[0m\n\u001b[1;32m   1321\u001b[0m         \u001b[0;32mif\u001b[0m \u001b[0mself\u001b[0m\u001b[0;34m.\u001b[0m\u001b[0mseekable\u001b[0m\u001b[0;34m(\u001b[0m\u001b[0;34m)\u001b[0m\u001b[0;34m:\u001b[0m\u001b[0;34m\u001b[0m\u001b[0;34m\u001b[0m\u001b[0m\n",
            "\u001b[0;31mKeyboardInterrupt\u001b[0m: "
          ]
        }
      ]
    },
    {
      "metadata": {
        "id": "AaCc226VHoXn",
        "colab_type": "code",
        "outputId": "2a98ad13-eb27-4e30-bf4d-41774f8020fe",
        "colab": {
          "base_uri": "https://localhost:8080/",
          "height": 34
        }
      },
      "cell_type": "code",
      "source": [
        "frame_length_s = 0.04\n",
        "fs = 44100\n",
        "int(2**np.ceil(np.log2(fs*frame_length_s)))\n",
        "int(fs*frame_length_s)"
      ],
      "execution_count": 0,
      "outputs": [
        {
          "output_type": "execute_result",
          "data": {
            "text/plain": [
              "1764"
            ]
          },
          "metadata": {
            "tags": []
          },
          "execution_count": 52
        }
      ]
    },
    {
      "metadata": {
        "id": "OEDDZWUiK8eE",
        "colab_type": "code",
        "colab": {}
      },
      "cell_type": "code",
      "source": [
        ""
      ],
      "execution_count": 0,
      "outputs": []
    }
  ]
}