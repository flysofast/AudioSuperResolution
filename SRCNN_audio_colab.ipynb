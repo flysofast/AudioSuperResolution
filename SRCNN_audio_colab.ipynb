{
  "nbformat": 4,
  "nbformat_minor": 0,
  "metadata": {
    "colab": {
      "name": "SRCNN_audio.ipynb",
      "version": "0.3.2",
      "provenance": [],
      "collapsed_sections": [
        "ihzW3VlGDy0_"
      ],
      "toc_visible": true
    },
    "kernelspec": {
      "name": "python3",
      "display_name": "Python 3"
    },
    "accelerator": "GPU"
  },
  "cells": [
    {
      "metadata": {
        "id": "OeHavQi-DqeL",
        "colab_type": "text"
      },
      "cell_type": "markdown",
      "source": [
        "# **Dependencies installation and Google Colab project setup**"
      ]
    },
    {
      "metadata": {
        "id": "Yjib4MMdSzkZ",
        "colab_type": "text"
      },
      "cell_type": "markdown",
      "source": [
        " **Install depedencies**"
      ]
    },
    {
      "metadata": {
        "id": "8numw3weCJja",
        "colab_type": "code",
        "outputId": "e0bcf108-c913-4fa2-93cd-274af9c361df",
        "colab": {
          "base_uri": "https://localhost:8080/",
          "height": 552
        }
      },
      "cell_type": "code",
      "source": [
        "!pip install pydrive\n",
        "!pip install pydub\n",
        "!pip install soundfile\n",
        "\n",
        "from pydrive.auth import GoogleAuth\n",
        "from pydrive.drive import GoogleDrive\n",
        "from google.colab import auth\n",
        "from oauth2client.client import GoogleCredentials"
      ],
      "execution_count": 1,
      "outputs": [
        {
          "output_type": "stream",
          "text": [
            "Collecting pydrive\n",
            "\u001b[?25l  Downloading https://files.pythonhosted.org/packages/52/e0/0e64788e5dd58ce2d6934549676243dc69d982f198524be9b99e9c2a4fd5/PyDrive-1.3.1.tar.gz (987kB)\n",
            "\u001b[K     |████████████████████████████████| 993kB 3.5MB/s \n",
            "\u001b[?25hRequirement already satisfied: google-api-python-client>=1.2 in /usr/local/lib/python3.6/dist-packages (from pydrive) (1.6.7)\n",
            "Requirement already satisfied: oauth2client>=4.0.0 in /usr/local/lib/python3.6/dist-packages (from pydrive) (4.1.3)\n",
            "Requirement already satisfied: PyYAML>=3.0 in /usr/local/lib/python3.6/dist-packages (from pydrive) (3.13)\n",
            "Requirement already satisfied: six<2dev,>=1.6.1 in /usr/local/lib/python3.6/dist-packages (from google-api-python-client>=1.2->pydrive) (1.12.0)\n",
            "Requirement already satisfied: uritemplate<4dev,>=3.0.0 in /usr/local/lib/python3.6/dist-packages (from google-api-python-client>=1.2->pydrive) (3.0.0)\n",
            "Requirement already satisfied: httplib2<1dev,>=0.9.2 in /usr/local/lib/python3.6/dist-packages (from google-api-python-client>=1.2->pydrive) (0.11.3)\n",
            "Requirement already satisfied: pyasn1-modules>=0.0.5 in /usr/local/lib/python3.6/dist-packages (from oauth2client>=4.0.0->pydrive) (0.2.5)\n",
            "Requirement already satisfied: pyasn1>=0.1.7 in /usr/local/lib/python3.6/dist-packages (from oauth2client>=4.0.0->pydrive) (0.4.5)\n",
            "Requirement already satisfied: rsa>=3.1.4 in /usr/local/lib/python3.6/dist-packages (from oauth2client>=4.0.0->pydrive) (4.0)\n",
            "Building wheels for collected packages: pydrive\n",
            "  Building wheel for pydrive (setup.py) ... \u001b[?25l\u001b[?25hdone\n",
            "  Stored in directory: /root/.cache/pip/wheels/fa/d2/9a/d3b6b506c2da98289e5d417215ce34b696db856643bad779f4\n",
            "Successfully built pydrive\n",
            "Installing collected packages: pydrive\n",
            "Successfully installed pydrive-1.3.1\n",
            "Collecting pydub\n",
            "  Downloading https://files.pythonhosted.org/packages/79/db/eaf620b73a1eec3c8c6f8f5b0b236a50f9da88ad57802154b7ba7664d0b8/pydub-0.23.1-py2.py3-none-any.whl\n",
            "Installing collected packages: pydub\n",
            "Successfully installed pydub-0.23.1\n",
            "Collecting soundfile\n",
            "  Downloading https://files.pythonhosted.org/packages/68/64/1191352221e2ec90db7492b4bf0c04fd9d2508de67b3f39cbf093cd6bd86/SoundFile-0.10.2-py2.py3-none-any.whl\n",
            "Requirement already satisfied: cffi>=1.0 in /usr/local/lib/python3.6/dist-packages (from soundfile) (1.12.3)\n",
            "Requirement already satisfied: pycparser in /usr/local/lib/python3.6/dist-packages (from cffi>=1.0->soundfile) (2.19)\n",
            "Installing collected packages: soundfile\n",
            "Successfully installed soundfile-0.10.2\n"
          ],
          "name": "stdout"
        }
      ]
    },
    {
      "metadata": {
        "id": "q0DKLODpS91N",
        "colab_type": "text"
      },
      "cell_type": "markdown",
      "source": [
        "**Files setup**"
      ]
    },
    {
      "metadata": {
        "id": "jNxua5xnnD2a",
        "colab_type": "code",
        "colab": {}
      },
      "cell_type": "code",
      "source": [
        ""
      ],
      "execution_count": 0,
      "outputs": []
    },
    {
      "metadata": {
        "id": "lhasdAwYTJrS",
        "colab_type": "code",
        "outputId": "7ee32aa5-f399-4c27-a1d3-7dc26a047e06",
        "colab": {
          "base_uri": "https://localhost:8080/",
          "height": 136
        }
      },
      "cell_type": "code",
      "source": [
        "# https://drive.google.com/open?id=1e9EZ3ZA6k2Qij3EnmGVrMLSKo9hcCxSp\n",
        "# https://drive.google.com/open?id=1aVE-RIMYgQLykn55nF8XzY82AJPVUiWi\n",
        "# https://drive.google.com/open?id=1DjOTVdqhQWHA6MmYeogileqc8Y0kEZB6\n",
        "# https://drive.google.com/open?id=1_GcDEd4cxxQUKJ4Nqoae63FHtnP5ndbh\n",
        "# 1rtxU9VHllQSYoC7J9sxCm6KKf7UMsfvO // features 2GB\n",
        "# 1PXV4iK6Lmh0ZDAgZMwIaFUTK3l68vP4D // feature 5 GB\n",
        "filenames = ['features.hdf5', '1.wav','mono_1_stereo_LQ.wav','mono_1_stereo_HQ']\n",
        "# https://drive.google.com/open?id=1Ae1WQspnvC2wNz2ywQ0238_E2SlZpaGr\n",
        "ids = ['1PXV4iK6Lmh0ZDAgZMwIaFUTK3l68vP4D', '1_OmHV0rVNyfbzZgxnYzbgS-ozzJ-OlHo','1UCmJvf67RUsFgYzLljS4a3T6Q0N5EBRi','1aVE-RIMYgQLykn55nF8XzY82AJPVUiWi'] # ids of the corresponding files uploaded to google drive\n",
        "for i in range(len(ids)):\n",
        "  # Authenticate and create the PyDrive client.\n",
        "  auth.authenticate_user()\n",
        "  gauth = GoogleAuth()\n",
        "  gauth.credentials = GoogleCredentials.get_application_default()\n",
        "  drive = GoogleDrive(gauth)\n",
        "#   link = \n",
        "#   fluff, id = link.split('=')\n",
        "  print (ids[i]) # Verify that you have everything after '='\n",
        "  downloaded = drive.CreateFile({'id':ids[i]}) \n",
        "  downloaded.GetContentFile(filenames[i]) \n",
        "  # os.environ['KMP_DUPLICATE_LIB_OK']='True'\n",
        "  features_filename = filenames[0]\n",
        "  input_filename = filenames[2]\n",
        "  groundtruth_filenam = filenames[3]"
      ],
      "execution_count": 2,
      "outputs": [
        {
          "output_type": "stream",
          "text": [
            "1PXV4iK6Lmh0ZDAgZMwIaFUTK3l68vP4D\n",
            "1_OmHV0rVNyfbzZgxnYzbgS-ozzJ-OlHo\n",
            "1UCmJvf67RUsFgYzLljS4a3T6Q0N5EBRi\n",
            "1aVE-RIMYgQLykn55nF8XzY82AJPVUiWi\n"
          ],
          "name": "stdout"
        }
      ]
    },
    {
      "metadata": {
        "id": "FFXvDmmCDSGn",
        "colab_type": "text"
      },
      "cell_type": "markdown",
      "source": [
        "# **Features extraction and train the model**\n"
      ]
    },
    {
      "metadata": {
        "id": "tSP82RCxKb_j",
        "colab_type": "text"
      },
      "cell_type": "markdown",
      "source": [
        "**Function definitions:**"
      ]
    },
    {
      "metadata": {
        "id": "TFfPpl4OMCWk",
        "colab_type": "code",
        "outputId": "ff81d401-84cd-4312-d570-34b380781752",
        "colab": {
          "base_uri": "https://localhost:8080/",
          "height": 34
        }
      },
      "cell_type": "code",
      "source": [
        "#%%\n",
        "import os\n",
        "import soundfile as sf\n",
        "from scipy import signal\n",
        "import numpy as np\n",
        "import matplotlib.pyplot as plt\n",
        "from keras.layers.convolutional import Conv2D, MaxPooling2D\n",
        "from keras.models import Sequential, load_model\n",
        "from keras.layers.core import Dense, Activation, Flatten\n",
        "from sklearn.model_selection import train_test_split\n",
        "from keras.optimizers import SGD, Adam\n",
        "from keras.callbacks import ModelCheckpoint,EarlyStopping\n",
        "import h5py\n",
        "from librosa.output import write_wav\n",
        "from pydub import AudioSegment\n",
        "import os\n",
        "import datetime\n",
        "from scipy.io.wavfile import write\n",
        "\n",
        "#Feature extraction\n",
        "def feature_extraction(x,fs):\n",
        "\n",
        "\tframe_length_s = 0.04 # window length in seconds\n",
        "\tframe_length = int(fs*frame_length_s) # 40ms window length in samples\n",
        "\t# set an overlap ratio of 50 %\n",
        "\thop_length = frame_length//2\n",
        "\n",
        "\t# Compute STFT\n",
        "\t_,_,X = signal.stft(x, noverlap=hop_length, fs=fs,nperseg=frame_length)\n",
        "\tnumber_frequencies, number_time_frames = X.shape\n",
        "\tphaseInfo = np.angle(X)\n",
        "\tX = np.abs(X)\n",
        "\n",
        "\t# Segmentation\n",
        "\tsample_length_s = 0.5 # segment length in seconds\n",
        "\tsample_length = int(sample_length_s/frame_length_s) # ~1s in samples\n",
        "\n",
        "\t# Trim the frames that can't be fitted into the segment size\n",
        "\ttrimmed_X = X[:, :-(number_time_frames%sample_length)]\n",
        "\ttrimmed_phaseInfo = phaseInfo[:, :-(number_time_frames%sample_length)]\n",
        "\n",
        "\t# Segmentation (number of freqs x number of frames x number of segment x 1). The last dimension is 'channel'.\n",
        "\tfeatures = trimmed_X.reshape((number_frequencies,sample_length,-1,1), order='F')\n",
        "\t# Transpose the feature to be in form (number of segment x number of freqs x number of frames x 1)\n",
        "\treturn trimmed_phaseInfo,features.transpose((2,0,1,3))\n",
        "\n",
        "#Converts stereo wav to mono wav\n",
        "def file_process(file_path):\n",
        "\tfolderpath, filename = os.path.split(file_path)\n",
        "\tsound = AudioSegment.from_wav(file_path)\n",
        "\tsound = sound.set_channels(1)\n",
        "\tsound.export(os.path.join(mono_folder,'mono_'+filename), format=\"wav\")\n",
        "\n",
        "\n",
        "\t# #%% --------Spectrogram--------------\n",
        "\t# # The whole file spectrogram------------------\n",
        "\t# to_be_plotted = trimmed_X\n",
        "\t\t# duration = len(x)/float(fs)\n",
        "\t# freq_scale = np.linspace(0, fs / 2, to_be_plotted.shape[0])\n",
        "\t# timeframe_scale = np.linspace(0, duration, to_be_plotted.shape[1])\n",
        "\n",
        "\t# # plot spectrogram (amplitude only)\n",
        "\t# W = np.abs(to_be_plotted)\n",
        "\t# plt.figure()\n",
        "\t# plt.subplot(2,1,1)\n",
        "\t# plt.pcolormesh(timeframe_scale, freq_scale, np.log(W+0.00001))\n",
        "\t# plt.xlabel('Time (s)')\n",
        "\t# plt.ylabel('Frequency (Hz)')\n",
        "\t# plt.title('Entire file Spectrogram (log scale)')\n",
        "\t# plt.tight_layout()\n",
        "\n",
        "\t# # First batch spectrogram--------------\n",
        "\t# freq_scale = np.linspace(0, fs / 2, number_frequencies)\n",
        "\t# timeframe_scale = np.linspace(0, segment_length*frame_length_s, segment_length)\n",
        "\t# # plot spectrogram (amplitude only)\n",
        "\t# W = np.abs(features[50])\n",
        "\t# plt.subplot(2,1,2)\n",
        "\t# plt.pcolormesh(timeframe_scale, freq_scale, np.log(W+0.00001))\n",
        "\t# plt.xlabel('Time (s)')\n",
        "\t# plt.ylabel('Frequency (Hz)')\n",
        "\t# plt.title('First batch spectrogram (log scale)')\n",
        "\t# plt.tight_layout()\n",
        "\t# plt.show()\n",
        "\n",
        "#%%---Convert to mp3------\n",
        "# AudioSegment.from_wav(mono_filepath).export(mp3_filepath, format=\"mp3\")\n",
        "#%%---------Test extract features-----------\n",
        "\n",
        "\n",
        "def save_features(X_train,X_test,y_train,y_test):\n",
        "\n",
        "\twith h5py.File(features_filename, 'w') as f:\n",
        "\t\tf.create_dataset('X_train', data=X_train)\n",
        "\t\tf.create_dataset('X_test', data=X_test)\n",
        "\t\tf.create_dataset('y_train', data=y_train)\n",
        "\t\tf.create_dataset('y_test', data=y_test)\n",
        "\n",
        "#%% -----Read data-----------\n",
        "\n",
        "def read_features():\n",
        "\twith h5py.File(features_filename, 'r') as f:\n",
        "\t\t\tX_train = f.get('X_train').value\n",
        "\t\t\tX_test = f.get('X_test').value\n",
        "\t\t\ty_train = f.get('y_train').value\n",
        "\t\t\ty_test = f.get('y_test').value\n",
        "\treturn X_train, y_train, X_test, y_test\n",
        "\n",
        "\n",
        "#%%---------CNN Model-------\n",
        "\n",
        "def get_model(features_shape):\n",
        "\tinput_shape = (features_shape[1],features_shape[2], 1)# (number of freqs x number of frames in a segment x number of channels)\n",
        "\tmodel = Sequential()\n",
        "\tmodel.add(Conv2D(32, (5, 5),\n",
        "\t\t\tinput_shape=input_shape,\n",
        "\t\t\tactivation = \"relu\",\n",
        "\t\t\tpadding = \"same\"))\n",
        "\t# model.add(MaxPooling2D(pool_size=(4, 4)))\n",
        "\tmodel.add(Conv2D(64, (5, 5),\n",
        "\t\t\tactivation = \"relu\",\n",
        "\t\t\tpadding = \"same\"))\n",
        "\t\t\t\n",
        "\tmodel.add(Conv2D(1, (10, 10),\n",
        "\t\t\tactivation = \"relu\",\n",
        "\t\t\tpadding = \"same\"))\n",
        "\n",
        "\tadam = Adam(lr=0.0003)\n",
        "\tmodel.compile(optimizer=adam, loss='mean_absolute_error', metrics=['mean_absolute_error'])\n",
        "\tmodel.summary()\n",
        "\treturn model\n",
        "\n",
        "def get_model(features_shape):\n",
        "\tinput_shape = (features_shape[1],features_shape[2], 1)# (number of freqs x number of frames in a segment x number of channels)\n",
        "\tmodel = Sequential()\n",
        "\tmodel.add(Conv2D(32, (5, 5),\n",
        "\t\t\tinput_shape=input_shape,\n",
        "\t\t\tactivation = \"relu\",\n",
        "\t\t\tpadding = \"same\"))\n",
        "\t# model.add(MaxPooling2D(pool_size=(4, 4)))\n",
        "\tmodel.add(Conv2D(64, (5, 5),\n",
        "\t\t\tactivation = \"relu\",\n",
        "\t\t\tpadding = \"same\"))\n",
        "\t\t\t\n",
        "\tmodel.add(Conv2D(1, (10, 10),\n",
        "\t\t\tactivation = \"relu\",\n",
        "\t\t\tpadding = \"same\"))\n",
        "\n",
        "\tadam = Adam(lr=0.0003)\n",
        "\tmodel.compile(optimizer=adam, loss='mean_absolute_error', metrics=['mean_absolute_error'])\n",
        "\tmodel.summary()\n",
        "\treturn model\n",
        "\n",
        "\n",
        "def reconstruct(y,fs,model):    \n",
        "\tphaseInfo,feat = feature_extraction(y,fs)\n",
        "\tyhat = model.predict(feat)\n",
        "\t\n",
        "\t#------RECONSTRUCT THE AUDIO--------\n",
        "\t# Restore to the original shape\n",
        "\tyrec = yhat.transpose((1,2,0,3))\n",
        "\tyrec = yrec.reshape((yrec.shape[0],-1), order='F')\n",
        "\n",
        "\t# Save output file\n",
        "\t_, xrec = signal.istft(yrec, fs)\n",
        "\twrite(\"output.wav\",fs,xrec)\n",
        "\tprint('Output without phase info was saved.')\n",
        "\n",
        "\tyrec = yrec * np.exp(1j*phaseInfo)\n",
        "\t# Save output file\n",
        "\t_, xrec = signal.istft(yrec, fs)\n",
        "\twrite_wav(\"output_with_phase.wav\",xrec,fs,norm = True)\n",
        "\tprint('Output with phase info was saved.')\n"
      ],
      "execution_count": 3,
      "outputs": [
        {
          "output_type": "stream",
          "text": [
            "Using TensorFlow backend.\n"
          ],
          "name": "stderr"
        }
      ]
    },
    {
      "metadata": {
        "id": "o6Fo2mtxMw3s",
        "colab_type": "text"
      },
      "cell_type": "markdown",
      "source": [
        "**Extract features**"
      ]
    },
    {
      "metadata": {
        "id": "AiWfJAcnMztd",
        "colab_type": "code",
        "colab": {}
      },
      "cell_type": "code",
      "source": [
        "# Read from file\n",
        " X_train, y_train, X_test, y_test = read_features()\n",
        "\n",
        "# Extract features manually\n",
        "# x1, fs = sf.read(groundtruth_filenam)\n",
        "# _,groundtruth_features = feature_extraction(x1,fs)\n",
        "\n",
        "# x2, fs = sf.read(input_filename)\n",
        "# _ ,input_features = feature_extraction(x2,fs)\n",
        "\n",
        "# X_train,X_test,y_train,y_test = train_test_split(input_features,groundtruth_features,test_size=0.2)\n",
        "# save_features(X_train,X_test,y_train,y_test)\n",
        "\n"
      ],
      "execution_count": 0,
      "outputs": []
    },
    {
      "metadata": {
        "id": "qZzrlDEeKhYk",
        "colab_type": "text"
      },
      "cell_type": "markdown",
      "source": [
        "**Train the model:**"
      ]
    },
    {
      "metadata": {
        "id": "G14LAerXKka_",
        "colab_type": "code",
        "outputId": "6ba6436a-cf79-4d4d-f18c-cbda13da0f73",
        "colab": {
          "base_uri": "https://localhost:8080/",
          "height": 7500
        }
      },
      "cell_type": "code",
      "source": [
        "model = get_model(y_train.shape)\n",
        "\n",
        "model_filename = 'SRCNN_{date:%Y-%m-%d %H:%M:%S}_best.h5'.format( date=datetime.datetime.now())\n",
        "checkpoint = ModelCheckpoint(model_filename, monitor='val_loss', verbose=1, save_best_only=True,\n",
        "                                 save_weights_only=False, mode='min')\n",
        "es = EarlyStopping(monitor='val_loss', mode='min', verbose=1, patience=20)\n",
        "callbacks_list = [checkpoint,es]\n",
        "model.fit(X_train, y_train, batch_size=16, validation_data=(X_test, y_test),\n",
        "                   shuffle=True, epochs=200, callbacks=callbacks_list)\n",
        "model.save('test-{date:%Y-%m-%d %H:%M:%S}.h5'.format( date=datetime.datetime.now() ))\n",
        "\n",
        "#%%"
      ],
      "execution_count": 9,
      "outputs": [
        {
          "output_type": "stream",
          "text": [
            "_________________________________________________________________\n",
            "Layer (type)                 Output Shape              Param #   \n",
            "=================================================================\n",
            "conv2d_4 (Conv2D)            (None, 883, 12, 32)       832       \n",
            "_________________________________________________________________\n",
            "conv2d_5 (Conv2D)            (None, 883, 12, 64)       51264     \n",
            "_________________________________________________________________\n",
            "conv2d_6 (Conv2D)            (None, 883, 12, 1)        6401      \n",
            "=================================================================\n",
            "Total params: 58,497\n",
            "Trainable params: 58,497\n",
            "Non-trainable params: 0\n",
            "_________________________________________________________________\n",
            "Train on 24324 samples, validate on 9080 samples\n",
            "Epoch 1/200\n",
            "24324/24324 [==============================] - 92s 4ms/step - loss: 2.3657e-04 - mean_absolute_error: 2.3657e-04 - val_loss: 1.9624e-04 - val_mean_absolute_error: 1.9624e-04\n",
            "\n",
            "Epoch 00001: val_loss improved from inf to 0.00020, saving model to SRCNN_2019-04-30 08:16:25_best.h5\n",
            "Epoch 2/200\n",
            "24324/24324 [==============================] - 91s 4ms/step - loss: 1.7878e-04 - mean_absolute_error: 1.7878e-04 - val_loss: 1.6064e-04 - val_mean_absolute_error: 1.6064e-04\n",
            "\n",
            "Epoch 00002: val_loss improved from 0.00020 to 0.00016, saving model to SRCNN_2019-04-30 08:16:25_best.h5\n",
            "Epoch 3/200\n",
            "24324/24324 [==============================] - 92s 4ms/step - loss: 1.7899e-04 - mean_absolute_error: 1.7899e-04 - val_loss: 3.0836e-04 - val_mean_absolute_error: 3.0836e-04\n",
            "\n",
            "Epoch 00003: val_loss did not improve from 0.00016\n",
            "Epoch 4/200\n",
            "24324/24324 [==============================] - 92s 4ms/step - loss: 1.7430e-04 - mean_absolute_error: 1.7430e-04 - val_loss: 2.1051e-04 - val_mean_absolute_error: 2.1051e-04\n",
            "\n",
            "Epoch 00004: val_loss did not improve from 0.00016\n",
            "Epoch 5/200\n",
            "24324/24324 [==============================] - 91s 4ms/step - loss: 1.7066e-04 - mean_absolute_error: 1.7066e-04 - val_loss: 1.3150e-04 - val_mean_absolute_error: 1.3150e-04\n",
            "\n",
            "Epoch 00005: val_loss improved from 0.00016 to 0.00013, saving model to SRCNN_2019-04-30 08:16:25_best.h5\n",
            "Epoch 6/200\n",
            "24324/24324 [==============================] - 91s 4ms/step - loss: 1.6842e-04 - mean_absolute_error: 1.6842e-04 - val_loss: 1.4223e-04 - val_mean_absolute_error: 1.4223e-04\n",
            "\n",
            "Epoch 00006: val_loss did not improve from 0.00013\n",
            "Epoch 7/200\n",
            "24324/24324 [==============================] - 91s 4ms/step - loss: 1.4676e-04 - mean_absolute_error: 1.4676e-04 - val_loss: 1.3876e-04 - val_mean_absolute_error: 1.3876e-04\n",
            "\n",
            "Epoch 00007: val_loss did not improve from 0.00013\n",
            "Epoch 8/200\n",
            "24324/24324 [==============================] - 91s 4ms/step - loss: 1.2981e-04 - mean_absolute_error: 1.2981e-04 - val_loss: 1.1857e-04 - val_mean_absolute_error: 1.1857e-04\n",
            "\n",
            "Epoch 00008: val_loss improved from 0.00013 to 0.00012, saving model to SRCNN_2019-04-30 08:16:25_best.h5\n",
            "Epoch 9/200\n",
            "24324/24324 [==============================] - 91s 4ms/step - loss: 1.2865e-04 - mean_absolute_error: 1.2865e-04 - val_loss: 1.2181e-04 - val_mean_absolute_error: 1.2181e-04\n",
            "\n",
            "Epoch 00009: val_loss did not improve from 0.00012\n",
            "Epoch 10/200\n",
            "24324/24324 [==============================] - 91s 4ms/step - loss: 1.1559e-04 - mean_absolute_error: 1.1559e-04 - val_loss: 1.1906e-04 - val_mean_absolute_error: 1.1906e-04\n",
            "\n",
            "Epoch 00010: val_loss did not improve from 0.00012\n",
            "Epoch 11/200\n",
            "24324/24324 [==============================] - 91s 4ms/step - loss: 1.1606e-04 - mean_absolute_error: 1.1606e-04 - val_loss: 1.2985e-04 - val_mean_absolute_error: 1.2985e-04\n",
            "\n",
            "Epoch 00011: val_loss did not improve from 0.00012\n",
            "Epoch 12/200\n",
            "24324/24324 [==============================] - 91s 4ms/step - loss: 1.0175e-04 - mean_absolute_error: 1.0175e-04 - val_loss: 1.0024e-04 - val_mean_absolute_error: 1.0024e-04\n",
            "\n",
            "Epoch 00012: val_loss improved from 0.00012 to 0.00010, saving model to SRCNN_2019-04-30 08:16:25_best.h5\n",
            "Epoch 13/200\n",
            "24324/24324 [==============================] - 91s 4ms/step - loss: 1.1779e-04 - mean_absolute_error: 1.1779e-04 - val_loss: 1.3657e-04 - val_mean_absolute_error: 1.3657e-04\n",
            "\n",
            "Epoch 00013: val_loss did not improve from 0.00010\n",
            "Epoch 14/200\n",
            "24324/24324 [==============================] - 91s 4ms/step - loss: 1.0556e-04 - mean_absolute_error: 1.0556e-04 - val_loss: 1.0113e-04 - val_mean_absolute_error: 1.0113e-04\n",
            "\n",
            "Epoch 00014: val_loss did not improve from 0.00010\n",
            "Epoch 15/200\n",
            "24324/24324 [==============================] - 91s 4ms/step - loss: 9.4897e-05 - mean_absolute_error: 9.4897e-05 - val_loss: 9.3873e-05 - val_mean_absolute_error: 9.3873e-05\n",
            "\n",
            "Epoch 00015: val_loss improved from 0.00010 to 0.00009, saving model to SRCNN_2019-04-30 08:16:25_best.h5\n",
            "Epoch 16/200\n",
            "24324/24324 [==============================] - 91s 4ms/step - loss: 8.3741e-05 - mean_absolute_error: 8.3741e-05 - val_loss: 9.3234e-05 - val_mean_absolute_error: 9.3234e-05\n",
            "\n",
            "Epoch 00016: val_loss improved from 0.00009 to 0.00009, saving model to SRCNN_2019-04-30 08:16:25_best.h5\n",
            "Epoch 17/200\n",
            "24324/24324 [==============================] - 91s 4ms/step - loss: 8.5083e-05 - mean_absolute_error: 8.5083e-05 - val_loss: 9.4635e-05 - val_mean_absolute_error: 9.4635e-05\n",
            "\n",
            "Epoch 00017: val_loss did not improve from 0.00009\n",
            "Epoch 18/200\n",
            "24324/24324 [==============================] - 91s 4ms/step - loss: 1.1069e-04 - mean_absolute_error: 1.1069e-04 - val_loss: 1.3560e-04 - val_mean_absolute_error: 1.3560e-04\n",
            "\n",
            "Epoch 00018: val_loss did not improve from 0.00009\n",
            "Epoch 19/200\n",
            "24324/24324 [==============================] - 91s 4ms/step - loss: 9.6428e-05 - mean_absolute_error: 9.6428e-05 - val_loss: 1.0550e-04 - val_mean_absolute_error: 1.0550e-04\n",
            "\n",
            "Epoch 00019: val_loss did not improve from 0.00009\n",
            "Epoch 20/200\n",
            "24324/24324 [==============================] - 91s 4ms/step - loss: 8.6814e-05 - mean_absolute_error: 8.6814e-05 - val_loss: 9.7452e-05 - val_mean_absolute_error: 9.7452e-05\n",
            "\n",
            "Epoch 00020: val_loss did not improve from 0.00009\n",
            "Epoch 21/200\n",
            "24324/24324 [==============================] - 91s 4ms/step - loss: 8.5684e-05 - mean_absolute_error: 8.5684e-05 - val_loss: 1.2713e-04 - val_mean_absolute_error: 1.2713e-04\n",
            "\n",
            "Epoch 00021: val_loss did not improve from 0.00009\n",
            "Epoch 22/200\n",
            "24324/24324 [==============================] - 91s 4ms/step - loss: 8.4570e-05 - mean_absolute_error: 8.4570e-05 - val_loss: 9.9430e-05 - val_mean_absolute_error: 9.9430e-05\n",
            "\n",
            "Epoch 00022: val_loss did not improve from 0.00009\n",
            "Epoch 23/200\n",
            "24324/24324 [==============================] - 91s 4ms/step - loss: 9.1078e-05 - mean_absolute_error: 9.1078e-05 - val_loss: 8.9640e-05 - val_mean_absolute_error: 8.9640e-05\n",
            "\n",
            "Epoch 00023: val_loss improved from 0.00009 to 0.00009, saving model to SRCNN_2019-04-30 08:16:25_best.h5\n",
            "Epoch 24/200\n",
            "24324/24324 [==============================] - 91s 4ms/step - loss: 8.7399e-05 - mean_absolute_error: 8.7399e-05 - val_loss: 9.3121e-05 - val_mean_absolute_error: 9.3121e-05\n",
            "\n",
            "Epoch 00024: val_loss did not improve from 0.00009\n",
            "Epoch 25/200\n",
            "24324/24324 [==============================] - 91s 4ms/step - loss: 8.0477e-05 - mean_absolute_error: 8.0477e-05 - val_loss: 1.0625e-04 - val_mean_absolute_error: 1.0625e-04\n",
            "\n",
            "Epoch 00025: val_loss did not improve from 0.00009\n",
            "Epoch 26/200\n",
            "24324/24324 [==============================] - 92s 4ms/step - loss: 8.2562e-05 - mean_absolute_error: 8.2562e-05 - val_loss: 8.9421e-05 - val_mean_absolute_error: 8.9421e-05\n",
            "\n",
            "Epoch 00026: val_loss improved from 0.00009 to 0.00009, saving model to SRCNN_2019-04-30 08:16:25_best.h5\n",
            "Epoch 27/200\n",
            "24324/24324 [==============================] - 91s 4ms/step - loss: 8.6011e-05 - mean_absolute_error: 8.6011e-05 - val_loss: 9.2650e-05 - val_mean_absolute_error: 9.2650e-05\n",
            "\n",
            "Epoch 00027: val_loss did not improve from 0.00009\n",
            "Epoch 28/200\n",
            "24324/24324 [==============================] - 91s 4ms/step - loss: 8.7012e-05 - mean_absolute_error: 8.7012e-05 - val_loss: 9.3083e-05 - val_mean_absolute_error: 9.3083e-05\n",
            "\n",
            "Epoch 00028: val_loss did not improve from 0.00009\n",
            "Epoch 29/200\n",
            "24324/24324 [==============================] - 91s 4ms/step - loss: 8.2293e-05 - mean_absolute_error: 8.2293e-05 - val_loss: 9.9861e-05 - val_mean_absolute_error: 9.9861e-05\n",
            "\n",
            "Epoch 00029: val_loss did not improve from 0.00009\n",
            "Epoch 30/200\n",
            "24324/24324 [==============================] - 91s 4ms/step - loss: 7.9936e-05 - mean_absolute_error: 7.9936e-05 - val_loss: 9.3193e-05 - val_mean_absolute_error: 9.3193e-05\n",
            "\n",
            "Epoch 00030: val_loss did not improve from 0.00009\n",
            "Epoch 31/200\n",
            "24324/24324 [==============================] - 91s 4ms/step - loss: 8.2146e-05 - mean_absolute_error: 8.2146e-05 - val_loss: 9.5614e-05 - val_mean_absolute_error: 9.5614e-05\n",
            "\n",
            "Epoch 00031: val_loss did not improve from 0.00009\n",
            "Epoch 32/200\n",
            "24324/24324 [==============================] - 91s 4ms/step - loss: 8.0918e-05 - mean_absolute_error: 8.0918e-05 - val_loss: 9.1347e-05 - val_mean_absolute_error: 9.1347e-05\n",
            "\n",
            "Epoch 00032: val_loss did not improve from 0.00009\n",
            "Epoch 33/200\n",
            "24324/24324 [==============================] - 91s 4ms/step - loss: 7.6838e-05 - mean_absolute_error: 7.6838e-05 - val_loss: 8.6628e-05 - val_mean_absolute_error: 8.6628e-05\n",
            "\n",
            "Epoch 00033: val_loss improved from 0.00009 to 0.00009, saving model to SRCNN_2019-04-30 08:16:25_best.h5\n",
            "Epoch 34/200\n",
            "24324/24324 [==============================] - 91s 4ms/step - loss: 7.4723e-05 - mean_absolute_error: 7.4723e-05 - val_loss: 9.1679e-05 - val_mean_absolute_error: 9.1679e-05\n",
            "\n",
            "Epoch 00034: val_loss did not improve from 0.00009\n",
            "Epoch 35/200\n",
            "24324/24324 [==============================] - 91s 4ms/step - loss: 7.2834e-05 - mean_absolute_error: 7.2834e-05 - val_loss: 8.6542e-05 - val_mean_absolute_error: 8.6542e-05\n",
            "\n",
            "Epoch 00035: val_loss improved from 0.00009 to 0.00009, saving model to SRCNN_2019-04-30 08:16:25_best.h5\n",
            "Epoch 36/200\n",
            "24324/24324 [==============================] - 91s 4ms/step - loss: 7.4402e-05 - mean_absolute_error: 7.4402e-05 - val_loss: 8.7461e-05 - val_mean_absolute_error: 8.7461e-05\n",
            "\n",
            "Epoch 00036: val_loss did not improve from 0.00009\n",
            "Epoch 37/200\n",
            "24324/24324 [==============================] - 91s 4ms/step - loss: 7.5644e-05 - mean_absolute_error: 7.5644e-05 - val_loss: 8.9300e-05 - val_mean_absolute_error: 8.9300e-05\n",
            "\n",
            "Epoch 00037: val_loss did not improve from 0.00009\n",
            "Epoch 38/200\n",
            "24324/24324 [==============================] - 91s 4ms/step - loss: 7.9161e-05 - mean_absolute_error: 7.9161e-05 - val_loss: 8.8515e-05 - val_mean_absolute_error: 8.8515e-05\n",
            "\n",
            "Epoch 00038: val_loss did not improve from 0.00009\n",
            "Epoch 39/200\n",
            "24324/24324 [==============================] - 91s 4ms/step - loss: 8.2789e-05 - mean_absolute_error: 8.2789e-05 - val_loss: 8.6784e-05 - val_mean_absolute_error: 8.6784e-05\n",
            "\n",
            "Epoch 00039: val_loss did not improve from 0.00009\n",
            "Epoch 40/200\n",
            "24324/24324 [==============================] - 91s 4ms/step - loss: 7.6661e-05 - mean_absolute_error: 7.6661e-05 - val_loss: 9.2121e-05 - val_mean_absolute_error: 9.2121e-05\n",
            "\n",
            "Epoch 00040: val_loss did not improve from 0.00009\n",
            "Epoch 41/200\n",
            "24324/24324 [==============================] - 91s 4ms/step - loss: 7.3833e-05 - mean_absolute_error: 7.3833e-05 - val_loss: 9.0665e-05 - val_mean_absolute_error: 9.0665e-05\n",
            "\n",
            "Epoch 00041: val_loss did not improve from 0.00009\n",
            "Epoch 42/200\n",
            "24324/24324 [==============================] - 91s 4ms/step - loss: 7.9586e-05 - mean_absolute_error: 7.9586e-05 - val_loss: 8.8028e-05 - val_mean_absolute_error: 8.8028e-05\n",
            "\n",
            "Epoch 00042: val_loss did not improve from 0.00009\n",
            "Epoch 43/200\n",
            "24324/24324 [==============================] - 91s 4ms/step - loss: 7.5169e-05 - mean_absolute_error: 7.5169e-05 - val_loss: 8.8683e-05 - val_mean_absolute_error: 8.8683e-05\n",
            "\n",
            "Epoch 00043: val_loss did not improve from 0.00009\n",
            "Epoch 44/200\n",
            "24324/24324 [==============================] - 91s 4ms/step - loss: 7.3633e-05 - mean_absolute_error: 7.3633e-05 - val_loss: 8.9982e-05 - val_mean_absolute_error: 8.9982e-05\n",
            "\n",
            "Epoch 00044: val_loss did not improve from 0.00009\n",
            "Epoch 45/200\n",
            "24324/24324 [==============================] - 91s 4ms/step - loss: 7.3324e-05 - mean_absolute_error: 7.3324e-05 - val_loss: 8.6178e-05 - val_mean_absolute_error: 8.6178e-05\n",
            "\n",
            "Epoch 00045: val_loss improved from 0.00009 to 0.00009, saving model to SRCNN_2019-04-30 08:16:25_best.h5\n",
            "Epoch 46/200\n",
            "24324/24324 [==============================] - 91s 4ms/step - loss: 7.7386e-05 - mean_absolute_error: 7.7386e-05 - val_loss: 8.8588e-05 - val_mean_absolute_error: 8.8588e-05\n",
            "\n",
            "Epoch 00046: val_loss did not improve from 0.00009\n",
            "Epoch 47/200\n",
            "24324/24324 [==============================] - 92s 4ms/step - loss: 7.3677e-05 - mean_absolute_error: 7.3677e-05 - val_loss: 1.1402e-04 - val_mean_absolute_error: 1.1402e-04\n",
            "\n",
            "Epoch 00047: val_loss did not improve from 0.00009\n",
            "Epoch 48/200\n",
            "24324/24324 [==============================] - 91s 4ms/step - loss: 7.4462e-05 - mean_absolute_error: 7.4462e-05 - val_loss: 8.7664e-05 - val_mean_absolute_error: 8.7664e-05\n",
            "\n",
            "Epoch 00048: val_loss did not improve from 0.00009\n",
            "Epoch 49/200\n",
            "24324/24324 [==============================] - 91s 4ms/step - loss: 7.4128e-05 - mean_absolute_error: 7.4128e-05 - val_loss: 8.6281e-05 - val_mean_absolute_error: 8.6281e-05\n",
            "\n",
            "Epoch 00049: val_loss did not improve from 0.00009\n",
            "Epoch 50/200\n",
            "24324/24324 [==============================] - 91s 4ms/step - loss: 7.4756e-05 - mean_absolute_error: 7.4756e-05 - val_loss: 1.0020e-04 - val_mean_absolute_error: 1.0020e-04\n",
            "\n",
            "Epoch 00050: val_loss did not improve from 0.00009\n",
            "Epoch 51/200\n",
            "24324/24324 [==============================] - 91s 4ms/step - loss: 7.3005e-05 - mean_absolute_error: 7.3005e-05 - val_loss: 8.5357e-05 - val_mean_absolute_error: 8.5357e-05\n",
            "\n",
            "Epoch 00051: val_loss improved from 0.00009 to 0.00009, saving model to SRCNN_2019-04-30 08:16:25_best.h5\n",
            "Epoch 52/200\n",
            "24324/24324 [==============================] - 91s 4ms/step - loss: 7.4626e-05 - mean_absolute_error: 7.4626e-05 - val_loss: 8.8290e-05 - val_mean_absolute_error: 8.8290e-05\n",
            "\n",
            "Epoch 00052: val_loss did not improve from 0.00009\n",
            "Epoch 53/200\n",
            "24324/24324 [==============================] - 91s 4ms/step - loss: 7.5781e-05 - mean_absolute_error: 7.5781e-05 - val_loss: 9.4439e-05 - val_mean_absolute_error: 9.4439e-05\n",
            "\n",
            "Epoch 00053: val_loss did not improve from 0.00009\n",
            "Epoch 54/200\n",
            "24324/24324 [==============================] - 91s 4ms/step - loss: 8.1322e-05 - mean_absolute_error: 8.1322e-05 - val_loss: 9.3907e-05 - val_mean_absolute_error: 9.3907e-05\n",
            "\n",
            "Epoch 00054: val_loss did not improve from 0.00009\n",
            "Epoch 55/200\n",
            "24324/24324 [==============================] - 91s 4ms/step - loss: 7.4263e-05 - mean_absolute_error: 7.4263e-05 - val_loss: 8.6304e-05 - val_mean_absolute_error: 8.6304e-05\n",
            "\n",
            "Epoch 00055: val_loss did not improve from 0.00009\n",
            "Epoch 56/200\n",
            "24324/24324 [==============================] - 91s 4ms/step - loss: 7.2949e-05 - mean_absolute_error: 7.2949e-05 - val_loss: 8.5681e-05 - val_mean_absolute_error: 8.5681e-05\n",
            "\n",
            "Epoch 00056: val_loss did not improve from 0.00009\n",
            "Epoch 57/200\n",
            "24324/24324 [==============================] - 91s 4ms/step - loss: 7.4716e-05 - mean_absolute_error: 7.4716e-05 - val_loss: 8.5926e-05 - val_mean_absolute_error: 8.5926e-05\n",
            "\n",
            "Epoch 00057: val_loss did not improve from 0.00009\n",
            "Epoch 58/200\n",
            "24324/24324 [==============================] - 91s 4ms/step - loss: 7.7134e-05 - mean_absolute_error: 7.7134e-05 - val_loss: 1.0780e-04 - val_mean_absolute_error: 1.0780e-04\n",
            "\n",
            "Epoch 00058: val_loss did not improve from 0.00009\n",
            "Epoch 59/200\n",
            "24324/24324 [==============================] - 91s 4ms/step - loss: 7.8655e-05 - mean_absolute_error: 7.8655e-05 - val_loss: 8.9699e-05 - val_mean_absolute_error: 8.9699e-05\n",
            "\n",
            "Epoch 00059: val_loss did not improve from 0.00009\n",
            "Epoch 60/200\n",
            "24324/24324 [==============================] - 91s 4ms/step - loss: 7.4160e-05 - mean_absolute_error: 7.4160e-05 - val_loss: 9.8778e-05 - val_mean_absolute_error: 9.8778e-05\n",
            "\n",
            "Epoch 00060: val_loss did not improve from 0.00009\n",
            "Epoch 61/200\n",
            "24324/24324 [==============================] - 91s 4ms/step - loss: 7.4105e-05 - mean_absolute_error: 7.4105e-05 - val_loss: 9.3415e-05 - val_mean_absolute_error: 9.3415e-05\n",
            "\n",
            "Epoch 00061: val_loss did not improve from 0.00009\n",
            "Epoch 62/200\n",
            "24324/24324 [==============================] - 91s 4ms/step - loss: 7.9492e-05 - mean_absolute_error: 7.9492e-05 - val_loss: 8.8054e-05 - val_mean_absolute_error: 8.8054e-05\n",
            "\n",
            "Epoch 00062: val_loss did not improve from 0.00009\n",
            "Epoch 63/200\n",
            "24324/24324 [==============================] - 91s 4ms/step - loss: 7.4280e-05 - mean_absolute_error: 7.4280e-05 - val_loss: 8.7192e-05 - val_mean_absolute_error: 8.7192e-05\n",
            "\n",
            "Epoch 00063: val_loss did not improve from 0.00009\n",
            "Epoch 64/200\n",
            "24324/24324 [==============================] - 91s 4ms/step - loss: 7.3544e-05 - mean_absolute_error: 7.3544e-05 - val_loss: 8.5969e-05 - val_mean_absolute_error: 8.5969e-05\n",
            "\n",
            "Epoch 00064: val_loss did not improve from 0.00009\n",
            "Epoch 65/200\n",
            "24324/24324 [==============================] - 91s 4ms/step - loss: 7.4650e-05 - mean_absolute_error: 7.4650e-05 - val_loss: 8.9222e-05 - val_mean_absolute_error: 8.9222e-05\n",
            "\n",
            "Epoch 00065: val_loss did not improve from 0.00009\n",
            "Epoch 66/200\n",
            "24324/24324 [==============================] - 91s 4ms/step - loss: 7.5612e-05 - mean_absolute_error: 7.5612e-05 - val_loss: 9.3223e-05 - val_mean_absolute_error: 9.3223e-05\n",
            "\n",
            "Epoch 00066: val_loss did not improve from 0.00009\n",
            "Epoch 67/200\n",
            "24324/24324 [==============================] - 91s 4ms/step - loss: 7.5641e-05 - mean_absolute_error: 7.5641e-05 - val_loss: 8.6737e-05 - val_mean_absolute_error: 8.6737e-05\n",
            "\n",
            "Epoch 00067: val_loss did not improve from 0.00009\n",
            "Epoch 68/200\n",
            "24324/24324 [==============================] - 91s 4ms/step - loss: 7.4300e-05 - mean_absolute_error: 7.4300e-05 - val_loss: 8.9234e-05 - val_mean_absolute_error: 8.9234e-05\n",
            "\n",
            "Epoch 00068: val_loss did not improve from 0.00009\n",
            "Epoch 69/200\n",
            "24324/24324 [==============================] - 91s 4ms/step - loss: 7.3477e-05 - mean_absolute_error: 7.3477e-05 - val_loss: 8.5934e-05 - val_mean_absolute_error: 8.5934e-05\n",
            "\n",
            "Epoch 00069: val_loss did not improve from 0.00009\n",
            "Epoch 70/200\n",
            "24324/24324 [==============================] - 92s 4ms/step - loss: 7.7095e-05 - mean_absolute_error: 7.7095e-05 - val_loss: 8.7951e-05 - val_mean_absolute_error: 8.7951e-05\n",
            "\n",
            "Epoch 00070: val_loss did not improve from 0.00009\n",
            "Epoch 71/200\n",
            "24324/24324 [==============================] - 93s 4ms/step - loss: 7.3457e-05 - mean_absolute_error: 7.3457e-05 - val_loss: 8.5299e-05 - val_mean_absolute_error: 8.5299e-05\n",
            "\n",
            "Epoch 00071: val_loss improved from 0.00009 to 0.00009, saving model to SRCNN_2019-04-30 08:16:25_best.h5\n",
            "Epoch 72/200\n",
            "24324/24324 [==============================] - 91s 4ms/step - loss: 7.3230e-05 - mean_absolute_error: 7.3230e-05 - val_loss: 9.4520e-05 - val_mean_absolute_error: 9.4520e-05\n",
            "\n",
            "Epoch 00072: val_loss did not improve from 0.00009\n",
            "Epoch 73/200\n",
            "24324/24324 [==============================] - 91s 4ms/step - loss: 7.3528e-05 - mean_absolute_error: 7.3528e-05 - val_loss: 8.6041e-05 - val_mean_absolute_error: 8.6041e-05\n",
            "\n",
            "Epoch 00073: val_loss did not improve from 0.00009\n",
            "Epoch 74/200\n",
            "24324/24324 [==============================] - 91s 4ms/step - loss: 7.7102e-05 - mean_absolute_error: 7.7102e-05 - val_loss: 1.4090e-04 - val_mean_absolute_error: 1.4090e-04\n",
            "\n",
            "Epoch 00074: val_loss did not improve from 0.00009\n",
            "Epoch 75/200\n",
            "24324/24324 [==============================] - 91s 4ms/step - loss: 7.4113e-05 - mean_absolute_error: 7.4113e-05 - val_loss: 8.6641e-05 - val_mean_absolute_error: 8.6641e-05\n",
            "\n",
            "Epoch 00075: val_loss did not improve from 0.00009\n",
            "Epoch 76/200\n",
            "24324/24324 [==============================] - 91s 4ms/step - loss: 7.3986e-05 - mean_absolute_error: 7.3986e-05 - val_loss: 8.6410e-05 - val_mean_absolute_error: 8.6410e-05\n",
            "\n",
            "Epoch 00076: val_loss did not improve from 0.00009\n",
            "Epoch 77/200\n",
            "24324/24324 [==============================] - 91s 4ms/step - loss: 7.5963e-05 - mean_absolute_error: 7.5963e-05 - val_loss: 8.5746e-05 - val_mean_absolute_error: 8.5746e-05\n",
            "\n",
            "Epoch 00077: val_loss did not improve from 0.00009\n",
            "Epoch 78/200\n",
            "24324/24324 [==============================] - 91s 4ms/step - loss: 7.2459e-05 - mean_absolute_error: 7.2459e-05 - val_loss: 8.5901e-05 - val_mean_absolute_error: 8.5901e-05\n",
            "\n",
            "Epoch 00078: val_loss did not improve from 0.00009\n",
            "Epoch 79/200\n",
            "24324/24324 [==============================] - 91s 4ms/step - loss: 8.5773e-05 - mean_absolute_error: 8.5773e-05 - val_loss: 9.5800e-05 - val_mean_absolute_error: 9.5800e-05\n",
            "\n",
            "Epoch 00079: val_loss did not improve from 0.00009\n",
            "Epoch 80/200\n",
            "24324/24324 [==============================] - 92s 4ms/step - loss: 7.4214e-05 - mean_absolute_error: 7.4214e-05 - val_loss: 8.5665e-05 - val_mean_absolute_error: 8.5665e-05\n",
            "\n",
            "Epoch 00080: val_loss did not improve from 0.00009\n",
            "Epoch 81/200\n",
            "24324/24324 [==============================] - 91s 4ms/step - loss: 7.4702e-05 - mean_absolute_error: 7.4702e-05 - val_loss: 8.8032e-05 - val_mean_absolute_error: 8.8032e-05\n",
            "\n",
            "Epoch 00081: val_loss did not improve from 0.00009\n",
            "Epoch 82/200\n",
            "24324/24324 [==============================] - 91s 4ms/step - loss: 7.3317e-05 - mean_absolute_error: 7.3317e-05 - val_loss: 8.6157e-05 - val_mean_absolute_error: 8.6157e-05\n",
            "\n",
            "Epoch 00082: val_loss did not improve from 0.00009\n",
            "Epoch 83/200\n",
            "24324/24324 [==============================] - 91s 4ms/step - loss: 7.5730e-05 - mean_absolute_error: 7.5730e-05 - val_loss: 8.6786e-05 - val_mean_absolute_error: 8.6786e-05\n",
            "\n",
            "Epoch 00083: val_loss did not improve from 0.00009\n",
            "Epoch 84/200\n",
            "24324/24324 [==============================] - 91s 4ms/step - loss: 7.2693e-05 - mean_absolute_error: 7.2693e-05 - val_loss: 8.7566e-05 - val_mean_absolute_error: 8.7566e-05\n",
            "\n",
            "Epoch 00084: val_loss did not improve from 0.00009\n",
            "Epoch 85/200\n",
            "24324/24324 [==============================] - 92s 4ms/step - loss: 7.6623e-05 - mean_absolute_error: 7.6623e-05 - val_loss: 9.3095e-05 - val_mean_absolute_error: 9.3095e-05\n",
            "\n",
            "Epoch 00085: val_loss did not improve from 0.00009\n",
            "Epoch 86/200\n",
            "24324/24324 [==============================] - 92s 4ms/step - loss: 7.5176e-05 - mean_absolute_error: 7.5176e-05 - val_loss: 8.5235e-05 - val_mean_absolute_error: 8.5235e-05\n",
            "\n",
            "Epoch 00086: val_loss improved from 0.00009 to 0.00009, saving model to SRCNN_2019-04-30 08:16:25_best.h5\n",
            "Epoch 87/200\n",
            "24324/24324 [==============================] - 91s 4ms/step - loss: 7.5806e-05 - mean_absolute_error: 7.5806e-05 - val_loss: 9.4515e-05 - val_mean_absolute_error: 9.4515e-05\n",
            "\n",
            "Epoch 00087: val_loss did not improve from 0.00009\n",
            "Epoch 88/200\n",
            "24324/24324 [==============================] - 91s 4ms/step - loss: 7.3080e-05 - mean_absolute_error: 7.3080e-05 - val_loss: 8.7399e-05 - val_mean_absolute_error: 8.7399e-05\n",
            "\n",
            "Epoch 00088: val_loss did not improve from 0.00009\n",
            "Epoch 89/200\n",
            "24324/24324 [==============================] - 91s 4ms/step - loss: 7.3373e-05 - mean_absolute_error: 7.3373e-05 - val_loss: 1.1221e-04 - val_mean_absolute_error: 1.1221e-04\n",
            "\n",
            "Epoch 00089: val_loss did not improve from 0.00009\n",
            "Epoch 90/200\n",
            "24324/24324 [==============================] - 91s 4ms/step - loss: 7.4338e-05 - mean_absolute_error: 7.4338e-05 - val_loss: 8.5518e-05 - val_mean_absolute_error: 8.5518e-05\n",
            "\n",
            "Epoch 00090: val_loss did not improve from 0.00009\n",
            "Epoch 91/200\n",
            "24324/24324 [==============================] - 91s 4ms/step - loss: 7.3054e-05 - mean_absolute_error: 7.3054e-05 - val_loss: 8.5763e-05 - val_mean_absolute_error: 8.5763e-05\n",
            "\n",
            "Epoch 00091: val_loss did not improve from 0.00009\n",
            "Epoch 92/200\n",
            "24324/24324 [==============================] - 91s 4ms/step - loss: 7.6960e-05 - mean_absolute_error: 7.6960e-05 - val_loss: 8.6705e-05 - val_mean_absolute_error: 8.6705e-05\n",
            "\n",
            "Epoch 00092: val_loss did not improve from 0.00009\n",
            "Epoch 93/200\n",
            "24324/24324 [==============================] - 91s 4ms/step - loss: 7.3946e-05 - mean_absolute_error: 7.3946e-05 - val_loss: 9.3168e-05 - val_mean_absolute_error: 9.3168e-05\n",
            "\n",
            "Epoch 00093: val_loss did not improve from 0.00009\n",
            "Epoch 94/200\n",
            "24324/24324 [==============================] - 91s 4ms/step - loss: 7.4147e-05 - mean_absolute_error: 7.4147e-05 - val_loss: 8.6398e-05 - val_mean_absolute_error: 8.6398e-05\n",
            "\n",
            "Epoch 00094: val_loss did not improve from 0.00009\n",
            "Epoch 95/200\n",
            "24324/24324 [==============================] - 91s 4ms/step - loss: 7.2853e-05 - mean_absolute_error: 7.2853e-05 - val_loss: 8.5241e-05 - val_mean_absolute_error: 8.5241e-05\n",
            "\n",
            "Epoch 00095: val_loss did not improve from 0.00009\n",
            "Epoch 96/200\n",
            "24324/24324 [==============================] - 91s 4ms/step - loss: 7.3061e-05 - mean_absolute_error: 7.3061e-05 - val_loss: 8.9836e-05 - val_mean_absolute_error: 8.9836e-05\n",
            "\n",
            "Epoch 00096: val_loss did not improve from 0.00009\n",
            "Epoch 97/200\n",
            "24324/24324 [==============================] - 91s 4ms/step - loss: 7.3990e-05 - mean_absolute_error: 7.3990e-05 - val_loss: 8.9166e-05 - val_mean_absolute_error: 8.9166e-05\n",
            "\n",
            "Epoch 00097: val_loss did not improve from 0.00009\n",
            "Epoch 98/200\n",
            "24324/24324 [==============================] - 91s 4ms/step - loss: 7.3635e-05 - mean_absolute_error: 7.3635e-05 - val_loss: 8.6872e-05 - val_mean_absolute_error: 8.6872e-05\n",
            "\n",
            "Epoch 00098: val_loss did not improve from 0.00009\n",
            "Epoch 99/200\n",
            "24324/24324 [==============================] - 91s 4ms/step - loss: 7.6573e-05 - mean_absolute_error: 7.6573e-05 - val_loss: 8.6971e-05 - val_mean_absolute_error: 8.6971e-05\n",
            "\n",
            "Epoch 00099: val_loss did not improve from 0.00009\n",
            "Epoch 100/200\n",
            "24324/24324 [==============================] - 91s 4ms/step - loss: 7.2779e-05 - mean_absolute_error: 7.2779e-05 - val_loss: 8.6074e-05 - val_mean_absolute_error: 8.6074e-05\n",
            "\n",
            "Epoch 00100: val_loss did not improve from 0.00009\n",
            "Epoch 101/200\n",
            "24324/24324 [==============================] - 91s 4ms/step - loss: 7.3590e-05 - mean_absolute_error: 7.3590e-05 - val_loss: 1.2265e-04 - val_mean_absolute_error: 1.2265e-04\n",
            "\n",
            "Epoch 00101: val_loss did not improve from 0.00009\n",
            "Epoch 102/200\n",
            "24324/24324 [==============================] - 91s 4ms/step - loss: 7.5951e-05 - mean_absolute_error: 7.5951e-05 - val_loss: 8.8573e-05 - val_mean_absolute_error: 8.8573e-05\n",
            "\n",
            "Epoch 00102: val_loss did not improve from 0.00009\n",
            "Epoch 103/200\n",
            "24324/24324 [==============================] - 91s 4ms/step - loss: 7.3426e-05 - mean_absolute_error: 7.3426e-05 - val_loss: 8.5801e-05 - val_mean_absolute_error: 8.5801e-05\n",
            "\n",
            "Epoch 00103: val_loss did not improve from 0.00009\n",
            "Epoch 104/200\n",
            "24324/24324 [==============================] - 91s 4ms/step - loss: 7.2141e-05 - mean_absolute_error: 7.2141e-05 - val_loss: 8.6090e-05 - val_mean_absolute_error: 8.6090e-05\n",
            "\n",
            "Epoch 00104: val_loss did not improve from 0.00009\n",
            "Epoch 105/200\n",
            "24324/24324 [==============================] - 91s 4ms/step - loss: 7.4109e-05 - mean_absolute_error: 7.4109e-05 - val_loss: 8.5247e-05 - val_mean_absolute_error: 8.5247e-05\n",
            "\n",
            "Epoch 00105: val_loss did not improve from 0.00009\n",
            "Epoch 106/200\n",
            "24324/24324 [==============================] - 91s 4ms/step - loss: 7.2106e-05 - mean_absolute_error: 7.2106e-05 - val_loss: 8.6580e-05 - val_mean_absolute_error: 8.6580e-05\n",
            "\n",
            "Epoch 00106: val_loss did not improve from 0.00009\n",
            "Epoch 00106: early stopping\n"
          ],
          "name": "stdout"
        }
      ]
    },
    {
      "metadata": {
        "id": "rfOfh497F7ob",
        "colab_type": "code",
        "outputId": "c5b0c804-5e8a-4189-e24d-cd4b1914630c",
        "colab": {
          "base_uri": "https://localhost:8080/",
          "height": 34
        }
      },
      "cell_type": "code",
      "source": [
        "\n",
        "X_train.shape"
      ],
      "execution_count": 6,
      "outputs": [
        {
          "output_type": "execute_result",
          "data": {
            "text/plain": [
              "(24324, 883, 12, 1)"
            ]
          },
          "metadata": {
            "tags": []
          },
          "execution_count": 6
        }
      ]
    },
    {
      "metadata": {
        "id": "MopSXT7jDeUN",
        "colab_type": "text"
      },
      "cell_type": "markdown",
      "source": [
        "# **Generate the output file**\n",
        "\n",
        "---\n",
        "\n"
      ]
    },
    {
      "metadata": {
        "id": "5Vk_C8CdMiW3",
        "colab_type": "code",
        "outputId": "4030dcb2-e578-4029-9f28-7ed5396eac95",
        "colab": {
          "base_uri": "https://localhost:8080/",
          "height": 51
        }
      },
      "cell_type": "code",
      "source": [
        "\n",
        "#%% ----- PREDICT---------\n",
        "\n",
        "# model = load_model('SRCNN_2019-04-23 18_47_20_best.h5')\n",
        "\n",
        "y, fs = sf.read('1.wav')\n",
        "reconstruct(y,fs,model)\n"
      ],
      "execution_count": 10,
      "outputs": [
        {
          "output_type": "stream",
          "text": [
            "Output without phase info was saved.\n",
            "Output with phase info was saved.\n"
          ],
          "name": "stdout"
        }
      ]
    },
    {
      "metadata": {
        "id": "bU1DgePhj1hK",
        "colab_type": "code",
        "colab": {}
      },
      "cell_type": "code",
      "source": [
        "model.save('model_106epochs.h5')"
      ],
      "execution_count": 0,
      "outputs": []
    },
    {
      "metadata": {
        "id": "ihzW3VlGDy0_",
        "colab_type": "text"
      },
      "cell_type": "markdown",
      "source": [
        "# **Play ground: Maxtrix transformation testing**"
      ]
    },
    {
      "metadata": {
        "id": "9fAeLhtzMjxv",
        "colab_type": "code",
        "outputId": "c3173aee-41d4-4936-c5f3-90aa4c9172fb",
        "colab": {
          "base_uri": "https://localhost:8080/",
          "height": 232
        }
      },
      "cell_type": "code",
      "source": [
        "\n",
        "a1 = np.arange(128).reshape((4,-1))\n",
        "a = a1\n",
        "number_frequencies, number_time_frames = a.shape\n",
        "a = a[:, :-(number_time_frames%3)]\n",
        "\n",
        "\n",
        "b= a.reshape((number_frequencies,3,-1,1), order='F')\n",
        "\t\n",
        "z = b.transpose((2,0,1,3))"
      ],
      "execution_count": 0,
      "outputs": [
        {
          "output_type": "error",
          "ename": "NameError",
          "evalue": "ignored",
          "traceback": [
            "\u001b[0;31m---------------------------------------------------------------------------\u001b[0m",
            "\u001b[0;31mNameError\u001b[0m                                 Traceback (most recent call last)",
            "\u001b[0;32m<ipython-input-3-9d0f60cd704c>\u001b[0m in \u001b[0;36m<module>\u001b[0;34m()\u001b[0m\n\u001b[1;32m      1\u001b[0m \u001b[0;34m\u001b[0m\u001b[0m\n\u001b[0;32m----> 2\u001b[0;31m \u001b[0ma1\u001b[0m \u001b[0;34m=\u001b[0m \u001b[0mnp\u001b[0m\u001b[0;34m.\u001b[0m\u001b[0marange\u001b[0m\u001b[0;34m(\u001b[0m\u001b[0;36m128\u001b[0m\u001b[0;34m)\u001b[0m\u001b[0;34m.\u001b[0m\u001b[0mreshape\u001b[0m\u001b[0;34m(\u001b[0m\u001b[0;34m(\u001b[0m\u001b[0;36m4\u001b[0m\u001b[0;34m,\u001b[0m\u001b[0;34m-\u001b[0m\u001b[0;36m1\u001b[0m\u001b[0;34m)\u001b[0m\u001b[0;34m)\u001b[0m\u001b[0;34m\u001b[0m\u001b[0;34m\u001b[0m\u001b[0m\n\u001b[0m\u001b[1;32m      3\u001b[0m \u001b[0ma\u001b[0m \u001b[0;34m=\u001b[0m \u001b[0ma1\u001b[0m\u001b[0;34m\u001b[0m\u001b[0;34m\u001b[0m\u001b[0m\n\u001b[1;32m      4\u001b[0m \u001b[0mnumber_frequencies\u001b[0m\u001b[0;34m,\u001b[0m \u001b[0mnumber_time_frames\u001b[0m \u001b[0;34m=\u001b[0m \u001b[0ma\u001b[0m\u001b[0;34m.\u001b[0m\u001b[0mshape\u001b[0m\u001b[0;34m\u001b[0m\u001b[0;34m\u001b[0m\u001b[0m\n\u001b[1;32m      5\u001b[0m \u001b[0ma\u001b[0m \u001b[0;34m=\u001b[0m \u001b[0ma\u001b[0m\u001b[0;34m[\u001b[0m\u001b[0;34m:\u001b[0m\u001b[0;34m,\u001b[0m \u001b[0;34m:\u001b[0m\u001b[0;34m-\u001b[0m\u001b[0;34m(\u001b[0m\u001b[0mnumber_time_frames\u001b[0m\u001b[0;34m%\u001b[0m\u001b[0;36m3\u001b[0m\u001b[0;34m)\u001b[0m\u001b[0;34m]\u001b[0m\u001b[0;34m\u001b[0m\u001b[0;34m\u001b[0m\u001b[0m\n",
            "\u001b[0;31mNameError\u001b[0m: name 'np' is not defined"
          ]
        }
      ]
    },
    {
      "metadata": {
        "id": "CR792v_gVDS0",
        "colab_type": "code",
        "colab": {}
      },
      "cell_type": "code",
      "source": [
        "d = z.transpose((1,2,0,3))\n",
        "d = d.reshape((d.shape[0],-1),order='F')"
      ],
      "execution_count": 0,
      "outputs": []
    },
    {
      "metadata": {
        "id": "-TzizE5aVHvD",
        "colab_type": "code",
        "outputId": "3f0b99b1-d887-4b30-a555-e86ae2460e8b",
        "colab": {
          "base_uri": "https://localhost:8080/",
          "height": 34
        }
      },
      "cell_type": "code",
      "source": [
        "phaseInfo.shape"
      ],
      "execution_count": 0,
      "outputs": [
        {
          "output_type": "execute_result",
          "data": {
            "text/plain": [
              "(883, 13826)"
            ]
          },
          "metadata": {
            "tags": []
          },
          "execution_count": 16
        }
      ]
    },
    {
      "metadata": {
        "id": "HuvNuWKxkmzd",
        "colab_type": "code",
        "outputId": "bf334384-27c6-4924-c39a-6bbc0c2a6946",
        "colab": {
          "base_uri": "https://localhost:8080/",
          "height": 85
        }
      },
      "cell_type": "code",
      "source": [
        "d[0,:,:,0]"
      ],
      "execution_count": 0,
      "outputs": [
        {
          "output_type": "execute_result",
          "data": {
            "text/plain": [
              "array([[  0,   3,   6,   9,  12,  15,  18,  21,  24,  27],\n",
              "       [ 32,  35,  38,  41,  44,  47,  50,  53,  56,  59],\n",
              "       [ 64,  67,  70,  73,  76,  79,  82,  85,  88,  91],\n",
              "       [ 96,  99, 102, 105, 108, 111, 114, 117, 120, 123]])"
            ]
          },
          "metadata": {
            "tags": []
          },
          "execution_count": 72
        }
      ]
    },
    {
      "metadata": {
        "id": "NsOvNGUhlvlQ",
        "colab_type": "code",
        "outputId": "fb141c24-c26e-44b6-b98b-514495022dbc",
        "colab": {
          "base_uri": "https://localhost:8080/",
          "height": 263
        }
      },
      "cell_type": "code",
      "source": [
        "!apt-get install -y -qq software-properties-common python-software-properties module-init-tools\n",
        "!add-apt-repository -y ppa:alessandro-strada/ppa 2>&1 > /dev/null\n",
        "!apt-get update -qq 2>&1 > /dev/null\n",
        "!apt-get -y install -qq google-drive-ocamlfuse fuse\n",
        "from google.colab import auth\n",
        "auth.authenticate_user()\n",
        "from oauth2client.client import GoogleCredentials\n",
        "creds = GoogleCredentials.get_application_default()\n",
        "import getpass\n",
        "!google-drive-ocamlfuse -headless -id={creds.client_id} -secret={creds.client_secret} < /dev/null 2>&1 | grep URL\n",
        "vcode = getpass.getpass()\n",
        "!echo {vcode} | google-drive-ocamlfuse -headless -id={creds.client_id} -secret={creds.client_secret}"
      ],
      "execution_count": 0,
      "outputs": [
        {
          "output_type": "stream",
          "text": [
            "E: Package 'python-software-properties' has no installation candidate\n",
            "Selecting previously unselected package google-drive-ocamlfuse.\n",
            "(Reading database ... 131304 files and directories currently installed.)\n",
            "Preparing to unpack .../google-drive-ocamlfuse_0.7.3-0ubuntu3~ubuntu18.04.1_amd64.deb ...\n",
            "Unpacking google-drive-ocamlfuse (0.7.3-0ubuntu3~ubuntu18.04.1) ...\n",
            "Setting up google-drive-ocamlfuse (0.7.3-0ubuntu3~ubuntu18.04.1) ...\n",
            "Processing triggers for man-db (2.8.3-2ubuntu0.1) ...\n",
            "Please, open the following URL in a web browser: https://accounts.google.com/o/oauth2/auth?client_id=32555940559.apps.googleusercontent.com&redirect_uri=urn%3Aietf%3Awg%3Aoauth%3A2.0%3Aoob&scope=https%3A%2F%2Fwww.googleapis.com%2Fauth%2Fdrive&response_type=code&access_type=offline&approval_prompt=force\n",
            "··········\n",
            "Please, open the following URL in a web browser: https://accounts.google.com/o/oauth2/auth?client_id=32555940559.apps.googleusercontent.com&redirect_uri=urn%3Aietf%3Awg%3Aoauth%3A2.0%3Aoob&scope=https%3A%2F%2Fwww.googleapis.com%2Fauth%2Fdrive&response_type=code&access_type=offline&approval_prompt=force\n",
            "Please enter the verification code: Access token retrieved correctly.\n"
          ],
          "name": "stdout"
        }
      ]
    },
    {
      "metadata": {
        "id": "Db915sy0HPGM",
        "colab_type": "code",
        "colab": {}
      },
      "cell_type": "code",
      "source": [
        "!mkdir -p drive\n",
        "!google-drive-ocamlfuse drive"
      ],
      "execution_count": 0,
      "outputs": []
    },
    {
      "metadata": {
        "id": "2IkZp5QRHdnu",
        "colab_type": "code",
        "outputId": "b8ab82f4-f87b-4438-cc75-f53d3d808d45",
        "colab": {
          "base_uri": "https://localhost:8080/",
          "height": 726
        }
      },
      "cell_type": "code",
      "source": [
        "!ls '/content/drive/Colab Notebooks/mono_1_stereo_HQ.wav'\n",
        "\n",
        "x1, fs = sf.read('/content/drive/Colab Notebooks/mono_1_stereo_HQ.wav')"
      ],
      "execution_count": 0,
      "outputs": [
        {
          "output_type": "stream",
          "text": [
            "'/content/drive/Colab Notebooks/mono_1_stereo_HQ.wav'\n"
          ],
          "name": "stdout"
        },
        {
          "output_type": "error",
          "ename": "KeyboardInterrupt",
          "evalue": "ignored",
          "traceback": [
            "\u001b[0;31m---------------------------------------------------------------------------\u001b[0m",
            "\u001b[0;31mKeyboardInterrupt\u001b[0m                         Traceback (most recent call last)",
            "\u001b[0;32m<ipython-input-7-84d39b73b5e1>\u001b[0m in \u001b[0;36m<module>\u001b[0;34m()\u001b[0m\n\u001b[1;32m      1\u001b[0m \u001b[0mget_ipython\u001b[0m\u001b[0;34m(\u001b[0m\u001b[0;34m)\u001b[0m\u001b[0;34m.\u001b[0m\u001b[0msystem\u001b[0m\u001b[0;34m(\u001b[0m\u001b[0;34m\"ls '/content/drive/Colab Notebooks/mono_1_stereo_HQ.wav'\"\u001b[0m\u001b[0;34m)\u001b[0m\u001b[0;34m\u001b[0m\u001b[0;34m\u001b[0m\u001b[0m\n\u001b[1;32m      2\u001b[0m \u001b[0;34m\u001b[0m\u001b[0m\n\u001b[0;32m----> 3\u001b[0;31m \u001b[0mx1\u001b[0m\u001b[0;34m,\u001b[0m \u001b[0mfs\u001b[0m \u001b[0;34m=\u001b[0m \u001b[0msf\u001b[0m\u001b[0;34m.\u001b[0m\u001b[0mread\u001b[0m\u001b[0;34m(\u001b[0m\u001b[0;34m'/content/drive/Colab Notebooks/mono_1_stereo_HQ.wav'\u001b[0m\u001b[0;34m)\u001b[0m\u001b[0;34m\u001b[0m\u001b[0;34m\u001b[0m\u001b[0m\n\u001b[0m",
            "\u001b[0;32m/usr/local/lib/python3.6/dist-packages/soundfile.py\u001b[0m in \u001b[0;36mread\u001b[0;34m(file, frames, start, stop, dtype, always_2d, fill_value, out, samplerate, channels, format, subtype, endian, closefd)\u001b[0m\n\u001b[1;32m    257\u001b[0m                    subtype, endian, format, closefd) as f:\n\u001b[1;32m    258\u001b[0m         \u001b[0mframes\u001b[0m \u001b[0;34m=\u001b[0m \u001b[0mf\u001b[0m\u001b[0;34m.\u001b[0m\u001b[0m_prepare_read\u001b[0m\u001b[0;34m(\u001b[0m\u001b[0mstart\u001b[0m\u001b[0;34m,\u001b[0m \u001b[0mstop\u001b[0m\u001b[0;34m,\u001b[0m \u001b[0mframes\u001b[0m\u001b[0;34m)\u001b[0m\u001b[0;34m\u001b[0m\u001b[0;34m\u001b[0m\u001b[0m\n\u001b[0;32m--> 259\u001b[0;31m         \u001b[0mdata\u001b[0m \u001b[0;34m=\u001b[0m \u001b[0mf\u001b[0m\u001b[0;34m.\u001b[0m\u001b[0mread\u001b[0m\u001b[0;34m(\u001b[0m\u001b[0mframes\u001b[0m\u001b[0;34m,\u001b[0m \u001b[0mdtype\u001b[0m\u001b[0;34m,\u001b[0m \u001b[0malways_2d\u001b[0m\u001b[0;34m,\u001b[0m \u001b[0mfill_value\u001b[0m\u001b[0;34m,\u001b[0m \u001b[0mout\u001b[0m\u001b[0;34m)\u001b[0m\u001b[0;34m\u001b[0m\u001b[0;34m\u001b[0m\u001b[0m\n\u001b[0m\u001b[1;32m    260\u001b[0m     \u001b[0;32mreturn\u001b[0m \u001b[0mdata\u001b[0m\u001b[0;34m,\u001b[0m \u001b[0mf\u001b[0m\u001b[0;34m.\u001b[0m\u001b[0msamplerate\u001b[0m\u001b[0;34m\u001b[0m\u001b[0;34m\u001b[0m\u001b[0m\n\u001b[1;32m    261\u001b[0m \u001b[0;34m\u001b[0m\u001b[0m\n",
            "\u001b[0;32m/usr/local/lib/python3.6/dist-packages/soundfile.py\u001b[0m in \u001b[0;36mread\u001b[0;34m(self, frames, dtype, always_2d, fill_value, out)\u001b[0m\n\u001b[1;32m    863\u001b[0m             \u001b[0;32mif\u001b[0m \u001b[0mframes\u001b[0m \u001b[0;34m<\u001b[0m \u001b[0;36m0\u001b[0m \u001b[0;32mor\u001b[0m \u001b[0mframes\u001b[0m \u001b[0;34m>\u001b[0m \u001b[0mlen\u001b[0m\u001b[0;34m(\u001b[0m\u001b[0mout\u001b[0m\u001b[0;34m)\u001b[0m\u001b[0;34m:\u001b[0m\u001b[0;34m\u001b[0m\u001b[0;34m\u001b[0m\u001b[0m\n\u001b[1;32m    864\u001b[0m                 \u001b[0mframes\u001b[0m \u001b[0;34m=\u001b[0m \u001b[0mlen\u001b[0m\u001b[0;34m(\u001b[0m\u001b[0mout\u001b[0m\u001b[0;34m)\u001b[0m\u001b[0;34m\u001b[0m\u001b[0;34m\u001b[0m\u001b[0m\n\u001b[0;32m--> 865\u001b[0;31m         \u001b[0mframes\u001b[0m \u001b[0;34m=\u001b[0m \u001b[0mself\u001b[0m\u001b[0;34m.\u001b[0m\u001b[0m_array_io\u001b[0m\u001b[0;34m(\u001b[0m\u001b[0;34m'read'\u001b[0m\u001b[0;34m,\u001b[0m \u001b[0mout\u001b[0m\u001b[0;34m,\u001b[0m \u001b[0mframes\u001b[0m\u001b[0;34m)\u001b[0m\u001b[0;34m\u001b[0m\u001b[0;34m\u001b[0m\u001b[0m\n\u001b[0m\u001b[1;32m    866\u001b[0m         \u001b[0;32mif\u001b[0m \u001b[0mlen\u001b[0m\u001b[0;34m(\u001b[0m\u001b[0mout\u001b[0m\u001b[0;34m)\u001b[0m \u001b[0;34m>\u001b[0m \u001b[0mframes\u001b[0m\u001b[0;34m:\u001b[0m\u001b[0;34m\u001b[0m\u001b[0;34m\u001b[0m\u001b[0m\n\u001b[1;32m    867\u001b[0m             \u001b[0;32mif\u001b[0m \u001b[0mfill_value\u001b[0m \u001b[0;32mis\u001b[0m \u001b[0;32mNone\u001b[0m\u001b[0;34m:\u001b[0m\u001b[0;34m\u001b[0m\u001b[0;34m\u001b[0m\u001b[0m\n",
            "\u001b[0;32m/usr/local/lib/python3.6/dist-packages/soundfile.py\u001b[0m in \u001b[0;36m_array_io\u001b[0;34m(self, action, array, frames)\u001b[0m\n\u001b[1;32m   1308\u001b[0m         \u001b[0;32massert\u001b[0m \u001b[0marray\u001b[0m\u001b[0;34m.\u001b[0m\u001b[0mdtype\u001b[0m\u001b[0;34m.\u001b[0m\u001b[0mitemsize\u001b[0m \u001b[0;34m==\u001b[0m \u001b[0m_ffi\u001b[0m\u001b[0;34m.\u001b[0m\u001b[0msizeof\u001b[0m\u001b[0;34m(\u001b[0m\u001b[0mctype\u001b[0m\u001b[0;34m)\u001b[0m\u001b[0;34m\u001b[0m\u001b[0;34m\u001b[0m\u001b[0m\n\u001b[1;32m   1309\u001b[0m         \u001b[0mcdata\u001b[0m \u001b[0;34m=\u001b[0m \u001b[0m_ffi\u001b[0m\u001b[0;34m.\u001b[0m\u001b[0mcast\u001b[0m\u001b[0;34m(\u001b[0m\u001b[0mctype\u001b[0m \u001b[0;34m+\u001b[0m \u001b[0;34m'*'\u001b[0m\u001b[0;34m,\u001b[0m \u001b[0marray\u001b[0m\u001b[0;34m.\u001b[0m\u001b[0m__array_interface__\u001b[0m\u001b[0;34m[\u001b[0m\u001b[0;34m'data'\u001b[0m\u001b[0;34m]\u001b[0m\u001b[0;34m[\u001b[0m\u001b[0;36m0\u001b[0m\u001b[0;34m]\u001b[0m\u001b[0;34m)\u001b[0m\u001b[0;34m\u001b[0m\u001b[0;34m\u001b[0m\u001b[0m\n\u001b[0;32m-> 1310\u001b[0;31m         \u001b[0;32mreturn\u001b[0m \u001b[0mself\u001b[0m\u001b[0;34m.\u001b[0m\u001b[0m_cdata_io\u001b[0m\u001b[0;34m(\u001b[0m\u001b[0maction\u001b[0m\u001b[0;34m,\u001b[0m \u001b[0mcdata\u001b[0m\u001b[0;34m,\u001b[0m \u001b[0mctype\u001b[0m\u001b[0;34m,\u001b[0m \u001b[0mframes\u001b[0m\u001b[0;34m)\u001b[0m\u001b[0;34m\u001b[0m\u001b[0;34m\u001b[0m\u001b[0m\n\u001b[0m\u001b[1;32m   1311\u001b[0m \u001b[0;34m\u001b[0m\u001b[0m\n\u001b[1;32m   1312\u001b[0m     \u001b[0;32mdef\u001b[0m \u001b[0m_cdata_io\u001b[0m\u001b[0;34m(\u001b[0m\u001b[0mself\u001b[0m\u001b[0;34m,\u001b[0m \u001b[0maction\u001b[0m\u001b[0;34m,\u001b[0m \u001b[0mdata\u001b[0m\u001b[0;34m,\u001b[0m \u001b[0mctype\u001b[0m\u001b[0;34m,\u001b[0m \u001b[0mframes\u001b[0m\u001b[0;34m)\u001b[0m\u001b[0;34m:\u001b[0m\u001b[0;34m\u001b[0m\u001b[0;34m\u001b[0m\u001b[0m\n",
            "\u001b[0;32m/usr/local/lib/python3.6/dist-packages/soundfile.py\u001b[0m in \u001b[0;36m_cdata_io\u001b[0;34m(self, action, data, ctype, frames)\u001b[0m\n\u001b[1;32m   1317\u001b[0m             \u001b[0mcurr\u001b[0m \u001b[0;34m=\u001b[0m \u001b[0mself\u001b[0m\u001b[0;34m.\u001b[0m\u001b[0mtell\u001b[0m\u001b[0;34m(\u001b[0m\u001b[0;34m)\u001b[0m\u001b[0;34m\u001b[0m\u001b[0;34m\u001b[0m\u001b[0m\n\u001b[1;32m   1318\u001b[0m         \u001b[0mfunc\u001b[0m \u001b[0;34m=\u001b[0m \u001b[0mgetattr\u001b[0m\u001b[0;34m(\u001b[0m\u001b[0m_snd\u001b[0m\u001b[0;34m,\u001b[0m \u001b[0;34m'sf_'\u001b[0m \u001b[0;34m+\u001b[0m \u001b[0maction\u001b[0m \u001b[0;34m+\u001b[0m \u001b[0;34m'f_'\u001b[0m \u001b[0;34m+\u001b[0m \u001b[0mctype\u001b[0m\u001b[0;34m)\u001b[0m\u001b[0;34m\u001b[0m\u001b[0;34m\u001b[0m\u001b[0m\n\u001b[0;32m-> 1319\u001b[0;31m         \u001b[0mframes\u001b[0m \u001b[0;34m=\u001b[0m \u001b[0mfunc\u001b[0m\u001b[0;34m(\u001b[0m\u001b[0mself\u001b[0m\u001b[0;34m.\u001b[0m\u001b[0m_file\u001b[0m\u001b[0;34m,\u001b[0m \u001b[0mdata\u001b[0m\u001b[0;34m,\u001b[0m \u001b[0mframes\u001b[0m\u001b[0;34m)\u001b[0m\u001b[0;34m\u001b[0m\u001b[0;34m\u001b[0m\u001b[0m\n\u001b[0m\u001b[1;32m   1320\u001b[0m         \u001b[0m_error_check\u001b[0m\u001b[0;34m(\u001b[0m\u001b[0mself\u001b[0m\u001b[0;34m.\u001b[0m\u001b[0m_errorcode\u001b[0m\u001b[0;34m)\u001b[0m\u001b[0;34m\u001b[0m\u001b[0;34m\u001b[0m\u001b[0m\n\u001b[1;32m   1321\u001b[0m         \u001b[0;32mif\u001b[0m \u001b[0mself\u001b[0m\u001b[0;34m.\u001b[0m\u001b[0mseekable\u001b[0m\u001b[0;34m(\u001b[0m\u001b[0;34m)\u001b[0m\u001b[0;34m:\u001b[0m\u001b[0;34m\u001b[0m\u001b[0;34m\u001b[0m\u001b[0m\n",
            "\u001b[0;31mKeyboardInterrupt\u001b[0m: "
          ]
        }
      ]
    },
    {
      "metadata": {
        "id": "AaCc226VHoXn",
        "colab_type": "code",
        "outputId": "2a98ad13-eb27-4e30-bf4d-41774f8020fe",
        "colab": {
          "base_uri": "https://localhost:8080/",
          "height": 34
        }
      },
      "cell_type": "code",
      "source": [
        "frame_length_s = 0.04\n",
        "fs = 44100\n",
        "int(2**np.ceil(np.log2(fs*frame_length_s)))\n",
        "int(fs*frame_length_s)"
      ],
      "execution_count": 0,
      "outputs": [
        {
          "output_type": "execute_result",
          "data": {
            "text/plain": [
              "1764"
            ]
          },
          "metadata": {
            "tags": []
          },
          "execution_count": 52
        }
      ]
    },
    {
      "metadata": {
        "id": "OEDDZWUiK8eE",
        "colab_type": "code",
        "colab": {}
      },
      "cell_type": "code",
      "source": [
        ""
      ],
      "execution_count": 0,
      "outputs": []
    }
  ]
}